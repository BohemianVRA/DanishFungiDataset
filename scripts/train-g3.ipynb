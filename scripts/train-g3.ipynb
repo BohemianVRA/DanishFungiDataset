{
 "cells": [
  {
   "cell_type": "code",
   "execution_count": 1,
   "id": "3354cfc1-8399-442c-8ed6-ed2a45a971d0",
   "metadata": {},
   "outputs": [],
   "source": [
    "import warnings\n",
    "warnings.filterwarnings(\"ignore\")"
   ]
  },
  {
   "cell_type": "code",
   "execution_count": 2,
   "id": "f6fc25be-7c87-4d0c-bbb8-440f0be642b6",
   "metadata": {
    "tags": []
   },
   "outputs": [
    {
     "name": "stdout",
     "output_type": "stream",
     "text": [
      "env: CUDA_DEVICES=0\n",
      "env: WANDB_ENTITY=zcu_cv\n",
      "env: WANDB_PROJECT=DF24\n"
     ]
    }
   ],
   "source": [
    "%env CUDA_DEVICES = 0\n",
    "%env WANDB_ENTITY = zcu_cv\n",
    "%env WANDB_PROJECT = DF24"
   ]
  },
  {
   "cell_type": "code",
   "execution_count": 3,
   "id": "7c3e1193-26c4-4a13-8cf2-f5daef8499f5",
   "metadata": {
    "tags": []
   },
   "outputs": [],
   "source": [
    "import os\n",
    "os.environ[\"CUDA_VISIBLE_DEVICES\"] = os.environ[\"CUDA_DEVICES\"]"
   ]
  },
  {
   "cell_type": "code",
   "execution_count": 4,
   "id": "62fef7b6-9a8f-4582-889d-6f4cff185be2",
   "metadata": {
    "tags": []
   },
   "outputs": [
    {
     "name": "stdout",
     "output_type": "stream",
     "text": [
      "Thu May 23 08:51:52 2024       \n",
      "+-----------------------------------------------------------------------------------------+\n",
      "| NVIDIA-SMI 550.54.14              Driver Version: 550.54.14      CUDA Version: 12.4     |\n",
      "|-----------------------------------------+------------------------+----------------------+\n",
      "| GPU  Name                 Persistence-M | Bus-Id          Disp.A | Volatile Uncorr. ECC |\n",
      "| Fan  Temp   Perf          Pwr:Usage/Cap |           Memory-Usage | GPU-Util  Compute M. |\n",
      "|                                         |                        |               MIG M. |\n",
      "|=========================================+========================+======================|\n",
      "|   0  NVIDIA A40                     On  |   00000000:E1:00.0 Off |                    0 |\n",
      "|  0%   33C    P8             22W /  300W |       0MiB /  46068MiB |      0%      Default |\n",
      "|                                         |                        |                  N/A |\n",
      "+-----------------------------------------+------------------------+----------------------+\n",
      "                                                                                         \n",
      "+-----------------------------------------------------------------------------------------+\n",
      "| Processes:                                                                              |\n",
      "|  GPU   GI   CI        PID   Type   Process name                              GPU Memory |\n",
      "|        ID   ID                                                               Usage      |\n",
      "|=========================================================================================|\n",
      "|  No running processes found                                                             |\n",
      "+-----------------------------------------------------------------------------------------+\n"
     ]
    }
   ],
   "source": [
    "!nvidia-smi"
   ]
  },
  {
   "cell_type": "code",
   "execution_count": 5,
   "id": "a3e4dad5-1b74-469f-ab41-a8f0ff25e905",
   "metadata": {},
   "outputs": [
    {
     "name": "stdout",
     "output_type": "stream",
     "text": [
      "\u001b[34m\u001b[1mwandb\u001b[0m: Creating sweep from: ../sweep/DF24_224_LR0.01.yaml\n",
      "\u001b[34m\u001b[1mwandb\u001b[0m: Created sweep with ID: \u001b[33mkudeczv0\u001b[0m\n",
      "\u001b[34m\u001b[1mwandb\u001b[0m: View sweep at: \u001b[34m\u001b[4mhttps://wandb.ai/zcu_cv/DF24/sweeps/kudeczv0\u001b[0m\n",
      "\u001b[34m\u001b[1mwandb\u001b[0m: Run sweep agent with: \u001b[33mwandb agent zcu_cv/DF24/kudeczv0\u001b[0m\n"
     ]
    }
   ],
   "source": [
    "!wandb sweep ../sweep/DF24_224_LR0.01.yaml"
   ]
  },
  {
   "cell_type": "code",
   "execution_count": null,
   "id": "812990e2-2f66-4a37-a3e9-98497239c31c",
   "metadata": {},
   "outputs": [],
   "source": [
    "!wandb agent zcu_cv/DF24/kudeczv0"
   ]
  },
  {
   "cell_type": "code",
   "execution_count": null,
   "id": "b9abbdd8-0f4b-4a47-8a1e-2ee7cbafc7c9",
   "metadata": {},
   "outputs": [],
   "source": []
  },
  {
   "cell_type": "code",
   "execution_count": null,
   "id": "25d72d3e-c8a4-432c-aeaf-b5cf13033c92",
   "metadata": {
    "tags": []
   },
   "outputs": [
    {
     "name": "stdout",
     "output_type": "stream",
     "text": [
      "(script) INFO: Loading training config.\n",
      "(script) DEBUG: Extra arguments passed to the script: {}\n",
      "(script) INFO: Setting run name: convnext_base.fb_in1k-SeeSawLoss-vit_heavy\n",
      "(script) INFO: Using experiment directory: ../runs/convnext_base.fb_in1k-SeeSawLoss-vit_heavy/exp9\n",
      "(script) INFO: Using training configuration: {\n",
      "    \"augmentations\": \"vit_heavy\",\n",
      "    \"image_size\": [\n",
      "        224,\n",
      "        224\n",
      "    ],\n",
      "    \"dataset\": \"DF24\",\n",
      "    \"architecture\": \"convnext_base.fb_in1k\",\n",
      "    \"train\": null,\n",
      "    \"loss\": \"SeeSawLoss\",\n",
      "    \"optimizer\": \"SGD\",\n",
      "    \"scheduler\": \"plateau\",\n",
      "    \"epochs\": 50,\n",
      "    \"learning_rate\": 0.01,\n",
      "    \"batch_size\": 32,\n",
      "    \"accumulation_steps\": 8,\n",
      "    \"random_seed\": 777,\n",
      "    \"workers\": 8,\n",
      "    \"multigpu\": false,\n",
      "    \"tags\": [\n",
      "        \"DanishFungi2024\",\n",
      "        \"224x224\",\n",
      "        \"Convolutional\"\n",
      "    ],\n",
      "    \"root_path\": \"../\",\n",
      "    \"run_name\": \"convnext_base.fb_in1k-SeeSawLoss-vit_heavy\",\n",
      "    \"exp_name\": \"exp9\",\n",
      "    \"exp_path\": \"../runs/convnext_base.fb_in1k-SeeSawLoss-vit_heavy/exp9\"\n",
      "}\n",
      "(fgvc) INFO: Using device: cuda (0)\n",
      "(fgvc) INFO: Device names: 0: NVIDIA A40\n",
      "(script) INFO: Loading training and validation metadata.\n",
      "danish_fungi_train.py:38: DtypeWarning: Columns (5,6,17,21,50,51) have mixed types. Specify dtype option on import or set low_memory=False.\n",
      "  train_df = pd.read_csv(\"../metadata/DanishFungi2024-train-metadata-full-DEV.csv\")\n",
      "danish_fungi_train.py:44: DtypeWarning: Columns (5,6) have mixed types. Specify dtype option on import or set low_memory=False.\n",
      "  test_df = pd.read_csv(\"../metadata/DanishFungi2024-test-metadata-full-DEV.csv\")\n",
      "(script) INFO: Creating model, optimizer, and scheduler.\n",
      "(fgvc) DEBUG: Setting new prediction head with random initial weights.\n",
      "(script) INFO: Creating DataLoaders.\n",
      "/usr/local/lib/python3.8/dist-packages/torch/utils/data/dataloader.py:556: UserWarning: This DataLoader will create 8 worker processes in total. Our suggested max number of worker in current system is 4, which is smaller than what this DataLoader is going to create. Please be aware that excessive worker creation might get DataLoader running slow or even freeze, lower the worker number to avoid potential slowness/freeze if necessary.\n",
      "  warnings.warn(_create_warning_msg(\n",
      "(script) INFO: Creating loss function.\n",
      "torch.float32\n",
      "\u001b[34m\u001b[1mwandb\u001b[0m: Currently logged in as: \u001b[33mpicekl\u001b[0m (\u001b[33mzcu_cv\u001b[0m). Use \u001b[1m`wandb login --relogin`\u001b[0m to force relogin\n",
      "\u001b[34m\u001b[1mwandb\u001b[0m: wandb version 0.17.0 is available!  To upgrade, please run:\n",
      "\u001b[34m\u001b[1mwandb\u001b[0m:  $ pip install wandb --upgrade\n",
      "\u001b[34m\u001b[1mwandb\u001b[0m: Tracking run with wandb version 0.13.11\n",
      "\u001b[34m\u001b[1mwandb\u001b[0m: Run data is saved locally in \u001b[35m\u001b[1m/auto/plzen4-ntis/home/picekl/Projects/DanishFungiDataset/scripts/wandb/run-20240523_085321-cb78szpt\u001b[0m\n",
      "\u001b[34m\u001b[1mwandb\u001b[0m: Run \u001b[1m`wandb offline`\u001b[0m to turn off syncing.\n",
      "\u001b[34m\u001b[1mwandb\u001b[0m: Syncing run \u001b[33mconvnext_base.fb_in1k-SeeSawLoss-vit_heavy\u001b[0m\n",
      "\u001b[34m\u001b[1mwandb\u001b[0m: ⭐️ View project at \u001b[34m\u001b[4mhttps://wandb.ai/zcu_cv/DF24\u001b[0m\n",
      "\u001b[34m\u001b[1mwandb\u001b[0m: 🚀 View run at \u001b[34m\u001b[4mhttps://wandb.ai/zcu_cv/DF24/runs/cb78szpt\u001b[0m\n",
      "(script) INFO: Training the model.\n",
      "2024-05-23 08:53:22,303 - fgvc-training - INFO - Training started.\n",
      "/usr/local/lib/python3.8/dist-packages/torch/utils/data/dataloader.py:556: UserWarning: This DataLoader will create 8 worker processes in total. Our suggested max number of worker in current system is 4, which is smaller than what this DataLoader is going to create. Please be aware that excessive worker creation might get DataLoader running slow or even freeze, lower the worker number to avoid potential slowness/freeze if necessary.\n",
      "  warnings.warn(_create_warning_msg(\n",
      " 24%|████████▋                           | 3298/13650 [22:03<1:09:20,  2.49it/s]"
     ]
    }
   ],
   "source": [
    "!python danish_fungi_train.py \\\n",
    "    --config-path ../config/DF24_224_convnext_base.fb_in1k.yaml \\\n",
    "    --cuda-devices $CUDA_DEVICES \\\n",
    "    --wandb-entity $WANDB_ENTITY \\\n",
    "    --wandb-project $WANDB_PROJECT"
   ]
  },
  {
   "cell_type": "code",
   "execution_count": null,
   "id": "4aa79f6c-f36d-4c9b-9f83-9acba1f704c9",
   "metadata": {},
   "outputs": [],
   "source": []
  }
 ],
 "metadata": {
  "kernelspec": {
   "display_name": "Python 3 (ipykernel)",
   "language": "python",
   "name": "python3"
  },
  "language_info": {
   "codemirror_mode": {
    "name": "ipython",
    "version": 3
   },
   "file_extension": ".py",
   "mimetype": "text/x-python",
   "name": "python",
   "nbconvert_exporter": "python",
   "pygments_lexer": "ipython3",
   "version": "3.8.10"
  }
 },
 "nbformat": 4,
 "nbformat_minor": 5
}
