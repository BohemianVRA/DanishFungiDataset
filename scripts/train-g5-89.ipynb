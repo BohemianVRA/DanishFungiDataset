{
 "cells": [
  {
   "cell_type": "code",
   "execution_count": 1,
   "id": "3354cfc1-8399-442c-8ed6-ed2a45a971d0",
   "metadata": {},
   "outputs": [],
   "source": [
    "import warnings\n",
    "warnings.filterwarnings(\"ignore\")"
   ]
  },
  {
   "cell_type": "code",
   "execution_count": 2,
   "id": "f6fc25be-7c87-4d0c-bbb8-440f0be642b6",
   "metadata": {
    "tags": []
   },
   "outputs": [
    {
     "name": "stdout",
     "output_type": "stream",
     "text": [
      "env: CUDA_DEVICES=0\n",
      "env: WANDB_ENTITY=zcu_cv\n",
      "env: WANDB_PROJECT=DF24\n"
     ]
    }
   ],
   "source": [
    "%env CUDA_DEVICES = 0\n",
    "%env WANDB_ENTITY = zcu_cv\n",
    "%env WANDB_PROJECT = DF24"
   ]
  },
  {
   "cell_type": "code",
   "execution_count": 3,
   "id": "7c3e1193-26c4-4a13-8cf2-f5daef8499f5",
   "metadata": {
    "tags": []
   },
   "outputs": [],
   "source": [
    "import os\n",
    "os.environ[\"CUDA_VISIBLE_DEVICES\"] = os.environ[\"CUDA_DEVICES\"]"
   ]
  },
  {
   "cell_type": "code",
   "execution_count": 4,
   "id": "62fef7b6-9a8f-4582-889d-6f4cff185be2",
   "metadata": {
    "tags": []
   },
   "outputs": [
    {
     "name": "stdout",
     "output_type": "stream",
     "text": [
      "Tue May 21 07:03:32 2024       \n",
      "+-----------------------------------------------------------------------------------------+\n",
      "| NVIDIA-SMI 550.54.14              Driver Version: 550.54.14      CUDA Version: 12.4     |\n",
      "|-----------------------------------------+------------------------+----------------------+\n",
      "| GPU  Name                 Persistence-M | Bus-Id          Disp.A | Volatile Uncorr. ECC |\n",
      "| Fan  Temp   Perf          Pwr:Usage/Cap |           Memory-Usage | GPU-Util  Compute M. |\n",
      "|                                         |                        |               MIG M. |\n",
      "|=========================================+========================+======================|\n",
      "|   0  NVIDIA A40                     On  |   00000000:E1:00.0 Off |                    0 |\n",
      "|  0%   35C    P8             22W /  300W |       0MiB /  46068MiB |      0%      Default |\n",
      "|                                         |                        |                  N/A |\n",
      "+-----------------------------------------+------------------------+----------------------+\n",
      "                                                                                         \n",
      "+-----------------------------------------------------------------------------------------+\n",
      "| Processes:                                                                              |\n",
      "|  GPU   GI   CI        PID   Type   Process name                              GPU Memory |\n",
      "|        ID   ID                                                               Usage      |\n",
      "|=========================================================================================|\n",
      "|  No running processes found                                                             |\n",
      "+-----------------------------------------------------------------------------------------+\n"
     ]
    }
   ],
   "source": [
    "!nvidia-smi"
   ]
  },
  {
   "cell_type": "code",
   "execution_count": null,
   "id": "a3e4dad5-1b74-469f-ab41-a8f0ff25e905",
   "metadata": {},
   "outputs": [],
   "source": [
    "# !wandb sweep ../sweep/DF24M_224_sweep.yaml"
   ]
  },
  {
   "cell_type": "code",
   "execution_count": null,
   "id": "812990e2-2f66-4a37-a3e9-98497239c31c",
   "metadata": {},
   "outputs": [],
   "source": [
    "!wandb agent zcu_cv/DF24/kudeczv0"
   ]
  },
  {
   "cell_type": "code",
   "execution_count": null,
   "id": "9ef52250-1468-4d68-abe3-28810857e56e",
   "metadata": {},
   "outputs": [],
   "source": [
    "!python danish_fungi_train.py \\\n",
    "    --config-path ../config/DF24_224_resnet50.a1_in1k.yaml \\\n",
    "    --cuda-devices $CUDA_DEVICES \\\n",
    "    --wandb-entity $WANDB_ENTITY \\\n",
    "    --wandb-project $WANDB_PROJECT"
   ]
  },
  {
   "cell_type": "code",
   "execution_count": null,
   "id": "6387df1e-0857-4b84-8e28-e38075974af7",
   "metadata": {},
   "outputs": [],
   "source": []
  }
 ],
 "metadata": {
  "kernelspec": {
   "display_name": "Python 3 (ipykernel)",
   "language": "python",
   "name": "python3"
  },
  "language_info": {
   "codemirror_mode": {
    "name": "ipython",
    "version": 3
   },
   "file_extension": ".py",
   "mimetype": "text/x-python",
   "name": "python",
   "nbconvert_exporter": "python",
   "pygments_lexer": "ipython3",
   "version": "3.8.10"
  }
 },
 "nbformat": 4,
 "nbformat_minor": 5
}
