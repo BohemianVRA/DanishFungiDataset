{
 "cells": [
  {
   "cell_type": "code",
   "execution_count": 1,
   "id": "e85dd52c-5f77-48b3-89cf-eeeaa0961714",
   "metadata": {},
   "outputs": [],
   "source": [
    "import warnings\n",
    "warnings.filterwarnings(\"ignore\")"
   ]
  },
  {
   "cell_type": "code",
   "execution_count": 2,
   "id": "5e328fad-c4f1-4bc3-af18-85641a56d657",
   "metadata": {},
   "outputs": [
    {
     "name": "stdout",
     "output_type": "stream",
     "text": [
      "env: CUDA_DEVICES=0\n",
      "env: WANDB_ENTITY=zcu_cv\n",
      "env: WANDB_PROJECT=DanishFungi2024\n"
     ]
    }
   ],
   "source": [
    "%env CUDA_DEVICES = 0\n",
    "%env WANDB_ENTITY = zcu_cv\n",
    "%env WANDB_PROJECT = DanishFungi2024"
   ]
  },
  {
   "cell_type": "code",
   "execution_count": 3,
   "id": "ad80efbd-01a6-44a3-bdb1-eb4d571394f2",
   "metadata": {},
   "outputs": [],
   "source": [
    "import os\n",
    "os.environ[\"CUDA_VISIBLE_DEVICES\"] = os.environ[\"CUDA_DEVICES\"]"
   ]
  },
  {
   "cell_type": "code",
   "execution_count": 4,
   "id": "75cf0aa7-fe8b-44f2-946d-6d68c9802387",
   "metadata": {},
   "outputs": [
    {
     "name": "stdout",
     "output_type": "stream",
     "text": [
      "Tue May 28 00:02:56 2024       \n",
      "+-----------------------------------------------------------------------------------------+\n",
      "| NVIDIA-SMI 550.78                 Driver Version: 550.78         CUDA Version: 12.4     |\n",
      "|-----------------------------------------+------------------------+----------------------+\n",
      "| GPU  Name                 Persistence-M | Bus-Id          Disp.A | Volatile Uncorr. ECC |\n",
      "| Fan  Temp   Perf          Pwr:Usage/Cap |           Memory-Usage | GPU-Util  Compute M. |\n",
      "|                                         |                        |               MIG M. |\n",
      "|=========================================+========================+======================|\n",
      "|   0  NVIDIA GeForce RTX 3090        On  |   00000000:01:00.0 Off |                  N/A |\n",
      "| 30%   34C    P8             24W /  350W |       2MiB /  24576MiB |      0%      Default |\n",
      "|                                         |                        |                  N/A |\n",
      "+-----------------------------------------+------------------------+----------------------+\n",
      "|   1  NVIDIA GeForce RTX 3090        On  |   00000000:C1:00.0 Off |                  N/A |\n",
      "| 30%   23C    P8             17W /  350W |       2MiB /  24576MiB |      0%      Default |\n",
      "|                                         |                        |                  N/A |\n",
      "+-----------------------------------------+------------------------+----------------------+\n",
      "                                                                                         \n",
      "+-----------------------------------------------------------------------------------------+\n",
      "| Processes:                                                                              |\n",
      "|  GPU   GI   CI        PID   Type   Process name                              GPU Memory |\n",
      "|        ID   ID                                                               Usage      |\n",
      "|=========================================================================================|\n",
      "|  No running processes found                                                             |\n",
      "+-----------------------------------------------------------------------------------------+\n"
     ]
    }
   ],
   "source": [
    "!nvidia-smi"
   ]
  },
  {
   "cell_type": "code",
   "execution_count": 5,
   "id": "ebf4b00a-5f6b-46c8-9dbf-6a7966b27986",
   "metadata": {},
   "outputs": [
    {
     "name": "stdout",
     "output_type": "stream",
     "text": [
      "\u001b[34m\u001b[1mwandb\u001b[0m: Creating sweep from: ../sweep_configs/DF24M_384_LR0.1.yaml\n",
      "\u001b[34m\u001b[1mwandb\u001b[0m: Created sweep with ID: \u001b[33mpxfnch4i\u001b[0m\n",
      "\u001b[34m\u001b[1mwandb\u001b[0m: View sweep at: \u001b[34m\u001b[4mhttps://wandb.ai/zcu_cv/DanishFungi2024/sweeps/pxfnch4i\u001b[0m\n",
      "\u001b[34m\u001b[1mwandb\u001b[0m: Run sweep agent with: \u001b[33mwandb agent zcu_cv/DanishFungi2024/pxfnch4i\u001b[0m\n"
     ]
    }
   ],
   "source": [
    "!wandb sweep ../sweep_configs/DF24M_384_LR0.1.yaml"
   ]
  },
  {
   "cell_type": "code",
   "execution_count": 6,
   "id": "df62e6b5-de00-43d2-ac54-38d122c9a524",
   "metadata": {},
   "outputs": [
    {
     "name": "stdout",
     "output_type": "stream",
     "text": [
      "\u001b[34m\u001b[1mwandb\u001b[0m: Starting wandb agent 🕵️\n",
      "2024-05-28 00:03:23,350 - wandb.wandb_agent - INFO - Running runs: []\n",
      "2024-05-28 00:03:23,650 - wandb.wandb_agent - INFO - Agent received command: run\n",
      "2024-05-28 00:03:23,650 - wandb.wandb_agent - INFO - Agent starting run with config:\n",
      "\tarchitecture: vit_base_patch16_384.augreg_in21k_ft_in1k\n",
      "2024-05-28 00:03:23,651 - wandb.wandb_agent - INFO - About to run command: /usr/bin/env python danish_fungi_train.py --config-path ../configs/DF24m_384_config.yaml --wandb-entity zcu_cv --wandb-project DanishFungi2024 --architecture=vit_base_patch16_384.augreg_in21k_ft_in1k\n",
      "2024-05-28 00:03:28,664 - wandb.wandb_agent - INFO - Running runs: ['2w3kor6p']\n",
      "(script) INFO: Loading training config.\n",
      "(script) DEBUG: Extra arguments passed to the script: {'architecture': 'vit_base_patch16_384.augreg_in21k_ft_in1k'}\n",
      "(script) DEBUG: Changing config value architecture: vit_base_patch16_384 -> vit_base_patch16_384.augreg_in21k_ft_in1k\n",
      "(script) INFO: Setting run name: vit_base_patch16_384.augreg_in21k_ft_in1k-SeeSawLoss-vit_heavy\n",
      "(script) INFO: Using experiment directory: ../runs/vit_base_patch16_384.augreg_in21k_ft_in1k-SeeSawLoss-vit_heavy/exp8\n",
      "(script) INFO: Using training configuration: {\n",
      "    \"augmentations\": \"vit_heavy\",\n",
      "    \"image_size\": [\n",
      "        384,\n",
      "        384\n",
      "    ],\n",
      "    \"dataset\": \"DF24m\",\n",
      "    \"architecture\": \"vit_base_patch16_384.augreg_in21k_ft_in1k\",\n",
      "    \"train\": null,\n",
      "    \"loss\": \"SeeSawLoss\",\n",
      "    \"optimizer\": \"SGD\",\n",
      "    \"scheduler\": \"plateau\",\n",
      "    \"epochs\": 50,\n",
      "    \"learning_rate\": 0.01,\n",
      "    \"batch_size\": 32,\n",
      "    \"accumulation_steps\": 8,\n",
      "    \"random_seed\": 777,\n",
      "    \"workers\": 12,\n",
      "    \"multigpu\": false,\n",
      "    \"tags\": [\n",
      "        \"DF24-CloseSet\",\n",
      "        \"384x384\",\n",
      "        \"Transformers\"\n",
      "    ],\n",
      "    \"root_path\": \"../\",\n",
      "    \"run_name\": \"vit_base_patch16_384.augreg_in21k_ft_in1k-SeeSawLoss-vit_heavy\",\n",
      "    \"exp_name\": \"exp8\",\n",
      "    \"exp_path\": \"../runs/vit_base_patch16_384.augreg_in21k_ft_in1k-SeeSawLoss-vit_heavy/exp8\"\n",
      "}\n",
      "(fgvc) INFO: Using device: cuda (0)\n",
      "(fgvc) INFO: Device names: 0: NVIDIA GeForce RTX 3090\n",
      "(script) INFO: Loading training and validation metadata.\n",
      "(script) INFO: Creating model, optimizer, and scheduler.\n",
      "INFO:timm.models._builder:Loading pretrained weights from Hugging Face hub (timm/vit_base_patch16_384.augreg_in21k_ft_in1k)\n",
      "INFO:timm.models._hub:[timm/vit_base_patch16_384.augreg_in21k_ft_in1k] Safe alternative available for 'pytorch_model.bin' (as 'model.safetensors'). Loading weights using safetensors.\n",
      "(fgvc) DEBUG: Setting new prediction head with random initial weights.\n",
      "/home.stud/picekluk/.local/lib/python3.8/site-packages/torch/optim/lr_scheduler.py:28: UserWarning: The verbose parameter is deprecated. Please use get_last_lr() to access the learning rate.\n",
      "  warnings.warn(\"The verbose parameter is deprecated. Please use get_last_lr() \"\n",
      "(script) INFO: Creating DataLoaders.\n",
      "(script) INFO: Creating loss function.\n",
      "torch.float32\n",
      "\u001b[34m\u001b[1mwandb\u001b[0m: Currently logged in as: \u001b[33mpicekl\u001b[0m (use `wandb login --relogin` to force relogin)\n",
      "\u001b[34m\u001b[1mwandb\u001b[0m: \u001b[33mWARNING\u001b[0m Ignored wandb.init() arg project when running a sweep.\n",
      "\u001b[34m\u001b[1mwandb\u001b[0m: \u001b[33mWARNING\u001b[0m Ignored wandb.init() arg entity when running a sweep.\n",
      "2024-05-28 00:03:32.376957: I tensorflow/core/platform/cpu_feature_guard.cc:182] This TensorFlow binary is optimized to use available CPU instructions in performance-critical operations.\n",
      "To enable the following instructions: AVX2 FMA, in other operations, rebuild TensorFlow with the appropriate compiler flags.\n",
      "\u001b[34m\u001b[1mwandb\u001b[0m: wandb version 0.17.0 is available!  To upgrade, please run:\n",
      "\u001b[34m\u001b[1mwandb\u001b[0m:  $ pip install wandb --upgrade\n",
      "\u001b[34m\u001b[1mwandb\u001b[0m: Tracking run with wandb version 0.12.14\n",
      "\u001b[34m\u001b[1mwandb\u001b[0m: Run data is saved locally in \u001b[35m\u001b[1m/local/picekluk/DanishFungiDataset/scripts/wandb/run-20240528_000331-2w3kor6p\u001b[0m\n",
      "\u001b[34m\u001b[1mwandb\u001b[0m: Run \u001b[1m`wandb offline`\u001b[0m to turn off syncing.\n",
      "\u001b[34m\u001b[1mwandb\u001b[0m: Syncing run \u001b[33mvit_base_patch16_384.augreg_in21k_ft_in1k-SeeSawLoss-vit_heavy\u001b[0m\n",
      "\u001b[34m\u001b[1mwandb\u001b[0m: ⭐️ View project at \u001b[34m\u001b[4mhttps://wandb.ai/zcu_cv/DanishFungi2024\u001b[0m\n",
      "\u001b[34m\u001b[1mwandb\u001b[0m: 🧹 View sweep at \u001b[34m\u001b[4mhttps://wandb.ai/zcu_cv/DanishFungi2024/sweeps/pxfnch4i\u001b[0m\n",
      "\u001b[34m\u001b[1mwandb\u001b[0m: 🚀 View run at \u001b[34m\u001b[4mhttps://wandb.ai/zcu_cv/DanishFungi2024/runs/2w3kor6p\u001b[0m\n",
      "(script) INFO: Training the model.\n",
      "2024-05-28 00:03:37,151 - fgvc-training - INFO - Training started.\n",
      "100%|███████████████████████████████████████| 1464/1464 [18:26<00:00,  1.32it/s]\n",
      "100%|█████████████████████████████████████████| 295/295 [01:16<00:00,  3.85it/s]\n",
      "2024-05-28 00:23:20,912 - fgvc-training - INFO - Epoch 1 - avg_train_loss: 2.1703\tavg_val_loss: 1.0963\tF1: 35.98%\tAccuracy: 64.87%\tRecall@3: 81.81%\ttime: 1184s\n",
      "2024-05-28 00:23:20,912 - fgvc-training - INFO - Epoch 1 - Save checkpoint with best validation loss: 1.096313\n",
      "2024-05-28 00:23:21,238 - fgvc-training - INFO - Epoch 1 - Save checkpoint with best validation accuracy: 0.648746\n",
      "2024-05-28 00:23:21,556 - fgvc-training - INFO - Epoch 1 - Save checkpoint with best validation recall@3: 0.818105\n",
      "2024-05-28 00:23:21,859 - fgvc-training - INFO - Epoch 1 - Save checkpoint with best validation f1: 0.359787\n",
      " 39%|███████████████▋                        | 575/1464 [07:15<11:11,  1.32it/s]"
     ]
    }
   ],
   "source": [
    "!wandb agent zcu_cv/DanishFungi2024/pxfnch4i"
   ]
  },
  {
   "cell_type": "code",
   "execution_count": null,
   "id": "720b4d38-4711-432c-b5f6-de45e1f8f740",
   "metadata": {},
   "outputs": [],
   "source": []
  },
  {
   "cell_type": "code",
   "execution_count": null,
   "id": "59edceb5-d5d2-493d-8564-eeee1f5fa2b5",
   "metadata": {},
   "outputs": [],
   "source": []
  },
  {
   "cell_type": "code",
   "execution_count": null,
   "id": "0d53fe48-01b5-4351-a4de-05cd51cb9543",
   "metadata": {},
   "outputs": [],
   "source": [
    "# !python danish_fungi_train.py \\\n",
    "#     --config-path ../config/DF24_384_convnext_base.fb_in1k.yaml \\\n",
    "#     --cuda-devices $CUDA_DEVICES \\\n",
    "#     --wandb-entity $WANDB_ENTITY \\\n",
    "#     --wandb-project $WANDB_PROJECT"
   ]
  }
 ],
 "metadata": {
  "kernelspec": {
   "display_name": "Python 3",
   "language": "python",
   "name": "python3"
  },
  "language_info": {
   "codemirror_mode": {
    "name": "ipython",
    "version": 3
   },
   "file_extension": ".py",
   "mimetype": "text/x-python",
   "name": "python",
   "nbconvert_exporter": "python",
   "pygments_lexer": "ipython3",
   "version": "3.8.13"
  }
 },
 "nbformat": 4,
 "nbformat_minor": 5
}
