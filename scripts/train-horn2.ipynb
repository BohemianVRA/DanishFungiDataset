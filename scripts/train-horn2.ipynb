{
 "cells": [
  {
   "cell_type": "code",
   "execution_count": 1,
   "id": "e85dd52c-5f77-48b3-89cf-eeeaa0961714",
   "metadata": {},
   "outputs": [],
   "source": [
    "import warnings\n",
    "warnings.filterwarnings(\"ignore\")"
   ]
  },
  {
   "cell_type": "code",
   "execution_count": 2,
   "id": "5e328fad-c4f1-4bc3-af18-85641a56d657",
   "metadata": {},
   "outputs": [
    {
     "name": "stdout",
     "output_type": "stream",
     "text": [
      "env: CUDA_DEVICES=1\n",
      "env: WANDB_ENTITY=zcu_cv\n",
      "env: WANDB_PROJECT=DanishFungi2024\n"
     ]
    }
   ],
   "source": [
    "%env CUDA_DEVICES = 1\n",
    "%env WANDB_ENTITY = zcu_cv\n",
    "%env WANDB_PROJECT = DanishFungi2024"
   ]
  },
  {
   "cell_type": "code",
   "execution_count": 3,
   "id": "ad80efbd-01a6-44a3-bdb1-eb4d571394f2",
   "metadata": {},
   "outputs": [],
   "source": [
    "import os\n",
    "os.environ[\"CUDA_VISIBLE_DEVICES\"] = os.environ[\"CUDA_DEVICES\"]"
   ]
  },
  {
   "cell_type": "code",
   "execution_count": 4,
   "id": "75cf0aa7-fe8b-44f2-946d-6d68c9802387",
   "metadata": {},
   "outputs": [
    {
     "name": "stdout",
     "output_type": "stream",
     "text": [
      "Tue May 28 00:04:08 2024       \n",
      "+-----------------------------------------------------------------------------------------+\n",
      "| NVIDIA-SMI 550.78                 Driver Version: 550.78         CUDA Version: 12.4     |\n",
      "|-----------------------------------------+------------------------+----------------------+\n",
      "| GPU  Name                 Persistence-M | Bus-Id          Disp.A | Volatile Uncorr. ECC |\n",
      "| Fan  Temp   Perf          Pwr:Usage/Cap |           Memory-Usage | GPU-Util  Compute M. |\n",
      "|                                         |                        |               MIG M. |\n",
      "|=========================================+========================+======================|\n",
      "|   0  NVIDIA GeForce RTX 3090        On  |   00000000:01:00.0 Off |                  N/A |\n",
      "| 43%   55C    P2            342W /  350W |   12475MiB /  24576MiB |     99%      Default |\n",
      "|                                         |                        |                  N/A |\n",
      "+-----------------------------------------+------------------------+----------------------+\n",
      "|   1  NVIDIA GeForce RTX 3090        On  |   00000000:C1:00.0 Off |                  N/A |\n",
      "| 30%   23C    P8             17W /  350W |       2MiB /  24576MiB |      0%      Default |\n",
      "|                                         |                        |                  N/A |\n",
      "+-----------------------------------------+------------------------+----------------------+\n",
      "                                                                                         \n",
      "+-----------------------------------------------------------------------------------------+\n",
      "| Processes:                                                                              |\n",
      "|  GPU   GI   CI        PID   Type   Process name                              GPU Memory |\n",
      "|        ID   ID                                                               Usage      |\n",
      "|=========================================================================================|\n",
      "|    0   N/A  N/A      3592      C   python                                      12468MiB |\n",
      "+-----------------------------------------------------------------------------------------+\n"
     ]
    }
   ],
   "source": [
    "!nvidia-smi"
   ]
  },
  {
   "cell_type": "code",
   "execution_count": null,
   "id": "945943a6-b2b7-4504-8b21-3097bf13d7d0",
   "metadata": {},
   "outputs": [
    {
     "name": "stdout",
     "output_type": "stream",
     "text": [
      "\u001b[34m\u001b[1mwandb\u001b[0m: Starting wandb agent 🕵️\n",
      "2024-05-28 00:04:18,959 - wandb.wandb_agent - INFO - Running runs: []\n",
      "2024-05-28 00:04:19,281 - wandb.wandb_agent - INFO - Agent received command: run\n",
      "2024-05-28 00:04:19,281 - wandb.wandb_agent - INFO - Agent starting run with config:\n",
      "\tarchitecture: beit_base_patch16_384.in22k_ft_in22k_in1k\n",
      "2024-05-28 00:04:19,282 - wandb.wandb_agent - INFO - About to run command: /usr/bin/env python danish_fungi_train.py --config-path ../configs/DF24m_384_config.yaml --wandb-entity zcu_cv --wandb-project DanishFungi2024 --architecture=beit_base_patch16_384.in22k_ft_in22k_in1k\n",
      "(script) INFO: Loading training config.\n",
      "(script) DEBUG: Extra arguments passed to the script: {'architecture': 'beit_base_patch16_384.in22k_ft_in22k_in1k'}\n",
      "(script) DEBUG: Changing config value architecture: vit_base_patch16_384 -> beit_base_patch16_384.in22k_ft_in22k_in1k\n",
      "(script) INFO: Setting run name: beit_base_patch16_384.in22k_ft_in22k_in1k-SeeSawLoss-vit_heavy\n",
      "(script) INFO: Using experiment directory: ../runs/beit_base_patch16_384.in22k_ft_in22k_in1k-SeeSawLoss-vit_heavy/exp4\n",
      "(script) INFO: Using training configuration: {\n",
      "    \"augmentations\": \"vit_heavy\",\n",
      "    \"image_size\": [\n",
      "        384,\n",
      "        384\n",
      "    ],\n",
      "    \"dataset\": \"DF24m\",\n",
      "    \"architecture\": \"beit_base_patch16_384.in22k_ft_in22k_in1k\",\n",
      "    \"train\": null,\n",
      "    \"loss\": \"SeeSawLoss\",\n",
      "    \"optimizer\": \"SGD\",\n",
      "    \"scheduler\": \"plateau\",\n",
      "    \"epochs\": 50,\n",
      "    \"learning_rate\": 0.01,\n",
      "    \"batch_size\": 32,\n",
      "    \"accumulation_steps\": 8,\n",
      "    \"random_seed\": 777,\n",
      "    \"workers\": 12,\n",
      "    \"multigpu\": false,\n",
      "    \"tags\": [\n",
      "        \"DF24-CloseSet\",\n",
      "        \"384x384\",\n",
      "        \"Transformers\"\n",
      "    ],\n",
      "    \"root_path\": \"../\",\n",
      "    \"run_name\": \"beit_base_patch16_384.in22k_ft_in22k_in1k-SeeSawLoss-vit_heavy\",\n",
      "    \"exp_name\": \"exp4\",\n",
      "    \"exp_path\": \"../runs/beit_base_patch16_384.in22k_ft_in22k_in1k-SeeSawLoss-vit_heavy/exp4\"\n",
      "}\n",
      "(fgvc) INFO: Using device: cuda (1)\n",
      "(fgvc) INFO: Device names: 0: NVIDIA GeForce RTX 3090\n",
      "(script) INFO: Loading training and validation metadata.\n",
      "(script) INFO: Creating model, optimizer, and scheduler.\n",
      "/home.stud/picekluk/.local/lib/python3.8/site-packages/torch/functional.py:512: UserWarning: torch.meshgrid: in an upcoming release, it will be required to pass the indexing argument. (Triggered internally at ../aten/src/ATen/native/TensorShape.cpp:3587.)\n",
      "  return _VF.meshgrid(tensors, **kwargs)  # type: ignore[attr-defined]\n",
      "2024-05-28 00:04:24,293 - wandb.wandb_agent - INFO - Running runs: ['p4nkilfl']\n",
      "INFO:timm.models._builder:Loading pretrained weights from Hugging Face hub (timm/beit_base_patch16_384.in22k_ft_in22k_in1k)\n",
      "INFO:timm.models._hub:[timm/beit_base_patch16_384.in22k_ft_in22k_in1k] Safe alternative available for 'pytorch_model.bin' (as 'model.safetensors'). Loading weights using safetensors.\n",
      "(fgvc) DEBUG: Setting new prediction head with random initial weights.\n",
      "/home.stud/picekluk/.local/lib/python3.8/site-packages/torch/optim/lr_scheduler.py:28: UserWarning: The verbose parameter is deprecated. Please use get_last_lr() to access the learning rate.\n",
      "  warnings.warn(\"The verbose parameter is deprecated. Please use get_last_lr() \"\n",
      "(script) INFO: Creating DataLoaders.\n",
      "(script) INFO: Creating loss function.\n",
      "torch.float32\n",
      "\u001b[34m\u001b[1mwandb\u001b[0m: Currently logged in as: \u001b[33mpicekl\u001b[0m (use `wandb login --relogin` to force relogin)\n",
      "\u001b[34m\u001b[1mwandb\u001b[0m: \u001b[33mWARNING\u001b[0m Ignored wandb.init() arg project when running a sweep.\n",
      "\u001b[34m\u001b[1mwandb\u001b[0m: \u001b[33mWARNING\u001b[0m Ignored wandb.init() arg entity when running a sweep.\n",
      "2024-05-28 00:04:27.417051: I tensorflow/core/platform/cpu_feature_guard.cc:182] This TensorFlow binary is optimized to use available CPU instructions in performance-critical operations.\n",
      "To enable the following instructions: AVX2 FMA, in other operations, rebuild TensorFlow with the appropriate compiler flags.\n",
      "\u001b[34m\u001b[1mwandb\u001b[0m: wandb version 0.17.0 is available!  To upgrade, please run:\n",
      "\u001b[34m\u001b[1mwandb\u001b[0m:  $ pip install wandb --upgrade\n",
      "\u001b[34m\u001b[1mwandb\u001b[0m: Tracking run with wandb version 0.12.14\n",
      "\u001b[34m\u001b[1mwandb\u001b[0m: Run data is saved locally in \u001b[35m\u001b[1m/local/picekluk/DanishFungiDataset/scripts/wandb/run-20240528_000425-p4nkilfl\u001b[0m\n",
      "\u001b[34m\u001b[1mwandb\u001b[0m: Run \u001b[1m`wandb offline`\u001b[0m to turn off syncing.\n",
      "\u001b[34m\u001b[1mwandb\u001b[0m: Syncing run \u001b[33mbeit_base_patch16_384.in22k_ft_in22k_in1k-SeeSawLoss-vit_heavy\u001b[0m\n",
      "\u001b[34m\u001b[1mwandb\u001b[0m: ⭐️ View project at \u001b[34m\u001b[4mhttps://wandb.ai/zcu_cv/DanishFungi2024\u001b[0m\n",
      "\u001b[34m\u001b[1mwandb\u001b[0m: 🧹 View sweep at \u001b[34m\u001b[4mhttps://wandb.ai/zcu_cv/DanishFungi2024/sweeps/pxfnch4i\u001b[0m\n",
      "\u001b[34m\u001b[1mwandb\u001b[0m: 🚀 View run at \u001b[34m\u001b[4mhttps://wandb.ai/zcu_cv/DanishFungi2024/runs/p4nkilfl\u001b[0m\n",
      "(script) INFO: Training the model.\n",
      "2024-05-28 00:04:32,236 - fgvc-training - INFO - Training started.\n",
      " 13%|█████                                   | 187/1464 [02:28<17:00,  1.25it/s]"
     ]
    }
   ],
   "source": [
    "!wandb agent zcu_cv/DanishFungi2024/pxfnch4i"
   ]
  },
  {
   "cell_type": "code",
   "execution_count": 5,
   "id": "0d53fe48-01b5-4351-a4de-05cd51cb9543",
   "metadata": {},
   "outputs": [],
   "source": [
    "# !python danish_fungi_train.py \\\n",
    "#     --config-path ../config/DF24_384_vit_base_patch16_384.augreg_in21k_ft_in1k.yaml \\\n",
    "#     --cuda-devices $CUDA_DEVICES \\\n",
    "#     --wandb-entity $WANDB_ENTITY \\\n",
    "#     --wandb-project $WANDB_PROJECT"
   ]
  },
  {
   "cell_type": "code",
   "execution_count": null,
   "id": "dd7458dd-20f1-4ad5-835f-8d35eca84e19",
   "metadata": {},
   "outputs": [],
   "source": []
  }
 ],
 "metadata": {
  "kernelspec": {
   "display_name": "Python 3",
   "language": "python",
   "name": "python3"
  },
  "language_info": {
   "codemirror_mode": {
    "name": "ipython",
    "version": 3
   },
   "file_extension": ".py",
   "mimetype": "text/x-python",
   "name": "python",
   "nbconvert_exporter": "python",
   "pygments_lexer": "ipython3",
   "version": "3.8.13"
  }
 },
 "nbformat": 4,
 "nbformat_minor": 5
}
