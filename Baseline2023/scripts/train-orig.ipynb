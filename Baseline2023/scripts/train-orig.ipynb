{
 "cells": [
  {
   "cell_type": "code",
   "execution_count": 1,
   "id": "bddc9720-4a2d-40ce-a8f0-bb8f8d0c0816",
   "metadata": {},
   "outputs": [
    {
     "name": "stdout",
     "output_type": "stream",
     "text": [
      "total 3184\n",
      "-rw-------  1 silvador386 meta     880 Nov 13 14:29 384sweep.yaml\n",
      "-rwx------  1 silvador386 meta    1519 Sep 22 20:47 LICENSE\n",
      "drwx------  2 silvador386 meta      42 Nov  6 20:34 __pycache__\n",
      "drwxr-xr-x  3 silvador386 meta     171 Oct 31 19:26 backup\n",
      "drwx------  3 silvador386 meta     282 Nov 13 15:55 configs\n",
      "-rw-------  1 silvador386 meta    8358 Nov 13 14:51 danishfungi2023_train-orig.py\n",
      "-rw-------  1 silvador386 meta    8243 Nov  4 19:45 danishfungi2023_train.py\n",
      "drwx------  4 silvador386 meta      91 Sep 22 20:47 examples\n",
      "-rw-------  1 silvador386 meta    7128 Nov  6 20:34 hfhub.py\n",
      "-rw-------  1 silvador386 meta     874 Nov  1 19:06 initial_sweep.yaml\n",
      "drwx------  3 silvador386 meta    4096 Nov 13 14:47 metadata\n",
      "drwx------  4 silvador386 meta      43 Sep 29 14:04 old\n",
      "drwx------ 21 silvador386 meta    4096 Nov 13 15:08 runs\n",
      "-rw-------  1 silvador386 meta 3129368 Sep 22 20:47 test_table.csv\n",
      "-rw-------  1 silvador386 meta   33276 Nov 13 15:50 train-orig.ipynb\n",
      "-rw-------  1 silvador386 meta   25149 Nov 13 15:58 train.ipynb\n",
      "drwx------ 88 silvador386 meta    4096 Nov 13 15:54 wandb\n",
      "drwx------  3 silvador386 meta      37 Sep 22 20:47 zcu_cv\n"
     ]
    }
   ],
   "source": [
    "\n",
    "!ls -l"
   ]
  },
  {
   "cell_type": "code",
   "execution_count": 2,
   "id": "3354cfc1-8399-442c-8ed6-ed2a45a971d0",
   "metadata": {},
   "outputs": [],
   "source": [
    "import os\n",
    "os.chdir(\"/auto/plzen4-ntis/home/silvador386/Vision/Project/DanishFungiDataset\")"
   ]
  },
  {
   "cell_type": "code",
   "execution_count": 55,
   "id": "170ded66-a4e2-4076-a31c-875bf6ecac9f",
   "metadata": {},
   "outputs": [
    {
     "name": "stdout",
     "output_type": "stream",
     "text": [
      "29139 7254\n"
     ]
    },
    {
     "data": {
      "text/plain": [
       "181"
      ]
     },
     "execution_count": 55,
     "metadata": {},
     "output_type": "execute_result"
    }
   ],
   "source": [
    "import pandas as pd\n",
    "train_df = pd.read_csv(\"./metadata/DanishFungi2023-train_mini.csv\")\n",
    "test_df = pd.read_csv(\"./metadata/DanishFungi2023-val_mini.csv\")\n",
    "print(len(train_df), len(test_df))\n",
    "max(test_df[\"class_id\"])"
   ]
  },
  {
   "cell_type": "code",
   "execution_count": 3,
   "id": "062d1082-d551-43c0-a7b0-4ed1fd657481",
   "metadata": {},
   "outputs": [
    {
     "name": "stdout",
     "output_type": "stream",
     "text": [
      "env: CUDA_DEVICES=0\n",
      "env: WANDB_ENTITY=zcu_cv\n",
      "env: WANDB_PROJECT=DanishFungi2023\n"
     ]
    }
   ],
   "source": [
    "%env CUDA_DEVICES = 0\n",
    "%env WANDB_ENTITY = zcu_cv\n",
    "%env WANDB_PROJECT = DanishFungi2023"
   ]
  },
  {
   "cell_type": "code",
   "execution_count": 4,
   "id": "62fef7b6-9a8f-4582-889d-6f4cff185be2",
   "metadata": {},
   "outputs": [
    {
     "name": "stdout",
     "output_type": "stream",
     "text": [
      "Mon Nov 13 14:51:57 2023       \n",
      "+-----------------------------------------------------------------------------+\n",
      "| NVIDIA-SMI 525.105.17   Driver Version: 525.105.17   CUDA Version: 12.0     |\n",
      "|-------------------------------+----------------------+----------------------+\n",
      "| GPU  Name        Persistence-M| Bus-Id        Disp.A | Volatile Uncorr. ECC |\n",
      "| Fan  Temp  Perf  Pwr:Usage/Cap|         Memory-Usage | GPU-Util  Compute M. |\n",
      "|                               |                      |               MIG M. |\n",
      "|===============================+======================+======================|\n",
      "|   0  NVIDIA A40          On   | 00000000:E1:00.0 Off |                    0 |\n",
      "|  0%   52C    P0   154W / 300W |  15404MiB / 46068MiB |      0%      Default |\n",
      "|                               |                      |                  N/A |\n",
      "+-------------------------------+----------------------+----------------------+\n",
      "                                                                               \n",
      "+-----------------------------------------------------------------------------+\n",
      "| Processes:                                                                  |\n",
      "|  GPU   GI   CI        PID   Type   Process name                  GPU Memory |\n",
      "|        ID   ID                                                   Usage      |\n",
      "|=============================================================================|\n",
      "|    0   N/A  N/A    586803      C   python                           3058MiB |\n",
      "|    0   N/A  N/A    742261      C   python                           5168MiB |\n",
      "|    0   N/A  N/A    926345      C   /opt/conda/bin/python3.8          860MiB |\n",
      "|    0   N/A  N/A    933062      C   python                           6316MiB |\n",
      "+-----------------------------------------------------------------------------+\n"
     ]
    }
   ],
   "source": [
    "!nvidia-smi"
   ]
  },
  {
   "cell_type": "code",
   "execution_count": 32,
   "id": "954aea50-5083-40d1-8b60-1a4273e3968c",
   "metadata": {},
   "outputs": [
    {
     "data": {
      "application/vnd.jupyter.widget-view+json": {
       "model_id": "88a04087b33143cd9e04e8a0ae864dec",
       "version_major": 2,
       "version_minor": 0
      },
      "text/plain": [
       "VBox(children=(HTML(value='<center> <img\\nsrc=https://huggingface.co/front/assets/huggingface_logo-noborder.sv…"
      ]
     },
     "metadata": {},
     "output_type": "display_data"
    }
   ],
   "source": [
    "from huggingface_hub import login\n",
    "login()"
   ]
  },
  {
   "cell_type": "code",
   "execution_count": 50,
   "id": "54cc7a00-7e02-48b2-a142-773b54ebd4c2",
   "metadata": {},
   "outputs": [
    {
     "name": "stdout",
     "output_type": "stream",
     "text": [
      "The autoreload extension is already loaded. To reload it, use:\n",
      "  %reload_ext autoreload\n"
     ]
    }
   ],
   "source": [
    "%load_ext autoreload\n",
    "%autoreload 2"
   ]
  },
  {
   "cell_type": "code",
   "execution_count": 52,
   "id": "4c1477ce-ad92-4fe7-95e5-9a3ea237d8f1",
   "metadata": {},
   "outputs": [
    {
     "name": "stdout",
     "output_type": "stream",
     "text": [
      "runs/resnet18.a1_in1k-CrossEntropyLoss-vit_heavy/exp1/best_f1.pth\n"
     ]
    },
    {
     "data": {
      "application/vnd.jupyter.widget-view+json": {
       "model_id": "1fe05e96da6b4d2c8ea89e44e65fb151",
       "version_major": 2,
       "version_minor": 0
      },
      "text/plain": [
       "best_f1.bin:   0%|          | 0.00/45.2M [00:00<?, ?B/s]"
      ]
     },
     "metadata": {},
     "output_type": "display_data"
    },
    {
     "data": {
      "text/plain": [
       "'MHanzl/FGVC-resnet18.a1_in1k-CrossEntropyLoss-vit_heavy-exp1'"
      ]
     },
     "execution_count": 52,
     "metadata": {},
     "output_type": "execute_result"
    }
   ],
   "source": [
    "from hfhub import export_to_huggingface_hub_from_checkpoint\n",
    "config = {\n",
    "    \"exp_path\": \"runs/resnet18.a1_in1k-CrossEntropyLoss-vit_heavy/exp1\"\n",
    "}\n",
    "export_to_huggingface_hub_from_checkpoint(\n",
    "            exp_path=config[\"exp_path\"],\n",
    "            repo_owner=\"MHanzl\",\n",
    "            saved_model=\"f1\"\n",
    "        )"
   ]
  },
  {
   "cell_type": "code",
   "execution_count": 5,
   "id": "a1e213e5-8a30-493d-8760-bba524949867",
   "metadata": {
    "tags": []
   },
   "outputs": [],
   "source": [
    "import os\n",
    "os.environ[\"CUDA_VISIBLE_DEVICES\"] = os.environ[\"CUDA_DEVICES\"]"
   ]
  },
  {
   "cell_type": "code",
   "execution_count": 59,
   "id": "a3e4dad5-1b74-469f-ab41-a8f0ff25e905",
   "metadata": {},
   "outputs": [
    {
     "name": "stdout",
     "output_type": "stream",
     "text": [
      "\u001b[34m\u001b[1mwandb\u001b[0m: Creating sweep from: 384sweep.yaml\n",
      "\u001b[34m\u001b[1mwandb\u001b[0m: Created sweep with ID: \u001b[33mowjeq4g5\u001b[0m\n",
      "\u001b[34m\u001b[1mwandb\u001b[0m: View sweep at: \u001b[34m\u001b[4mhttps://wandb.ai/zcu_cv/DanishFungi2023/sweeps/owjeq4g5\u001b[0m\n",
      "\u001b[34m\u001b[1mwandb\u001b[0m: Run sweep agent with: \u001b[33mwandb agent zcu_cv/DanishFungi2023/owjeq4g5\u001b[0m\n"
     ]
    }
   ],
   "source": [
    "# ['tf_efficientnet_b0.ap_in1k', \"tf_efficientnet_b1.ap_in1k\", \"tf_efficientnet_b3.ap_in1k\", \"tf_efficientnet_b5.ap_in1k\", \"resnet18.a1_in1k\",\n",
    "#  \"resnet34.a1_in1k\", \"resnet50.a1_in1k\", 'mobilenetv2_100.ra_in1k', 'inception_v4.tf_in1k', 'inception_v3.tf_in1k', 'inception_resnet_v2.tf_in1k', 'legacy_seresnext101_32x4d.in1k', 'vit_base_patch16_224.orig_in21k_ft_in1k', 'vit_large_patch16_224.augreg_in21k_ft_in1k']\n",
    "\n",
    "!wandb sweep 384sweep.yaml"
   ]
  },
  {
   "cell_type": "code",
   "execution_count": null,
   "id": "812990e2-2f66-4a37-a3e9-98497239c31c",
   "metadata": {},
   "outputs": [
    {
     "name": "stdout",
     "output_type": "stream",
     "text": [
      "\u001b[34m\u001b[1mwandb\u001b[0m: Starting wandb agent 🕵️\n",
      "2023-11-06 20:39:54,661 - wandb.wandb_agent - INFO - Running runs: []\n",
      "2023-11-06 20:39:54,992 - wandb.wandb_agent - INFO - Agent received command: run\n",
      "2023-11-06 20:39:54,992 - wandb.wandb_agent - INFO - Agent starting run with config:\n",
      "\tarchitecture: tf_efficientnet_b0.ap_in1k\n",
      "\taugmentations: vit_heavy\n",
      "2023-11-06 20:39:55,167 - wandb.wandb_agent - INFO - About to run command: /usr/bin/env python danishfungi2023_train.py --config-path ./configs/384_config.yaml --wandb-entity zcu_cv --wandb-project DanishFungi2023 --architecture=tf_efficientnet_b0.ap_in1k --augmentations=vit_heavy\n",
      "2023-11-06 20:40:00,189 - wandb.wandb_agent - INFO - Running runs: ['dzly649n']\n",
      "/opt/conda/lib/python3.8/site-packages/apex/pyprof/__init__.py:5: FutureWarning: pyprof will be removed by the end of June, 2022\n",
      "  warnings.warn(\"pyprof will be removed by the end of June, 2022\", FutureWarning)\n",
      "(script) INFO: Loading training config.\n",
      "(script) DEBUG: Extra arguments passed to the script: {'architecture': 'tf_efficientnet_b0.ap_in1k', 'augmentations': 'vit_heavy'}\n",
      "(script) DEBUG: Changing config value architecture: tf_efficientnet_b0.ap_in1k -> tf_efficientnet_b0.ap_in1k\n",
      "(script) DEBUG: Changing config value augmentations: light -> vit_heavy\n",
      "(script) INFO: Setting run name: tf_efficientnet_b0.ap_in1k-CrossEntropyLoss-vit_heavy\n",
      "(script) INFO: Using experiment directory: ./runs/tf_efficientnet_b0.ap_in1k-CrossEntropyLoss-vit_heavy/exp2\n",
      "(script) INFO: Using training configuration: {\n",
      "    \"augmentations\": \"vit_heavy\",\n",
      "    \"image_size\": [\n",
      "        384,\n",
      "        384\n",
      "    ],\n",
      "    \"dataset\": \"DanishFungi2023-mini\",\n",
      "    \"architecture\": \"tf_efficientnet_b0.ap_in1k\",\n",
      "    \"train\": null,\n",
      "    \"loss\": \"CrossEntropyLoss\",\n",
      "    \"optimizer\": \"SGD\",\n",
      "    \"scheduler\": \"cosine\",\n",
      "    \"epochs\": 100,\n",
      "    \"learning_rate\": 0.01,\n",
      "    \"batch_size\": 32,\n",
      "    \"accumulation_steps\": 8,\n",
      "    \"random_seed\": 777,\n",
      "    \"workers\": 12,\n",
      "    \"multigpu\": false,\n",
      "    \"tags\": [\n",
      "        \"Fine-tuning\",\n",
      "        \"Dino\",\n",
      "        \"DanishFungi2023\",\n",
      "        \"384\",\n",
      "        \"Production\"\n",
      "    ],\n",
      "    \"root_path\": \"./\",\n",
      "    \"run_name\": \"tf_efficientnet_b0.ap_in1k-CrossEntropyLoss-vit_heavy\",\n",
      "    \"exp_name\": \"exp2\",\n",
      "    \"exp_path\": \"./runs/tf_efficientnet_b0.ap_in1k-CrossEntropyLoss-vit_heavy/exp2\"\n",
      "}\n",
      "(fgvc) INFO: Using device: cuda (0)\n",
      "(fgvc) INFO: Device names: 0: NVIDIA A40\n",
      "(script) INFO: Loading training and validation metadata.\n",
      "(script) INFO: Creating model, optimizer, and scheduler.\n",
      "(script) INFO: Creating DataLoaders.\n",
      "/opt/conda/lib/python3.8/site-packages/torch/utils/data/dataloader.py:490: UserWarning: This DataLoader will create 12 worker processes in total. Our suggested max number of worker in current system is 6, which is smaller than what this DataLoader is going to create. Please be aware that excessive worker creation might get DataLoader running slow or even freeze, lower the worker number to avoid potential slowness/freeze if necessary.\n",
      "  warnings.warn(_create_warning_msg(\n",
      "(script) INFO: Creating loss function.\n",
      "\u001b[34m\u001b[1mwandb\u001b[0m: Currently logged in as: \u001b[33mmhanzl\u001b[0m (\u001b[33mzcu_cv\u001b[0m). Use \u001b[1m`wandb login --relogin`\u001b[0m to force relogin\n",
      "\u001b[34m\u001b[1mwandb\u001b[0m: \u001b[33mWARNING\u001b[0m Ignored wandb.init() arg project when running a sweep.\n",
      "\u001b[34m\u001b[1mwandb\u001b[0m: \u001b[33mWARNING\u001b[0m Ignored wandb.init() arg entity when running a sweep.\n",
      "\u001b[34m\u001b[1mwandb\u001b[0m: wandb version 0.15.12 is available!  To upgrade, please run:\n",
      "\u001b[34m\u001b[1mwandb\u001b[0m:  $ pip install wandb --upgrade\n",
      "\u001b[34m\u001b[1mwandb\u001b[0m: Tracking run with wandb version 0.12.18\n",
      "\u001b[34m\u001b[1mwandb\u001b[0m: Run data is saved locally in \u001b[35m\u001b[1m/auto/plzen4-ntis/home/silvador386/Vision/Project/DanishFungiDataset/wandb/run-20231106_204018-dzly649n\u001b[0m\n",
      "\u001b[34m\u001b[1mwandb\u001b[0m: Run \u001b[1m`wandb offline`\u001b[0m to turn off syncing.\n",
      "\u001b[34m\u001b[1mwandb\u001b[0m: Syncing run \u001b[33mtf_efficientnet_b0.ap_in1k-CrossEntropyLoss-vit_heavy\u001b[0m\n",
      "\u001b[34m\u001b[1mwandb\u001b[0m: ⭐️ View project at \u001b[34m\u001b[4mhttps://wandb.ai/zcu_cv/DanishFungi2023\u001b[0m\n",
      "\u001b[34m\u001b[1mwandb\u001b[0m: 🧹 View sweep at \u001b[34m\u001b[4mhttps://wandb.ai/zcu_cv/DanishFungi2023/sweeps/owjeq4g5\u001b[0m\n",
      "\u001b[34m\u001b[1mwandb\u001b[0m: 🚀 View run at \u001b[34m\u001b[4mhttps://wandb.ai/zcu_cv/DanishFungi2023/runs/dzly649n\u001b[0m\n",
      "(script) INFO: Training the model.\n",
      "2023-11-06 20:40:21,070 - fgvc-training - INFO - Training started.\n",
      "/opt/conda/lib/python3.8/site-packages/torch/utils/data/dataloader.py:490: UserWarning: This DataLoader will create 12 worker processes in total. Our suggested max number of worker in current system is 6, which is smaller than what this DataLoader is going to create. Please be aware that excessive worker creation might get DataLoader running slow or even freeze, lower the worker number to avoid potential slowness/freeze if necessary.\n",
      "  warnings.warn(_create_warning_msg(\n",
      " 46%|██████████████████▉                      | 421/911 [01:18<01:27,  5.62it/s]"
     ]
    }
   ],
   "source": [
    "!wandb agent zcu_cv/DanishFungi2023/owjeq4g5"
   ]
  },
  {
   "cell_type": "code",
   "execution_count": null,
   "id": "5643dfeb-e1ee-4233-8d34-614e1a18f24e",
   "metadata": {},
   "outputs": [],
   "source": [
    "'tf_efficientnet_b0.ap_in1k', \"tf_efficientnet_b1.ap_in1k\", \"tf_efficientnet_b3.ap_in1k\", \"tf_efficientnet_b5.ap_in1k\", \"resnet18.a1_in1k\", \"resnet34.a1_in1k\", \"resnet50.a1_in1k\",\n",
    "'mobilenetv2_100.ra_in1k', 'inception_v4.tf_in1k', 'inception_v3.tf_in1k', 'inception_resnet_v2.tf_in1k', 'legacy_seresnext101_32x4d.in1k',\n",
    "'vit_base_patch16_224.orig_in21k_ft_in1k', 'vit_large_patch16_224.augreg_in21k_ft_in1k'\n",
    "\n"
   ]
  },
  {
   "cell_type": "code",
   "execution_count": null,
   "id": "58e4529b-f2e8-4f7c-91d5-4048cd2480a2",
   "metadata": {},
   "outputs": [],
   "source": [
    "# !python danishfungi2023_train.py \\\n",
    "#     --config-path configs/vit_small_patch16_224.dino.yaml \\\n",
    "#     --cuda-devices $CUDA_DEVICES \\\n",
    "#     --wandb-entity $WANDB_ENTITY \\\n",
    "#     --wandb-project $WANDB_PROJECT"
   ]
  },
  {
   "cell_type": "code",
   "execution_count": 47,
   "id": "859f8dda-5c9a-4698-8117-4c01b0850d8c",
   "metadata": {},
   "outputs": [],
   "source": [
    "# !python danishfungi2023_train-Copy1.py \\\n",
    "#     --config-path ./runs/tf_efficientnet_b1.ap_in1k-CrossEntropyLoss-light/exp4/config.yaml \\\n",
    "#     --cuda-devices $CUDA_DEVICES"
   ]
  },
  {
   "cell_type": "code",
   "execution_count": 11,
   "id": "a1f0175d-b73a-4671-82b2-aa5e66029dae",
   "metadata": {},
   "outputs": [],
   "source": [
    "import pandas as pd\n",
    "val_metadata = pd.read_csv(\"./metadata/DanishFungi2023-val_metadata-v0.1.csv\")\n",
    "train_metadata = pd.read_csv(\"./metadata/DanishFungi2023-train_metadata-v0.1.csv\")"
   ]
  },
  {
   "cell_type": "code",
   "execution_count": null,
   "id": "84c7aef4-5b98-41e5-9b58-186f1c6298a3",
   "metadata": {},
   "outputs": [],
   "source": [
    "!python danishfungi2023_train.py --config-path ./configs/384_config.yaml --wandb-entity zcu_cv\" \"--wandb-project\" \"DanishFungi2023\" ${args}"
   ]
  },
  {
   "cell_type": "code",
   "execution_count": 42,
   "id": "949d380e-51b7-49ed-a37f-6d4c11490c3c",
   "metadata": {},
   "outputs": [
    {
     "data": {
      "text/plain": [
       "((29583,), (266355,))"
      ]
     },
     "execution_count": 42,
     "metadata": {},
     "output_type": "execute_result"
    }
   ],
   "source": [
    "# sorted(train_metadata[\"class_id\"])[-9800:-9400]\n",
    "val_metadata[\"species\"].shape, train_metadata[\"species\"].shape"
   ]
  },
  {
   "cell_type": "code",
   "execution_count": null,
   "id": "a0af91b7-94f1-4ddd-a418-523588a249a9",
   "metadata": {},
   "outputs": [],
   "source": [
    "!python danishfungi2023_train-orig.py \\\n",
    "    --config-path configs/default_config.yaml \\\n",
    "    --cuda-devices $CUDA_DEVICES \\\n",
    "    --wandb-entity $WANDB_ENTITY \\\n",
    "    --wandb-project $WANDB_PROJECT"
   ]
  }
 ],
 "metadata": {
  "kernelspec": {
   "display_name": "Python 3 (ipykernel)",
   "language": "python",
   "name": "python3"
  },
  "language_info": {
   "codemirror_mode": {
    "name": "ipython",
    "version": 3
   },
   "file_extension": ".py",
   "mimetype": "text/x-python",
   "name": "python",
   "nbconvert_exporter": "python",
   "pygments_lexer": "ipython3",
   "version": "3.11.5"
  }
 },
 "nbformat": 4,
 "nbformat_minor": 5
}
