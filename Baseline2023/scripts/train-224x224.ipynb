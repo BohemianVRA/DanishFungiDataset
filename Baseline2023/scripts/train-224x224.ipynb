{
 "cells": [
  {
   "cell_type": "code",
   "execution_count": 1,
   "id": "bddc9720-4a2d-40ce-a8f0-bb8f8d0c0816",
   "metadata": {
    "tags": [],
    "ExecuteTime": {
     "end_time": "2023-12-31T12:59:25.774925187Z",
     "start_time": "2023-12-31T12:59:25.638833353Z"
    }
   },
   "outputs": [
    {
     "name": "stdout",
     "output_type": "stream",
     "text": [
      "total 208\r\n",
      "-rw-rw-r--  1 marek marek  8326 Dec 31 13:59 danishfungi2023_train_all.py\r\n",
      "-rw-rw-r--  1 marek marek  8890 Dec 31 13:51 danishfungi2023_train-local.py\r\n",
      "-rw-rw-r--  1 marek marek  8449 Dec 31 13:59 danishfungi2023_train-orig.py\r\n",
      "-rw-rw-r--  1 marek marek  8339 Dec 31 13:59 danishfungi2023_train.py\r\n",
      "-rw-rw-r--  1 marek marek 10838 Dec 31 13:59 hfhub.py\r\n",
      "drwxrwxr-x  2 marek marek  4096 Dec  1 15:16 __pycache__\r\n",
      "-rw-rw-r--  1 marek marek 29861 Dec  3 19:50 train-224x224.ipynb\r\n",
      "-rw-rw-r--  1 marek marek 14199 Nov 28 19:47 train-299x299-all.ipynb\r\n",
      "-rw-rw-r--  1 marek marek 29728 Nov 28 19:47 train-299x299.ipynb\r\n",
      "-rw-rw-r--  1 marek marek  7718 Nov 28 19:47 train-384x384.ipynb\r\n",
      "-rw-rw-r--  1 marek marek 29150 Dec  1 14:41 train.ipynb\r\n",
      "-rw-rw-r--  1 marek marek 19067 Nov 28 19:47 train-orig.ipynb\r\n",
      "drwxrwxr-x 17 marek marek  4096 Dec  3 18:47 wandb\r\n"
     ]
    }
   ],
   "source": [
    "!ls -l"
   ]
  },
  {
   "cell_type": "code",
   "execution_count": 2,
   "id": "3354cfc1-8399-442c-8ed6-ed2a45a971d0",
   "metadata": {},
   "outputs": [],
   "source": [
    "# import os\n",
    "# os.chdir(\"/auto/plzen4-ntis/home/silvador386/Vision/Project/DanishFungiDataset\")\n",
    "import warnings\n",
    "warnings.filterwarnings(\"ignore\")"
   ]
  },
  {
   "cell_type": "code",
   "execution_count": 3,
   "id": "170ded66-a4e2-4076-a31c-875bf6ecac9f",
   "metadata": {
    "tags": []
   },
   "outputs": [
    {
     "name": "stdout",
     "output_type": "stream",
     "text": [
      "32692 3701 0.90% train\n"
     ]
    },
    {
     "data": {
      "text/plain": [
       "181"
      ]
     },
     "execution_count": 3,
     "metadata": {},
     "output_type": "execute_result"
    }
   ],
   "source": [
    "import pandas as pd\n",
    "train_df = pd.read_csv(\"../metadata/DanishFungi2023-train_mini.csv\")\n",
    "test_df = pd.read_csv(\"../metadata/DanishFungi2023-val_mini.csv\")\n",
    "print(len(train_df), len(test_df), f\"{len(train_df)/(len(train_df) + len(test_df)):.02f}% train\")\n",
    "print(len(test_df[\"class_id\"].unique()))"
   ]
  },
  {
   "cell_type": "code",
   "execution_count": 4,
   "id": "f6fc25be-7c87-4d0c-bbb8-440f0be642b6",
   "metadata": {
    "tags": []
   },
   "outputs": [
    {
     "name": "stdout",
     "output_type": "stream",
     "text": [
      "env: CUDA_DEVICES=0\n",
      "env: WANDB_ENTITY=zcu_cv\n",
      "env: WANDB_PROJECT=DanishFungi2023\n"
     ]
    }
   ],
   "source": [
    "%env CUDA_DEVICES = 0\n",
    "%env WANDB_ENTITY = zcu_cv\n",
    "%env WANDB_PROJECT = DanishFungi2023"
   ]
  },
  {
   "cell_type": "code",
   "execution_count": 5,
   "id": "7c3e1193-26c4-4a13-8cf2-f5daef8499f5",
   "metadata": {
    "tags": []
   },
   "outputs": [],
   "source": [
    "import os\n",
    "os.environ[\"CUDA_VISIBLE_DEVICES\"] = os.environ[\"CUDA_DEVICES\"]"
   ]
  },
  {
   "cell_type": "code",
   "execution_count": 6,
   "id": "62fef7b6-9a8f-4582-889d-6f4cff185be2",
   "metadata": {
    "tags": []
   },
   "outputs": [
    {
     "name": "stdout",
     "output_type": "stream",
     "text": [
      "Tue Nov 21 21:33:20 2023       \n",
      "+---------------------------------------------------------------------------------------+\n",
      "| NVIDIA-SMI 535.86.10              Driver Version: 535.86.10    CUDA Version: 12.2     |\n",
      "|-----------------------------------------+----------------------+----------------------+\n",
      "| GPU  Name                 Persistence-M | Bus-Id        Disp.A | Volatile Uncorr. ECC |\n",
      "| Fan  Temp   Perf          Pwr:Usage/Cap |         Memory-Usage | GPU-Util  Compute M. |\n",
      "|                                         |                      |               MIG M. |\n",
      "|=========================================+======================+======================|\n",
      "|   0  NVIDIA A40                     On  | 00000000:01:00.0 Off |                    0 |\n",
      "|  0%   43C    P0              76W / 300W |   8064MiB / 46068MiB |      0%      Default |\n",
      "|                                         |                      |                  N/A |\n",
      "+-----------------------------------------+----------------------+----------------------+\n",
      "                                                                                         \n",
      "+---------------------------------------------------------------------------------------+\n",
      "| Processes:                                                                            |\n",
      "|  GPU   GI   CI        PID   Type   Process name                            GPU Memory |\n",
      "|        ID   ID                                                             Usage      |\n",
      "|=======================================================================================|\n",
      "+---------------------------------------------------------------------------------------+\n"
     ]
    }
   ],
   "source": [
    "!nvidia-smi"
   ]
  },
  {
   "cell_type": "code",
   "execution_count": null,
   "id": "954aea50-5083-40d1-8b60-1a4273e3968c",
   "metadata": {},
   "outputs": [],
   "source": [
    "from huggingface_hub import login\n",
    "# login()"
   ]
  },
  {
   "cell_type": "code",
   "execution_count": 7,
   "id": "a3e4dad5-1b74-469f-ab41-a8f0ff25e905",
   "metadata": {},
   "outputs": [
    {
     "name": "stdout",
     "output_type": "stream",
     "text": [
      "\u001B[34m\u001B[1mwandb\u001B[0m: Creating sweep from: ../sweep/224_sweep-fix.yaml\n",
      "\u001B[34m\u001B[1mwandb\u001B[0m: Created sweep with ID: \u001B[33m8avn1h7r\u001B[0m\n",
      "\u001B[34m\u001B[1mwandb\u001B[0m: View sweep at: \u001B[34m\u001B[4mhttps://wandb.ai/zcu_cv/DanishFungi2023/sweeps/8avn1h7r\u001B[0m\n",
      "\u001B[34m\u001B[1mwandb\u001B[0m: Run sweep agent with: \u001B[33mwandb agent zcu_cv/DanishFungi2023/8avn1h7r\u001B[0m\n"
     ]
    }
   ],
   "source": [
    "\n",
    "!wandb sweep ../sweep/224_sweep-fix.yaml"
   ]
  },
  {
   "cell_type": "code",
   "execution_count": null,
   "id": "812990e2-2f66-4a37-a3e9-98497239c31c",
   "metadata": {},
   "outputs": [
    {
     "name": "stdout",
     "output_type": "stream",
     "text": [
      "\u001B[34m\u001B[1mwandb\u001B[0m: Starting wandb agent 🕵️\n",
      "2023-11-21 21:35:16,852 - wandb.wandb_agent - INFO - Running runs: []\n",
      "2023-11-21 21:35:17,273 - wandb.wandb_agent - INFO - Agent received command: run\n",
      "2023-11-21 21:35:17,273 - wandb.wandb_agent - INFO - Agent starting run with config:\n",
      "\tarchitecture: vit_base_patch16_224.augreg_in21k_ft_in1k\n",
      "2023-11-21 21:35:17,528 - wandb.wandb_agent - INFO - About to run command: /usr/bin/env python danishfungi2023_train.py --config-path ../config/224_config.yaml --wandb-entity zcu_cv --wandb-project DanishFungi2023 --architecture=vit_base_patch16_224.augreg_in21k_ft_in1k\n",
      "2023-11-21 21:35:22,544 - wandb.wandb_agent - INFO - Running runs: ['q06by9v2']\n",
      "/opt/conda/lib/python3.8/site-packages/apex/pyprof/__init__.py:5: FutureWarning: pyprof will be removed by the end of June, 2022\n",
      "  warnings.warn(\"pyprof will be removed by the end of June, 2022\", FutureWarning)\n",
      "(script) INFO: Loading training config.\n",
      "(script) DEBUG: Extra arguments passed to the script: {'architecture': 'vit_base_patch16_224.augreg_in21k_ft_in1k'}\n",
      "(script) DEBUG: Changing config value architecture: mobilenetv2_100.ra_in1k -> vit_base_patch16_224.augreg_in21k_ft_in1k\n",
      "(script) INFO: Setting run name: vit_base_patch16_224.augreg_in21k_ft_in1k-CrossEntropyLoss-light\n",
      "(script) INFO: Using experiment directory: ../runs/vit_base_patch16_224.augreg_in21k_ft_in1k-CrossEntropyLoss-light/exp2\n",
      "(script) INFO: Using training configuration: {\n",
      "    \"augmentations\": \"light\",\n",
      "    \"image_size\": [\n",
      "        224,\n",
      "        224\n",
      "    ],\n",
      "    \"dataset\": \"DF20M\",\n",
      "    \"architecture\": \"vit_base_patch16_224.augreg_in21k_ft_in1k\",\n",
      "    \"train\": null,\n",
      "    \"loss\": \"CrossEntropyLoss\",\n",
      "    \"optimizer\": \"SGD\",\n",
      "    \"scheduler\": \"plateau\",\n",
      "    \"epochs\": 100,\n",
      "    \"learning_rate\": 0.01,\n",
      "    \"batch_size\": 16,\n",
      "    \"accumulation_steps\": 4,\n",
      "    \"random_seed\": 777,\n",
      "    \"workers\": 12,\n",
      "    \"multigpu\": false,\n",
      "    \"tags\": [\n",
      "        \"DanishFungi2023\",\n",
      "        \"224x224\",\n",
      "        \"Production\"\n",
      "    ],\n",
      "    \"root_path\": \"../\",\n",
      "    \"run_name\": \"vit_base_patch16_224.augreg_in21k_ft_in1k-CrossEntropyLoss-light\",\n",
      "    \"exp_name\": \"exp2\",\n",
      "    \"exp_path\": \"../runs/vit_base_patch16_224.augreg_in21k_ft_in1k-CrossEntropyLoss-light/exp2\"\n",
      "}\n",
      "(fgvc) INFO: Using device: cuda (0)\n",
      "(fgvc) INFO: Device names: 0: NVIDIA A40\n",
      "(script) INFO: Loading training and validation metadata.\n",
      "(script) INFO: Creating model, optimizer, and scheduler.\n",
      "(script) INFO: Creating DataLoaders.\n",
      "/opt/conda/lib/python3.8/site-packages/torch/utils/data/dataloader.py:490: UserWarning: This DataLoader will create 12 worker processes in total. Our suggested max number of worker in current system is 6, which is smaller than what this DataLoader is going to create. Please be aware that excessive worker creation might get DataLoader running slow or even freeze, lower the worker number to avoid potential slowness/freeze if necessary.\n",
      "  warnings.warn(_create_warning_msg(\n",
      "(script) INFO: Creating loss function.\n",
      "\u001B[34m\u001B[1mwandb\u001B[0m: Currently logged in as: \u001B[33mmhanzl\u001B[0m (\u001B[33mzcu_cv\u001B[0m). Use \u001B[1m`wandb login --relogin`\u001B[0m to force relogin\n",
      "\u001B[34m\u001B[1mwandb\u001B[0m: \u001B[33mWARNING\u001B[0m Ignored wandb.init() arg project when running a sweep.\n",
      "\u001B[34m\u001B[1mwandb\u001B[0m: \u001B[33mWARNING\u001B[0m Ignored wandb.init() arg entity when running a sweep.\n",
      "\u001B[34m\u001B[1mwandb\u001B[0m: wandb version 0.16.0 is available!  To upgrade, please run:\n",
      "\u001B[34m\u001B[1mwandb\u001B[0m:  $ pip install wandb --upgrade\n",
      "\u001B[34m\u001B[1mwandb\u001B[0m: Tracking run with wandb version 0.12.18\n",
      "\u001B[34m\u001B[1mwandb\u001B[0m: Run data is saved locally in \u001B[35m\u001B[1m/auto/plzen4-ntis/home/silvador386/Vision/Project/DanishFungiDataset/scripts/wandb/run-20231121_213552-q06by9v2\u001B[0m\n",
      "\u001B[34m\u001B[1mwandb\u001B[0m: Run \u001B[1m`wandb offline`\u001B[0m to turn off syncing.\n",
      "\u001B[34m\u001B[1mwandb\u001B[0m: Syncing run \u001B[33mvit_base_patch16_224.augreg_in21k_ft_in1k-CrossEntropyLoss-light\u001B[0m\n",
      "\u001B[34m\u001B[1mwandb\u001B[0m: ⭐️ View project at \u001B[34m\u001B[4mhttps://wandb.ai/zcu_cv/DanishFungi2023\u001B[0m\n",
      "\u001B[34m\u001B[1mwandb\u001B[0m: 🧹 View sweep at \u001B[34m\u001B[4mhttps://wandb.ai/zcu_cv/DanishFungi2023/sweeps/8avn1h7r\u001B[0m\n",
      "\u001B[34m\u001B[1mwandb\u001B[0m: 🚀 View run at \u001B[34m\u001B[4mhttps://wandb.ai/zcu_cv/DanishFungi2023/runs/q06by9v2\u001B[0m\n",
      "(script) INFO: Training the model.\n",
      "2023-11-21 21:35:55,053 - fgvc-training - INFO - Training started.\n",
      "/opt/conda/lib/python3.8/site-packages/torch/utils/data/dataloader.py:490: UserWarning: This DataLoader will create 12 worker processes in total. Our suggested max number of worker in current system is 6, which is smaller than what this DataLoader is going to create. Please be aware that excessive worker creation might get DataLoader running slow or even freeze, lower the worker number to avoid potential slowness/freeze if necessary.\n",
      "  warnings.warn(_create_warning_msg(\n",
      " 19%|███████▌                                | 387/2044 [01:13<04:27,  6.20it/s]"
     ]
    }
   ],
   "source": [
    "!wandb agent zcu_cv/DanishFungi2023/8avn1h7r"
   ]
  },
  {
   "cell_type": "code",
   "execution_count": null,
   "id": "a0af91b7-94f1-4ddd-a418-523588a249a9",
   "metadata": {
    "tags": []
   },
   "outputs": [
    {
     "name": "stdout",
     "output_type": "stream",
     "text": [
      "(script) INFO: Loading training config.\n",
      "(script) DEBUG: Extra arguments passed to the script: {}\n",
      "(script) INFO: Setting run name: vit_base_patch16_224-CrossEntropyLoss-vit_heavy\n",
      "(script) INFO: Using experiment directory: ../runs/vit_base_patch16_224-CrossEntropyLoss-vit_heavy/exp3\n",
      "(script) INFO: Using training configuration: {\n",
      "    \"augmentations\": \"vit_heavy\",\n",
      "    \"image_size\": [\n",
      "        224,\n",
      "        224\n",
      "    ],\n",
      "    \"dataset\": \"DF20M\",\n",
      "    \"architecture\": \"vit_base_patch16_224\",\n",
      "    \"train\": null,\n",
      "    \"loss\": \"CrossEntropyLoss\",\n",
      "    \"optimizer\": \"SGD\",\n",
      "    \"scheduler\": \"plateau\",\n",
      "    \"epochs\": 100,\n",
      "    \"learning_rate\": 0.01,\n",
      "    \"batch_size\": 64,\n",
      "    \"accumulation_steps\": 1,\n",
      "    \"random_seed\": 777,\n",
      "    \"workers\": 12,\n",
      "    \"multigpu\": false,\n",
      "    \"tags\": [\n",
      "        \"DanishFungi2023\",\n",
      "        \"224x224\",\n",
      "        \"Debug\"\n",
      "    ],\n",
      "    \"root_path\": \"../\",\n",
      "    \"run_name\": \"vit_base_patch16_224-CrossEntropyLoss-vit_heavy\",\n",
      "    \"exp_name\": \"exp3\",\n",
      "    \"exp_path\": \"../runs/vit_base_patch16_224-CrossEntropyLoss-vit_heavy/exp3\"\n",
      "}\n",
      "(fgvc) INFO: Using device: cuda (0)\n",
      "(fgvc) INFO: Device names: 0: NVIDIA GeForce RTX 4070 Ti\n",
      "(script) INFO: Loading training and validation metadata.\n",
      "(script) INFO: Creating model, optimizer, and scheduler.\n",
      "(fgvc) DEBUG: Setting new prediction head with random initial weights.\n",
      "(script) INFO: Creating DataLoaders.\n",
      "(script) INFO: Creating loss function.\n",
      "\u001B[34m\u001B[1mwandb\u001B[0m: Currently logged in as: \u001B[33mmhanzl\u001B[0m (\u001B[33mzcu_cv\u001B[0m). Use \u001B[1m`wandb login --relogin`\u001B[0m to force relogin\n",
      "\u001B[34m\u001B[1mwandb\u001B[0m: wandb version 0.16.0 is available!  To upgrade, please run:\n",
      "\u001B[34m\u001B[1mwandb\u001B[0m:  $ pip install wandb --upgrade\n",
      "\u001B[34m\u001B[1mwandb\u001B[0m: Tracking run with wandb version 0.15.12\n",
      "\u001B[34m\u001B[1mwandb\u001B[0m: Run data is saved locally in \u001B[35m\u001B[1m/home/marek/Projects/PythonLand/Vision/Baseline/scripts/wandb/run-20231203_184746-7jzjib6v\u001B[0m\n",
      "\u001B[34m\u001B[1mwandb\u001B[0m: Run \u001B[1m`wandb offline`\u001B[0m to turn off syncing.\n",
      "\u001B[34m\u001B[1mwandb\u001B[0m: Syncing run \u001B[33mvit_base_patch16_224-CrossEntropyLoss-vit_heavy\u001B[0m\n",
      "\u001B[34m\u001B[1mwandb\u001B[0m: ⭐️ View project at \u001B[34m\u001B[4mhttps://wandb.ai/zcu_cv/DanishFungi2023\u001B[0m\n",
      "\u001B[34m\u001B[1mwandb\u001B[0m: 🚀 View run at \u001B[34m\u001B[4mhttps://wandb.ai/zcu_cv/DanishFungi2023/runs/7jzjib6v\u001B[0m\n",
      "(script) INFO: Training the model.\n",
      "2023-12-03 18:47:48,507 - fgvc-training - INFO - Training started.\n",
      "100%|█████████████████████████████████████████| 511/511 [03:28<00:00,  2.46it/s]\n",
      "100%|███████████████████████████████████████████| 58/58 [00:13<00:00,  4.39it/s]\n",
      "2023-12-03 18:51:30,221 - fgvc-training - INFO - Epoch 1 - avg_train_loss: 3.3264\tavg_val_loss: 2.4419\tF1: 22.76%\tAccuracy: 38.85%\tRecall@3: 59.52%\ttime: 222s\n",
      "2023-12-03 18:51:30,221 - fgvc-training - INFO - Epoch 1 - Save checkpoint with best validation loss: 2.441862\n",
      "2023-12-03 18:51:30,415 - fgvc-training - INFO - Epoch 1 - Save checkpoint with best validation accuracy: 0.388544\n",
      "2023-12-03 18:51:30,598 - fgvc-training - INFO - Epoch 1 - Save checkpoint with best validation recall@3: 0.595245\n",
      "2023-12-03 18:51:30,773 - fgvc-training - INFO - Epoch 1 - Save checkpoint with best validation f1: 0.227611\n",
      "100%|█████████████████████████████████████████| 511/511 [03:28<00:00,  2.45it/s]\n",
      "100%|███████████████████████████████████████████| 58/58 [00:13<00:00,  4.37it/s]\n",
      "2023-12-03 18:55:13,420 - fgvc-training - INFO - Epoch 2 - avg_train_loss: 2.3158\tavg_val_loss: 2.0722\tF1: 31.84%\tAccuracy: 44.96%\tRecall@3: 69.39%\ttime: 222s\n",
      "2023-12-03 18:55:13,420 - fgvc-training - INFO - Epoch 2 - Save checkpoint with best validation loss: 2.072223\n",
      "2023-12-03 18:55:13,720 - fgvc-training - INFO - Epoch 2 - Save checkpoint with best validation accuracy: 0.449608\n",
      "2023-12-03 18:55:14,020 - fgvc-training - INFO - Epoch 2 - Save checkpoint with best validation recall@3: 0.693867\n",
      "2023-12-03 18:55:14,320 - fgvc-training - INFO - Epoch 2 - Save checkpoint with best validation f1: 0.318443\n",
      "100%|█████████████████████████████████████████| 511/511 [03:36<00:00,  2.36it/s]\n",
      "100%|███████████████████████████████████████████| 58/58 [00:14<00:00,  4.07it/s]\n",
      "2023-12-03 18:59:06,587 - fgvc-training - INFO - Epoch 3 - avg_train_loss: 1.9861\tavg_val_loss: 2.0296\tF1: 34.65%\tAccuracy: 47.20%\tRecall@3: 68.79%\ttime: 231s\n",
      "2023-12-03 18:59:06,587 - fgvc-training - INFO - Epoch 3 - Save checkpoint with best validation loss: 2.029578\n",
      "2023-12-03 18:59:06,890 - fgvc-training - INFO - Epoch 3 - Save checkpoint with best validation accuracy: 0.472035\n",
      "2023-12-03 18:59:07,205 - fgvc-training - INFO - Epoch 3 - Save checkpoint with best validation f1: 0.346451\n",
      "100%|█████████████████████████████████████████| 511/511 [03:53<00:00,  2.18it/s]\n",
      "100%|███████████████████████████████████████████| 58/58 [00:15<00:00,  3.84it/s]\n",
      "2023-12-03 19:03:17,490 - fgvc-training - INFO - Epoch 4 - avg_train_loss: 1.7765\tavg_val_loss: 1.9732\tF1: 36.63%\tAccuracy: 48.93%\tRecall@3: 70.36%\ttime: 249s\n",
      "2023-12-03 19:03:17,490 - fgvc-training - INFO - Epoch 4 - Save checkpoint with best validation loss: 1.973205\n",
      "2023-12-03 19:03:17,809 - fgvc-training - INFO - Epoch 4 - Save checkpoint with best validation accuracy: 0.489327\n",
      "2023-12-03 19:03:18,137 - fgvc-training - INFO - Epoch 4 - Save checkpoint with best validation recall@3: 0.703594\n",
      "2023-12-03 19:03:18,454 - fgvc-training - INFO - Epoch 4 - Save checkpoint with best validation f1: 0.366339\n",
      "100%|█████████████████████████████████████████| 511/511 [03:46<00:00,  2.25it/s]\n",
      "100%|███████████████████████████████████████████| 58/58 [00:14<00:00,  3.90it/s]\n",
      "2023-12-03 19:07:21,598 - fgvc-training - INFO - Epoch 5 - avg_train_loss: 1.6002\tavg_val_loss: 1.8891\tF1: 37.50%\tAccuracy: 49.58%\tRecall@3: 71.55%\ttime: 242s\n",
      "2023-12-03 19:07:21,598 - fgvc-training - INFO - Epoch 5 - Save checkpoint with best validation loss: 1.889146\n",
      "2023-12-03 19:07:21,908 - fgvc-training - INFO - Epoch 5 - Save checkpoint with best validation accuracy: 0.495812\n",
      "2023-12-03 19:07:22,230 - fgvc-training - INFO - Epoch 5 - Save checkpoint with best validation recall@3: 0.715482\n",
      "2023-12-03 19:07:22,537 - fgvc-training - INFO - Epoch 5 - Save checkpoint with best validation f1: 0.374952\n",
      "100%|█████████████████████████████████████████| 511/511 [03:31<00:00,  2.42it/s]\n",
      "100%|███████████████████████████████████████████| 58/58 [00:14<00:00,  4.14it/s]\n",
      "2023-12-03 19:11:08,927 - fgvc-training - INFO - Epoch 6 - avg_train_loss: 1.4681\tavg_val_loss: 1.9858\tF1: 38.23%\tAccuracy: 50.55%\tRecall@3: 71.44%\ttime: 225s\n",
      "2023-12-03 19:11:08,927 - fgvc-training - INFO - Epoch 6 - Save checkpoint with best validation accuracy: 0.505539\n",
      "2023-12-03 19:11:09,234 - fgvc-training - INFO - Epoch 6 - Save checkpoint with best validation f1: 0.382321\n",
      "100%|█████████████████████████████████████████| 511/511 [03:28<00:00,  2.45it/s]\n",
      "100%|███████████████████████████████████████████| 58/58 [00:13<00:00,  4.22it/s]\n",
      "Epoch 00007: reducing learning rate of group 0 to 9.0000e-03.\n",
      "2023-12-03 19:14:53,228 - fgvc-training - INFO - Epoch 7 - avg_train_loss: 1.3249\tavg_val_loss: 1.9779\tF1: 39.20%\tAccuracy: 51.99%\tRecall@3: 72.20%\ttime: 223s\n",
      "2023-12-03 19:14:53,228 - fgvc-training - INFO - Epoch 7 - Save checkpoint with best validation accuracy: 0.519859\n",
      "2023-12-03 19:14:53,541 - fgvc-training - INFO - Epoch 7 - Save checkpoint with best validation recall@3: 0.721967\n",
      "2023-12-03 19:14:53,854 - fgvc-training - INFO - Epoch 7 - Save checkpoint with best validation f1: 0.391974\n",
      "100%|█████████████████████████████████████████| 511/511 [03:29<00:00,  2.44it/s]\n",
      "100%|███████████████████████████████████████████| 58/58 [00:13<00:00,  4.18it/s]\n",
      "2023-12-03 19:18:38,042 - fgvc-training - INFO - Epoch 8 - avg_train_loss: 1.1367\tavg_val_loss: 2.0351\tF1: 38.90%\tAccuracy: 51.12%\tRecall@3: 72.47%\ttime: 223s\n",
      "2023-12-03 19:18:38,042 - fgvc-training - INFO - Epoch 8 - Save checkpoint with best validation recall@3: 0.724669\n",
      "100%|█████████████████████████████████████████| 511/511 [03:29<00:00,  2.44it/s]\n",
      "100%|███████████████████████████████████████████| 58/58 [00:13<00:00,  4.17it/s]\n",
      "Epoch 00009: reducing learning rate of group 0 to 8.1000e-03.\n",
      "2023-12-03 19:22:22,278 - fgvc-training - INFO - Epoch 9 - avg_train_loss: 1.0073\tavg_val_loss: 2.0560\tF1: 39.67%\tAccuracy: 51.45%\tRecall@3: 71.55%\ttime: 223s\n",
      "2023-12-03 19:22:22,278 - fgvc-training - INFO - Epoch 9 - Save checkpoint with best validation f1: 0.396742\n",
      "100%|█████████████████████████████████████████| 511/511 [03:28<00:00,  2.45it/s]\n",
      "100%|███████████████████████████████████████████| 58/58 [00:13<00:00,  4.37it/s]\n",
      "2023-12-03 19:26:05,625 - fgvc-training - INFO - Epoch 10 - avg_train_loss: 0.8412\tavg_val_loss: 2.1937\tF1: 40.44%\tAccuracy: 52.50%\tRecall@3: 73.22%\ttime: 222s\n",
      "2023-12-03 19:26:05,626 - fgvc-training - INFO - Epoch 10 - Save checkpoint with best validation accuracy: 0.524993\n",
      "2023-12-03 19:26:05,929 - fgvc-training - INFO - Epoch 10 - Save checkpoint with best validation recall@3: 0.732235\n",
      "2023-12-03 19:26:06,230 - fgvc-training - INFO - Epoch 10 - Save checkpoint with best validation f1: 0.404428\n",
      "100%|█████████████████████████████████████████| 511/511 [03:46<00:00,  2.26it/s]\n",
      "100%|███████████████████████████████████████████| 58/58 [00:14<00:00,  3.90it/s]\n",
      "Epoch 00011: reducing learning rate of group 0 to 7.2900e-03.\n",
      "2023-12-03 19:30:08,372 - fgvc-training - INFO - Epoch 11 - avg_train_loss: 0.7647\tavg_val_loss: 2.3640\tF1: 40.00%\tAccuracy: 51.72%\tRecall@3: 72.12%\ttime: 241s\n",
      "100%|█████████████████████████████████████████| 511/511 [03:46<00:00,  2.26it/s]\n",
      "100%|███████████████████████████████████████████| 58/58 [00:14<00:00,  3.92it/s]\n",
      "2023-12-03 19:34:10,425 - fgvc-training - INFO - Epoch 12 - avg_train_loss: 0.6090\tavg_val_loss: 2.4183\tF1: 40.86%\tAccuracy: 51.99%\tRecall@3: 72.25%\ttime: 241s\n",
      "2023-12-03 19:34:10,425 - fgvc-training - INFO - Epoch 12 - Save checkpoint with best validation f1: 0.408604\n",
      "100%|█████████████████████████████████████████| 511/511 [03:46<00:00,  2.25it/s]\n",
      "100%|███████████████████████████████████████████| 58/58 [00:14<00:00,  4.06it/s]\n",
      "Epoch 00013: reducing learning rate of group 0 to 6.5610e-03.\n",
      "2023-12-03 19:38:12,878 - fgvc-training - INFO - Epoch 13 - avg_train_loss: 0.5530\tavg_val_loss: 2.4431\tF1: 41.20%\tAccuracy: 53.88%\tRecall@3: 73.06%\ttime: 242s\n",
      "2023-12-03 19:38:12,878 - fgvc-training - INFO - Epoch 13 - Save checkpoint with best validation accuracy: 0.538773\n",
      "2023-12-03 19:38:13,198 - fgvc-training - INFO - Epoch 13 - Save checkpoint with best validation f1: 0.412008\n",
      "100%|█████████████████████████████████████████| 511/511 [03:47<00:00,  2.25it/s]\n",
      "100%|███████████████████████████████████████████| 58/58 [00:14<00:00,  4.13it/s]\n",
      "2023-12-03 19:42:15,810 - fgvc-training - INFO - Epoch 14 - avg_train_loss: 0.4534\tavg_val_loss: 2.7023\tF1: 40.48%\tAccuracy: 52.90%\tRecall@3: 73.09%\ttime: 242s\n",
      "100%|█████████████████████████████████████████| 511/511 [03:52<00:00,  2.20it/s]\n",
      "100%|███████████████████████████████████████████| 58/58 [00:14<00:00,  3.91it/s]\n",
      "Epoch 00015: reducing learning rate of group 0 to 5.9049e-03.\n",
      "2023-12-03 19:46:24,378 - fgvc-training - INFO - Epoch 15 - avg_train_loss: 0.4001\tavg_val_loss: 2.6523\tF1: 40.53%\tAccuracy: 52.26%\tRecall@3: 72.76%\ttime: 248s\n",
      "100%|█████████████████████████████████████████| 511/511 [03:56<00:00,  2.16it/s]\n",
      "100%|███████████████████████████████████████████| 58/58 [00:14<00:00,  3.94it/s]\n",
      "2023-12-03 19:50:36,210 - fgvc-training - INFO - Epoch 16 - avg_train_loss: 0.3278\tavg_val_loss: 2.8319\tF1: 42.31%\tAccuracy: 53.09%\tRecall@3: 73.39%\ttime: 251s\n",
      "2023-12-03 19:50:36,210 - fgvc-training - INFO - Epoch 16 - Save checkpoint with best validation recall@3: 0.733856\n",
      "2023-12-03 19:50:36,532 - fgvc-training - INFO - Epoch 16 - Save checkpoint with best validation f1: 0.423104\n",
      "  0%|                                                   | 0/511 [00:00<?, ?it/s]"
     ]
    }
   ],
   "source": [
    "!python danishfungi2023_train-local.py \\\n",
    "    --config-path ../config/224_config.yaml \\\n",
    "    --cuda-devices 0 \\\n",
    "    --wandb-entity zcu_cv \\\n",
    "    --wandb-project DanishFungi2023"
   ]
  },
  {
   "cell_type": "code",
   "execution_count": null,
   "id": "fac33943-1056-493a-a8c8-fab9e7c1629d",
   "metadata": {},
   "outputs": [],
   "source": []
  }
 ],
 "metadata": {
  "kernelspec": {
   "display_name": "Python 3 (ipykernel)",
   "language": "python",
   "name": "python3"
  },
  "language_info": {
   "codemirror_mode": {
    "name": "ipython",
    "version": 3
   },
   "file_extension": ".py",
   "mimetype": "text/x-python",
   "name": "python",
   "nbconvert_exporter": "python",
   "pygments_lexer": "ipython3",
   "version": "3.11.5"
  }
 },
 "nbformat": 4,
 "nbformat_minor": 5
}
