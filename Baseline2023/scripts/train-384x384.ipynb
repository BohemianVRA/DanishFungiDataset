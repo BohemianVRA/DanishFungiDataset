{
 "cells": [
  {
   "cell_type": "code",
   "execution_count": 9,
   "id": "bddc9720-4a2d-40ce-a8f0-bb8f8d0c0816",
   "metadata": {
    "tags": []
   },
   "outputs": [
    {
     "name": "stdout",
     "output_type": "stream",
     "text": [
      "total 192\n",
      "drwx------  2 silvador386 meta    42 Nov 27 09:14 __pycache__\n",
      "-rw-------  1 silvador386 meta  8283 Nov 17 14:57 danishfungi2023_train-local.py\n",
      "-rw-------  1 silvador386 meta  8339 Nov 17 14:57 danishfungi2023_train-orig.py\n",
      "-rw-------  1 silvador386 meta  8229 Nov 17 14:59 danishfungi2023_train.py\n",
      "-rw-------  1 silvador386 meta  8216 Nov 24 07:30 danishfungi2023_train_all.py\n",
      "-rw-------  1 silvador386 meta  9164 Nov 26 15:21 hfhub.py\n",
      "-rw-------  1 silvador386 meta 13506 Nov 21 21:37 train-224x224.ipynb\n",
      "-rw-------  1 silvador386 meta 14199 Nov 24 07:55 train-299x299-all.ipynb\n",
      "-rw-------  1 silvador386 meta 29728 Nov 18 19:35 train-299x299.ipynb\n",
      "-rw-------  1 silvador386 meta  7811 Nov 27 14:23 train-384x384.ipynb\n",
      "-rw-------  1 silvador386 meta 19067 Nov 15 19:02 train-orig.ipynb\n",
      "-rw-------  1 silvador386 meta 29150 Nov 15 19:45 train.ipynb\n",
      "drwx------ 62 silvador386 meta  4096 Nov 27 09:14 wandb\n",
      "drwx------  3 silvador386 meta    37 Nov 16 03:19 zcu_cv\n"
     ]
    }
   ],
   "source": [
    "!ls -l"
   ]
  },
  {
   "cell_type": "code",
   "execution_count": 2,
   "id": "3354cfc1-8399-442c-8ed6-ed2a45a971d0",
   "metadata": {},
   "outputs": [],
   "source": [
    "import os\n",
    "# os.chdir(\"/auto/plzen4-ntis/home/silvador386/Vision/Project/DanishFungiDataset\")"
   ]
  },
  {
   "cell_type": "code",
   "execution_count": 3,
   "id": "170ded66-a4e2-4076-a31c-875bf6ecac9f",
   "metadata": {
    "tags": []
   },
   "outputs": [
    {
     "name": "stdout",
     "output_type": "stream",
     "text": [
      "32692 3701 0.90% train\n"
     ]
    },
    {
     "data": {
      "text/plain": [
       "181"
      ]
     },
     "execution_count": 3,
     "metadata": {},
     "output_type": "execute_result"
    }
   ],
   "source": [
    "import pandas as pd\n",
    "train_df = pd.read_csv(\"../metadata/DanishFungi2023-train_mini.csv\")\n",
    "test_df = pd.read_csv(\"../metadata/DanishFungi2023-val_mini.csv\")\n",
    "print(len(train_df), len(test_df), f\"{len(train_df)/(len(train_df) + len(test_df)):.02f}% train\")\n",
    "max(test_df[\"class_id\"])"
   ]
  },
  {
   "cell_type": "code",
   "execution_count": 4,
   "id": "f6fc25be-7c87-4d0c-bbb8-440f0be642b6",
   "metadata": {
    "tags": []
   },
   "outputs": [
    {
     "name": "stdout",
     "output_type": "stream",
     "text": [
      "env: CUDA_DEVICES=0\n",
      "env: WANDB_ENTITY=zcu_cv\n",
      "env: WANDB_PROJECT=DanishFungi2023\n"
     ]
    }
   ],
   "source": [
    "%env CUDA_DEVICES = 0\n",
    "%env WANDB_ENTITY = zcu_cv\n",
    "%env WANDB_PROJECT = DanishFungi2023"
   ]
  },
  {
   "cell_type": "code",
   "execution_count": 5,
   "id": "7c3e1193-26c4-4a13-8cf2-f5daef8499f5",
   "metadata": {
    "tags": []
   },
   "outputs": [],
   "source": [
    "import os\n",
    "os.environ[\"CUDA_VISIBLE_DEVICES\"] = os.environ[\"CUDA_DEVICES\"]"
   ]
  },
  {
   "cell_type": "code",
   "execution_count": 10,
   "id": "62fef7b6-9a8f-4582-889d-6f4cff185be2",
   "metadata": {
    "tags": []
   },
   "outputs": [
    {
     "name": "stdout",
     "output_type": "stream",
     "text": [
      "Mon Nov 27 14:26:21 2023       \n",
      "+-----------------------------------------------------------------------------+\n",
      "| NVIDIA-SMI 525.105.17   Driver Version: 525.105.17   CUDA Version: 12.0     |\n",
      "|-------------------------------+----------------------+----------------------+\n",
      "| GPU  Name        Persistence-M| Bus-Id        Disp.A | Volatile Uncorr. ECC |\n",
      "| Fan  Temp  Perf  Pwr:Usage/Cap|         Memory-Usage | GPU-Util  Compute M. |\n",
      "|                               |                      |               MIG M. |\n",
      "|===============================+======================+======================|\n",
      "|   0  NVIDIA A40          On   | 00000000:01:00.0 Off |                    0 |\n",
      "|  0%   45C    P0    81W / 300W |  37792MiB / 46068MiB |      0%      Default |\n",
      "|                               |                      |                  N/A |\n",
      "+-------------------------------+----------------------+----------------------+\n",
      "                                                                               \n",
      "+-----------------------------------------------------------------------------+\n",
      "| Processes:                                                                  |\n",
      "|  GPU   GI   CI        PID   Type   Process name                  GPU Memory |\n",
      "|        ID   ID                                                   Usage      |\n",
      "|=============================================================================|\n",
      "+-----------------------------------------------------------------------------+\n"
     ]
    }
   ],
   "source": [
    "!nvidia-smi"
   ]
  },
  {
   "cell_type": "code",
   "execution_count": 7,
   "id": "954aea50-5083-40d1-8b60-1a4273e3968c",
   "metadata": {},
   "outputs": [
    {
     "data": {
      "application/vnd.jupyter.widget-view+json": {
       "model_id": "510824b9011949beb971e88dd9f8641f",
       "version_major": 2,
       "version_minor": 0
      },
      "text/plain": [
       "VBox(children=(HTML(value='<center> <img\\nsrc=https://huggingface.co/front/assets/huggingface_logo-noborder.sv…"
      ]
     },
     "metadata": {},
     "output_type": "display_data"
    }
   ],
   "source": [
    "from huggingface_hub import login\n",
    "# login()"
   ]
  },
  {
   "cell_type": "code",
   "execution_count": 7,
   "id": "a3e4dad5-1b74-469f-ab41-a8f0ff25e905",
   "metadata": {},
   "outputs": [
    {
     "name": "stdout",
     "output_type": "stream",
     "text": [
      "\u001b[34m\u001b[1mwandb\u001b[0m: Creating sweep from: ../sweep/384_sweep.yaml\n",
      "\u001b[34m\u001b[1mwandb\u001b[0m: Created sweep with ID: \u001b[33m2oqm3c4i\u001b[0m\n",
      "\u001b[34m\u001b[1mwandb\u001b[0m: View sweep at: \u001b[34m\u001b[4mhttps://wandb.ai/zcu_cv/DanishFungi2023/sweeps/2oqm3c4i\u001b[0m\n",
      "\u001b[34m\u001b[1mwandb\u001b[0m: Run sweep agent with: \u001b[33mwandb agent zcu_cv/DanishFungi2023/2oqm3c4i\u001b[0m\n"
     ]
    }
   ],
   "source": [
    "\n",
    "!wandb sweep ../sweep/384_sweep.yaml"
   ]
  },
  {
   "cell_type": "code",
   "execution_count": 8,
   "id": "812990e2-2f66-4a37-a3e9-98497239c31c",
   "metadata": {},
   "outputs": [],
   "source": [
    "# !wandb agent zcu_cv/DanishFungi2023/2oqm3c4i"
   ]
  },
  {
   "cell_type": "code",
   "execution_count": 1,
   "id": "a0af91b7-94f1-4ddd-a418-523588a249a9",
   "metadata": {
    "tags": []
   },
   "outputs": [],
   "source": [
    "!python danishfungi2023_train.py \\\n",
    "    --config-path ../config/_config.yaml \\\n",
    "    --cuda-devices 0 \\\n",
    "    --wandb-entity zcu_cv \\\n",
    "    --wandb-project DanishFungi2023"
   ]
  }
 ],
 "metadata": {
  "kernelspec": {
   "display_name": "Python 3 (ipykernel)",
   "language": "python",
   "name": "python3"
  },
  "language_info": {
   "codemirror_mode": {
    "name": "ipython",
    "version": 3
   },
   "file_extension": ".py",
   "mimetype": "text/x-python",
   "name": "python",
   "nbconvert_exporter": "python",
   "pygments_lexer": "ipython3",
   "version": "3.8.13"
  }
 },
 "nbformat": 4,
 "nbformat_minor": 5
}
