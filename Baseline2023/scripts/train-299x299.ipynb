{
 "cells": [
  {
   "cell_type": "code",
   "execution_count": 1,
   "id": "bddc9720-4a2d-40ce-a8f0-bb8f8d0c0816",
   "metadata": {
    "tags": []
   },
   "outputs": [
    {
     "name": "stdout",
     "output_type": "stream",
     "text": [
      "total 192\n",
      "drwx------  2 silvador386 meta    42 Nov 17 17:09 __pycache__\n",
      "-rw-------  1 silvador386 meta  8283 Nov 17 14:57 danishfungi2023_train-local.py\n",
      "-rw-------  1 silvador386 meta  8339 Nov 17 14:57 danishfungi2023_train-orig.py\n",
      "-rw-------  1 silvador386 meta  8229 Nov 17 14:59 danishfungi2023_train.py\n",
      "-rw-------  1 silvador386 meta  8895 Nov 17 17:08 hfhub.py\n",
      "-rw-------  1 silvador386 meta  4638 Nov 18 18:55 train-224x224.ipynb\n",
      "-rw-------  1 silvador386 meta 15710 Nov 18 18:57 train-299x299.ipynb\n",
      "-rw-------  1 silvador386 meta 64955 Nov 17 19:33 train-384x384.ipynb\n",
      "-rw-------  1 silvador386 meta 19067 Nov 15 19:02 train-orig.ipynb\n",
      "-rw-------  1 silvador386 meta 29150 Nov 15 19:45 train.ipynb\n",
      "drwx------ 39 silvador386 meta  4096 Nov 18 18:56 wandb\n",
      "drwx------  3 silvador386 meta    37 Nov 16 03:19 zcu_cv\n"
     ]
    }
   ],
   "source": [
    "!ls -l"
   ]
  },
  {
   "cell_type": "code",
   "execution_count": 2,
   "id": "3354cfc1-8399-442c-8ed6-ed2a45a971d0",
   "metadata": {},
   "outputs": [],
   "source": [
    "import os\n",
    "# os.chdir(\"/auto/plzen4-ntis/home/silvador386/Vision/Project/DanishFungiDataset\")"
   ]
  },
  {
   "cell_type": "code",
   "execution_count": 3,
   "id": "170ded66-a4e2-4076-a31c-875bf6ecac9f",
   "metadata": {
    "tags": []
   },
   "outputs": [
    {
     "name": "stdout",
     "output_type": "stream",
     "text": [
      "32692 3701 0.90% train\n"
     ]
    },
    {
     "data": {
      "text/plain": [
       "181"
      ]
     },
     "execution_count": 3,
     "metadata": {},
     "output_type": "execute_result"
    }
   ],
   "source": [
    "import pandas as pd\n",
    "train_df = pd.read_csv(\"../metadata/DanishFungi2023-train_mini.csv\")\n",
    "test_df = pd.read_csv(\"../metadata/DanishFungi2023-val_mini.csv\")\n",
    "print(len(train_df), len(test_df), f\"{len(train_df)/(len(train_df) + len(test_df)):.02f}% train\")\n",
    "max(test_df[\"class_id\"])"
   ]
  },
  {
   "cell_type": "code",
   "execution_count": 4,
   "id": "f6fc25be-7c87-4d0c-bbb8-440f0be642b6",
   "metadata": {
    "tags": []
   },
   "outputs": [
    {
     "name": "stdout",
     "output_type": "stream",
     "text": [
      "env: CUDA_DEVICES=0\n",
      "env: WANDB_ENTITY=zcu_cv\n",
      "env: WANDB_PROJECT=DanishFungi2023\n"
     ]
    }
   ],
   "source": [
    "%env CUDA_DEVICES = 0\n",
    "%env WANDB_ENTITY = zcu_cv\n",
    "%env WANDB_PROJECT = DanishFungi2023"
   ]
  },
  {
   "cell_type": "code",
   "execution_count": 5,
   "id": "7c3e1193-26c4-4a13-8cf2-f5daef8499f5",
   "metadata": {
    "tags": []
   },
   "outputs": [],
   "source": [
    "import os\n",
    "os.environ[\"CUDA_VISIBLE_DEVICES\"] = os.environ[\"CUDA_DEVICES\"]"
   ]
  },
  {
   "cell_type": "code",
   "execution_count": 6,
   "id": "62fef7b6-9a8f-4582-889d-6f4cff185be2",
   "metadata": {
    "tags": []
   },
   "outputs": [
    {
     "name": "stdout",
     "output_type": "stream",
     "text": [
      "Sat Nov 18 19:08:57 2023       \n",
      "+---------------------------------------------------------------------------------------+\n",
      "| NVIDIA-SMI 535.86.10              Driver Version: 535.86.10    CUDA Version: 12.2     |\n",
      "|-----------------------------------------+----------------------+----------------------+\n",
      "| GPU  Name                 Persistence-M | Bus-Id        Disp.A | Volatile Uncorr. ECC |\n",
      "| Fan  Temp   Perf          Pwr:Usage/Cap |         Memory-Usage | GPU-Util  Compute M. |\n",
      "|                                         |                      |               MIG M. |\n",
      "|=========================================+======================+======================|\n",
      "|   0  NVIDIA A40                     On  | 00000000:01:00.0 Off |                    0 |\n",
      "|  0%   41C    P0              75W / 300W |   8064MiB / 46068MiB |      0%      Default |\n",
      "|                                         |                      |                  N/A |\n",
      "+-----------------------------------------+----------------------+----------------------+\n",
      "                                                                                         \n",
      "+---------------------------------------------------------------------------------------+\n",
      "| Processes:                                                                            |\n",
      "|  GPU   GI   CI        PID   Type   Process name                            GPU Memory |\n",
      "|        ID   ID                                                             Usage      |\n",
      "|=======================================================================================|\n",
      "+---------------------------------------------------------------------------------------+\n"
     ]
    }
   ],
   "source": [
    "!nvidia-smi"
   ]
  },
  {
   "cell_type": "code",
   "execution_count": 7,
   "id": "954aea50-5083-40d1-8b60-1a4273e3968c",
   "metadata": {},
   "outputs": [],
   "source": [
    "from huggingface_hub import login\n",
    "# login()"
   ]
  },
  {
   "cell_type": "code",
   "execution_count": 8,
   "id": "a3e4dad5-1b74-469f-ab41-a8f0ff25e905",
   "metadata": {},
   "outputs": [
    {
     "name": "stdout",
     "output_type": "stream",
     "text": [
      "\u001b[34m\u001b[1mwandb\u001b[0m: Creating sweep from: ../sweep/299_sweep-fix.yaml\n",
      "\u001b[34m\u001b[1mwandb\u001b[0m: Created sweep with ID: \u001b[33mzm7qkn18\u001b[0m\n",
      "\u001b[34m\u001b[1mwandb\u001b[0m: View sweep at: \u001b[34m\u001b[4mhttps://wandb.ai/zcu_cv/DanishFungi2023/sweeps/zm7qkn18\u001b[0m\n",
      "\u001b[34m\u001b[1mwandb\u001b[0m: Run sweep agent with: \u001b[33mwandb agent zcu_cv/DanishFungi2023/zm7qkn18\u001b[0m\n"
     ]
    }
   ],
   "source": [
    "\n",
    "!wandb sweep ../sweep/299_sweep-fix.yaml"
   ]
  },
  {
   "cell_type": "code",
   "execution_count": null,
   "id": "812990e2-2f66-4a37-a3e9-98497239c31c",
   "metadata": {},
   "outputs": [
    {
     "name": "stdout",
     "output_type": "stream",
     "text": [
      "\u001b[34m\u001b[1mwandb\u001b[0m: Starting wandb agent 🕵️\n",
      "2023-11-18 19:09:18,136 - wandb.wandb_agent - INFO - Running runs: []\n",
      "2023-11-18 19:09:18,655 - wandb.wandb_agent - INFO - Agent received command: run\n",
      "2023-11-18 19:09:18,656 - wandb.wandb_agent - INFO - Agent starting run with config:\n",
      "\tarchitecture: resnet50.a1_in1k\n",
      "2023-11-18 19:09:18,731 - wandb.wandb_agent - INFO - About to run command: /usr/bin/env python danishfungi2023_train.py --config-path ../config/299_config.yaml --wandb-entity zcu_cv --wandb-project DanishFungi2023 --architecture=resnet50.a1_in1k\n",
      "2023-11-18 19:09:23,746 - wandb.wandb_agent - INFO - Running runs: ['sd014j47']\n",
      "/opt/conda/lib/python3.8/site-packages/apex/pyprof/__init__.py:5: FutureWarning: pyprof will be removed by the end of June, 2022\n",
      "  warnings.warn(\"pyprof will be removed by the end of June, 2022\", FutureWarning)\n",
      "(script) INFO: Loading training config.\n",
      "(script) DEBUG: Extra arguments passed to the script: {'architecture': 'resnet50.a1_in1k'}\n",
      "(script) DEBUG: Changing config value architecture: mobilenetv2_100.ra_in1k -> resnet50.a1_in1k\n",
      "(script) INFO: Setting run name: resnet50.a1_in1k-CrossEntropyLoss-light\n",
      "(script) INFO: Using experiment directory: ../runs/resnet50.a1_in1k-CrossEntropyLoss-light/exp6\n",
      "(script) INFO: Using training configuration: {\n",
      "    \"augmentations\": \"light\",\n",
      "    \"image_size\": [\n",
      "        299,\n",
      "        299\n",
      "    ],\n",
      "    \"dataset\": \"DF23M\",\n",
      "    \"architecture\": \"resnet50.a1_in1k\",\n",
      "    \"train\": null,\n",
      "    \"loss\": \"CrossEntropyLoss\",\n",
      "    \"optimizer\": \"SGD\",\n",
      "    \"scheduler\": \"plateau\",\n",
      "    \"epochs\": 100,\n",
      "    \"learning_rate\": 0.01,\n",
      "    \"batch_size\": 64,\n",
      "    \"accumulation_steps\": 1,\n",
      "    \"random_seed\": 777,\n",
      "    \"workers\": 12,\n",
      "    \"multigpu\": false,\n",
      "    \"tags\": [\n",
      "        \"DanishFungi2023\",\n",
      "        \"299x299\",\n",
      "        \"Production\"\n",
      "    ],\n",
      "    \"root_path\": \"../\",\n",
      "    \"run_name\": \"resnet50.a1_in1k-CrossEntropyLoss-light\",\n",
      "    \"exp_name\": \"exp6\",\n",
      "    \"exp_path\": \"../runs/resnet50.a1_in1k-CrossEntropyLoss-light/exp6\"\n",
      "}\n",
      "(fgvc) INFO: Using device: cuda (0)\n",
      "(fgvc) INFO: Device names: 0: NVIDIA A40\n",
      "(script) INFO: Loading training and validation metadata.\n",
      "(script) INFO: Creating model, optimizer, and scheduler.\n",
      "(script) INFO: Creating DataLoaders.\n",
      "/opt/conda/lib/python3.8/site-packages/torch/utils/data/dataloader.py:490: UserWarning: This DataLoader will create 12 worker processes in total. Our suggested max number of worker in current system is 6, which is smaller than what this DataLoader is going to create. Please be aware that excessive worker creation might get DataLoader running slow or even freeze, lower the worker number to avoid potential slowness/freeze if necessary.\n",
      "  warnings.warn(_create_warning_msg(\n",
      "(script) INFO: Creating loss function.\n",
      "\u001b[34m\u001b[1mwandb\u001b[0m: Currently logged in as: \u001b[33mmhanzl\u001b[0m (\u001b[33mzcu_cv\u001b[0m). Use \u001b[1m`wandb login --relogin`\u001b[0m to force relogin\n",
      "\u001b[34m\u001b[1mwandb\u001b[0m: \u001b[33mWARNING\u001b[0m Ignored wandb.init() arg project when running a sweep.\n",
      "\u001b[34m\u001b[1mwandb\u001b[0m: \u001b[33mWARNING\u001b[0m Ignored wandb.init() arg entity when running a sweep.\n",
      "\u001b[34m\u001b[1mwandb\u001b[0m: wandb version 0.16.0 is available!  To upgrade, please run:\n",
      "\u001b[34m\u001b[1mwandb\u001b[0m:  $ pip install wandb --upgrade\n",
      "\u001b[34m\u001b[1mwandb\u001b[0m: Tracking run with wandb version 0.12.18\n",
      "\u001b[34m\u001b[1mwandb\u001b[0m: Run data is saved locally in \u001b[35m\u001b[1m/auto/plzen4-ntis/home/silvador386/Vision/Project/DanishFungiDataset/scripts/wandb/run-20231118_190939-sd014j47\u001b[0m\n",
      "\u001b[34m\u001b[1mwandb\u001b[0m: Run \u001b[1m`wandb offline`\u001b[0m to turn off syncing.\n",
      "\u001b[34m\u001b[1mwandb\u001b[0m: Syncing run \u001b[33mresnet50.a1_in1k-CrossEntropyLoss-light\u001b[0m\n",
      "\u001b[34m\u001b[1mwandb\u001b[0m: ⭐️ View project at \u001b[34m\u001b[4mhttps://wandb.ai/zcu_cv/DanishFungi2023\u001b[0m\n",
      "\u001b[34m\u001b[1mwandb\u001b[0m: 🧹 View sweep at \u001b[34m\u001b[4mhttps://wandb.ai/zcu_cv/DanishFungi2023/sweeps/zm7qkn18\u001b[0m\n",
      "\u001b[34m\u001b[1mwandb\u001b[0m: 🚀 View run at \u001b[34m\u001b[4mhttps://wandb.ai/zcu_cv/DanishFungi2023/runs/sd014j47\u001b[0m\n",
      "(script) INFO: Training the model.\n",
      "2023-11-18 19:09:42,886 - fgvc-training - INFO - Training started.\n",
      "/opt/conda/lib/python3.8/site-packages/torch/utils/data/dataloader.py:490: UserWarning: This DataLoader will create 12 worker processes in total. Our suggested max number of worker in current system is 6, which is smaller than what this DataLoader is going to create. Please be aware that excessive worker creation might get DataLoader running slow or even freeze, lower the worker number to avoid potential slowness/freeze if necessary.\n",
      "  warnings.warn(_create_warning_msg(\n",
      "100%|█████████████████████████████████████████| 511/511 [03:13<00:00,  2.64it/s]\n",
      "/opt/conda/lib/python3.8/site-packages/torch/utils/data/dataloader.py:490: UserWarning: This DataLoader will create 12 worker processes in total. Our suggested max number of worker in current system is 6, which is smaller than what this DataLoader is going to create. Please be aware that excessive worker creation might get DataLoader running slow or even freeze, lower the worker number to avoid potential slowness/freeze if necessary.\n",
      "  warnings.warn(_create_warning_msg(\n",
      "100%|███████████████████████████████████████████| 58/58 [00:16<00:00,  3.47it/s]\n",
      "2023-11-18 19:13:15,421 - fgvc-training - INFO - Epoch 1 - avg_train_loss: 4.6907\tavg_val_loss: 4.4021\tF1: 1.38%\tAccuracy: 12.13%\tRecall@3: 22.94%\ttime: 213s\n",
      "2023-11-18 19:13:15,426 - fgvc-training - INFO - Epoch 1 - Save checkpoint with best validation loss: 4.402105\n",
      "/opt/conda/lib/python3.8/site-packages/torch/nn/modules/module.py:1402: UserWarning: positional arguments and argument \"destination\" are deprecated. nn.Module.state_dict will not accept them in the future. Refer to https://pytorch.org/docs/master/generated/torch.nn.Module.html#torch.nn.Module.state_dict for details.\n",
      "  warnings.warn(\n",
      "2023-11-18 19:13:15,773 - fgvc-training - INFO - Epoch 1 - Save checkpoint with best validation accuracy: 0.121319\n",
      "2023-11-18 19:13:16,105 - fgvc-training - INFO - Epoch 1 - Save checkpoint with best validation recall@3: 0.229397\n",
      "2023-11-18 19:13:16,392 - fgvc-training - INFO - Epoch 1 - Save checkpoint with best validation f1: 0.013810\n",
      "/opt/conda/lib/python3.8/site-packages/torch/utils/data/dataloader.py:490: UserWarning: This DataLoader will create 12 worker processes in total. Our suggested max number of worker in current system is 6, which is smaller than what this DataLoader is going to create. Please be aware that excessive worker creation might get DataLoader running slow or even freeze, lower the worker number to avoid potential slowness/freeze if necessary.\n",
      "  warnings.warn(_create_warning_msg(\n",
      "100%|█████████████████████████████████████████| 511/511 [03:09<00:00,  2.69it/s]\n",
      "/opt/conda/lib/python3.8/site-packages/torch/utils/data/dataloader.py:490: UserWarning: This DataLoader will create 12 worker processes in total. Our suggested max number of worker in current system is 6, which is smaller than what this DataLoader is going to create. Please be aware that excessive worker creation might get DataLoader running slow or even freeze, lower the worker number to avoid potential slowness/freeze if necessary.\n",
      "  warnings.warn(_create_warning_msg(\n",
      "100%|███████████████████████████████████████████| 58/58 [00:17<00:00,  3.41it/s]\n",
      "2023-11-18 19:16:46,118 - fgvc-training - INFO - Epoch 2 - avg_train_loss: 4.0188\tavg_val_loss: 3.6986\tF1: 5.50%\tAccuracy: 22.80%\tRecall@3: 38.96%\ttime: 209s\n",
      "2023-11-18 19:16:46,123 - fgvc-training - INFO - Epoch 2 - Save checkpoint with best validation loss: 3.698647\n",
      "/opt/conda/lib/python3.8/site-packages/torch/nn/modules/module.py:1402: UserWarning: positional arguments and argument \"destination\" are deprecated. nn.Module.state_dict will not accept them in the future. Refer to https://pytorch.org/docs/master/generated/torch.nn.Module.html#torch.nn.Module.state_dict for details.\n",
      "  warnings.warn(\n",
      "2023-11-18 19:16:46,462 - fgvc-training - INFO - Epoch 2 - Save checkpoint with best validation accuracy: 0.228046\n",
      "2023-11-18 19:16:46,768 - fgvc-training - INFO - Epoch 2 - Save checkpoint with best validation recall@3: 0.389624\n",
      "2023-11-18 19:16:47,072 - fgvc-training - INFO - Epoch 2 - Save checkpoint with best validation f1: 0.054966\n",
      "/opt/conda/lib/python3.8/site-packages/torch/utils/data/dataloader.py:490: UserWarning: This DataLoader will create 12 worker processes in total. Our suggested max number of worker in current system is 6, which is smaller than what this DataLoader is going to create. Please be aware that excessive worker creation might get DataLoader running slow or even freeze, lower the worker number to avoid potential slowness/freeze if necessary.\n",
      "  warnings.warn(_create_warning_msg(\n",
      "100%|█████████████████████████████████████████| 511/511 [03:09<00:00,  2.69it/s]\n",
      "/opt/conda/lib/python3.8/site-packages/torch/utils/data/dataloader.py:490: UserWarning: This DataLoader will create 12 worker processes in total. Our suggested max number of worker in current system is 6, which is smaller than what this DataLoader is going to create. Please be aware that excessive worker creation might get DataLoader running slow or even freeze, lower the worker number to avoid potential slowness/freeze if necessary.\n",
      "  warnings.warn(_create_warning_msg(\n",
      "100%|███████████████████████████████████████████| 58/58 [00:16<00:00,  3.50it/s]\n",
      "2023-11-18 19:20:16,826 - fgvc-training - INFO - Epoch 3 - avg_train_loss: 3.2038\tavg_val_loss: 3.0278\tF1: 11.42%\tAccuracy: 31.05%\tRecall@3: 50.18%\ttime: 209s\n",
      "2023-11-18 19:20:16,831 - fgvc-training - INFO - Epoch 3 - Save checkpoint with best validation loss: 3.027781\n",
      "/opt/conda/lib/python3.8/site-packages/torch/nn/modules/module.py:1402: UserWarning: positional arguments and argument \"destination\" are deprecated. nn.Module.state_dict will not accept them in the future. Refer to https://pytorch.org/docs/master/generated/torch.nn.Module.html#torch.nn.Module.state_dict for details.\n",
      "  warnings.warn(\n",
      "2023-11-18 19:20:17,147 - fgvc-training - INFO - Epoch 3 - Save checkpoint with best validation accuracy: 0.310457\n",
      "2023-11-18 19:20:17,454 - fgvc-training - INFO - Epoch 3 - Save checkpoint with best validation recall@3: 0.501756\n",
      "2023-11-18 19:20:17,773 - fgvc-training - INFO - Epoch 3 - Save checkpoint with best validation f1: 0.114191\n",
      "/opt/conda/lib/python3.8/site-packages/torch/utils/data/dataloader.py:490: UserWarning: This DataLoader will create 12 worker processes in total. Our suggested max number of worker in current system is 6, which is smaller than what this DataLoader is going to create. Please be aware that excessive worker creation might get DataLoader running slow or even freeze, lower the worker number to avoid potential slowness/freeze if necessary.\n",
      "  warnings.warn(_create_warning_msg(\n",
      "100%|█████████████████████████████████████████| 511/511 [03:09<00:00,  2.70it/s]\n",
      "/opt/conda/lib/python3.8/site-packages/torch/utils/data/dataloader.py:490: UserWarning: This DataLoader will create 12 worker processes in total. Our suggested max number of worker in current system is 6, which is smaller than what this DataLoader is going to create. Please be aware that excessive worker creation might get DataLoader running slow or even freeze, lower the worker number to avoid potential slowness/freeze if necessary.\n",
      "  warnings.warn(_create_warning_msg(\n",
      "100%|███████████████████████████████████████████| 58/58 [00:16<00:00,  3.49it/s]\n",
      "2023-11-18 19:23:46,990 - fgvc-training - INFO - Epoch 4 - avg_train_loss: 2.6446\tavg_val_loss: 2.7671\tF1: 14.22%\tAccuracy: 33.64%\tRecall@3: 52.66%\ttime: 208s\n",
      "2023-11-18 19:23:46,995 - fgvc-training - INFO - Epoch 4 - Save checkpoint with best validation loss: 2.767126\n",
      "/opt/conda/lib/python3.8/site-packages/torch/nn/modules/module.py:1402: UserWarning: positional arguments and argument \"destination\" are deprecated. nn.Module.state_dict will not accept them in the future. Refer to https://pytorch.org/docs/master/generated/torch.nn.Module.html#torch.nn.Module.state_dict for details.\n",
      "  warnings.warn(\n",
      "2023-11-18 19:23:47,319 - fgvc-training - INFO - Epoch 4 - Save checkpoint with best validation accuracy: 0.336396\n",
      "2023-11-18 19:23:47,623 - fgvc-training - INFO - Epoch 4 - Save checkpoint with best validation recall@3: 0.526614\n",
      "2023-11-18 19:23:47,926 - fgvc-training - INFO - Epoch 4 - Save checkpoint with best validation f1: 0.142188\n",
      "/opt/conda/lib/python3.8/site-packages/torch/utils/data/dataloader.py:490: UserWarning: This DataLoader will create 12 worker processes in total. Our suggested max number of worker in current system is 6, which is smaller than what this DataLoader is going to create. Please be aware that excessive worker creation might get DataLoader running slow or even freeze, lower the worker number to avoid potential slowness/freeze if necessary.\n",
      "  warnings.warn(_create_warning_msg(\n",
      "100%|█████████████████████████████████████████| 511/511 [03:10<00:00,  2.69it/s]\n",
      "/opt/conda/lib/python3.8/site-packages/torch/utils/data/dataloader.py:490: UserWarning: This DataLoader will create 12 worker processes in total. Our suggested max number of worker in current system is 6, which is smaller than what this DataLoader is going to create. Please be aware that excessive worker creation might get DataLoader running slow or even freeze, lower the worker number to avoid potential slowness/freeze if necessary.\n",
      "  warnings.warn(_create_warning_msg(\n",
      "100%|███████████████████████████████████████████| 58/58 [00:16<00:00,  3.48it/s]\n",
      "2023-11-18 19:27:18,142 - fgvc-training - INFO - Epoch 5 - avg_train_loss: 2.2968\tavg_val_loss: 2.4247\tF1: 19.90%\tAccuracy: 40.50%\tRecall@3: 60.20%\ttime: 209s\n",
      "2023-11-18 19:27:18,147 - fgvc-training - INFO - Epoch 5 - Save checkpoint with best validation loss: 2.424664\n",
      "/opt/conda/lib/python3.8/site-packages/torch/nn/modules/module.py:1402: UserWarning: positional arguments and argument \"destination\" are deprecated. nn.Module.state_dict will not accept them in the future. Refer to https://pytorch.org/docs/master/generated/torch.nn.Module.html#torch.nn.Module.state_dict for details.\n",
      "  warnings.warn(\n",
      "2023-11-18 19:27:18,472 - fgvc-training - INFO - Epoch 5 - Save checkpoint with best validation accuracy: 0.405026\n",
      "2023-11-18 19:27:18,775 - fgvc-training - INFO - Epoch 5 - Save checkpoint with best validation recall@3: 0.601999\n",
      "2023-11-18 19:27:19,076 - fgvc-training - INFO - Epoch 5 - Save checkpoint with best validation f1: 0.199006\n",
      "/opt/conda/lib/python3.8/site-packages/torch/utils/data/dataloader.py:490: UserWarning: This DataLoader will create 12 worker processes in total. Our suggested max number of worker in current system is 6, which is smaller than what this DataLoader is going to create. Please be aware that excessive worker creation might get DataLoader running slow or even freeze, lower the worker number to avoid potential slowness/freeze if necessary.\n",
      "  warnings.warn(_create_warning_msg(\n",
      "100%|█████████████████████████████████████████| 511/511 [03:10<00:00,  2.68it/s]\n",
      "/opt/conda/lib/python3.8/site-packages/torch/utils/data/dataloader.py:490: UserWarning: This DataLoader will create 12 worker processes in total. Our suggested max number of worker in current system is 6, which is smaller than what this DataLoader is going to create. Please be aware that excessive worker creation might get DataLoader running slow or even freeze, lower the worker number to avoid potential slowness/freeze if necessary.\n",
      "  warnings.warn(_create_warning_msg(\n",
      "100%|███████████████████████████████████████████| 58/58 [00:16<00:00,  3.54it/s]\n",
      "2023-11-18 19:30:49,360 - fgvc-training - INFO - Epoch 6 - avg_train_loss: 2.0575\tavg_val_loss: 2.2419\tF1: 24.48%\tAccuracy: 42.34%\tRecall@3: 64.01%\ttime: 209s\n",
      "2023-11-18 19:30:49,365 - fgvc-training - INFO - Epoch 6 - Save checkpoint with best validation loss: 2.241852\n",
      "/opt/conda/lib/python3.8/site-packages/torch/nn/modules/module.py:1402: UserWarning: positional arguments and argument \"destination\" are deprecated. nn.Module.state_dict will not accept them in the future. Refer to https://pytorch.org/docs/master/generated/torch.nn.Module.html#torch.nn.Module.state_dict for details.\n",
      "  warnings.warn(\n",
      "2023-11-18 19:30:49,708 - fgvc-training - INFO - Epoch 6 - Save checkpoint with best validation accuracy: 0.423399\n",
      "2023-11-18 19:30:50,054 - fgvc-training - INFO - Epoch 6 - Save checkpoint with best validation recall@3: 0.640097\n",
      "2023-11-18 19:30:50,381 - fgvc-training - INFO - Epoch 6 - Save checkpoint with best validation f1: 0.244786\n",
      "/opt/conda/lib/python3.8/site-packages/torch/utils/data/dataloader.py:490: UserWarning: This DataLoader will create 12 worker processes in total. Our suggested max number of worker in current system is 6, which is smaller than what this DataLoader is going to create. Please be aware that excessive worker creation might get DataLoader running slow or even freeze, lower the worker number to avoid potential slowness/freeze if necessary.\n",
      "  warnings.warn(_create_warning_msg(\n",
      "100%|█████████████████████████████████████████| 511/511 [03:09<00:00,  2.69it/s]\n",
      "/opt/conda/lib/python3.8/site-packages/torch/utils/data/dataloader.py:490: UserWarning: This DataLoader will create 12 worker processes in total. Our suggested max number of worker in current system is 6, which is smaller than what this DataLoader is going to create. Please be aware that excessive worker creation might get DataLoader running slow or even freeze, lower the worker number to avoid potential slowness/freeze if necessary.\n",
      "  warnings.warn(_create_warning_msg(\n",
      "100%|███████████████████████████████████████████| 58/58 [00:16<00:00,  3.49it/s]\n",
      "2023-11-18 19:34:20,257 - fgvc-training - INFO - Epoch 7 - avg_train_loss: 1.8685\tavg_val_loss: 2.0731\tF1: 28.35%\tAccuracy: 45.80%\tRecall@3: 68.20%\ttime: 209s\n",
      "2023-11-18 19:34:20,262 - fgvc-training - INFO - Epoch 7 - Save checkpoint with best validation loss: 2.073132\n",
      "/opt/conda/lib/python3.8/site-packages/torch/nn/modules/module.py:1402: UserWarning: positional arguments and argument \"destination\" are deprecated. nn.Module.state_dict will not accept them in the future. Refer to https://pytorch.org/docs/master/generated/torch.nn.Module.html#torch.nn.Module.state_dict for details.\n",
      "  warnings.warn(\n",
      "2023-11-18 19:34:20,621 - fgvc-training - INFO - Epoch 7 - Save checkpoint with best validation accuracy: 0.457984\n",
      "2023-11-18 19:34:20,929 - fgvc-training - INFO - Epoch 7 - Save checkpoint with best validation recall@3: 0.681978\n",
      "2023-11-18 19:34:21,241 - fgvc-training - INFO - Epoch 7 - Save checkpoint with best validation f1: 0.283524\n",
      "/opt/conda/lib/python3.8/site-packages/torch/utils/data/dataloader.py:490: UserWarning: This DataLoader will create 12 worker processes in total. Our suggested max number of worker in current system is 6, which is smaller than what this DataLoader is going to create. Please be aware that excessive worker creation might get DataLoader running slow or even freeze, lower the worker number to avoid potential slowness/freeze if necessary.\n",
      "  warnings.warn(_create_warning_msg(\n",
      " 47%|███████████████████▍                     | 242/511 [01:32<01:38,  2.73it/s]"
     ]
    }
   ],
   "source": [
    "!wandb agent zcu_cv/DanishFungi2023/zm7qkn18"
   ]
  },
  {
   "cell_type": "code",
   "execution_count": 10,
   "id": "a0af91b7-94f1-4ddd-a418-523588a249a9",
   "metadata": {
    "tags": []
   },
   "outputs": [],
   "source": [
    "# !python danishfungi2023_train.py \\\n",
    "#     --config-path ../config/299_config.yaml \\\n",
    "#     --cuda-devices 0 \\\n",
    "#     --wandb-entity zcu_cv \\\n",
    "#     --wandb-project DanishFungi2023"
   ]
  }
 ],
 "metadata": {
  "kernelspec": {
   "display_name": "Python 3 (ipykernel)",
   "language": "python",
   "name": "python3"
  },
  "language_info": {
   "codemirror_mode": {
    "name": "ipython",
    "version": 3
   },
   "file_extension": ".py",
   "mimetype": "text/x-python",
   "name": "python",
   "nbconvert_exporter": "python",
   "pygments_lexer": "ipython3",
   "version": "3.8.13"
  }
 },
 "nbformat": 4,
 "nbformat_minor": 5
}
