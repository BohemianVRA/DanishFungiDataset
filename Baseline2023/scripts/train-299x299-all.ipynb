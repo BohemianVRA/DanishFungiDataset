{
 "cells": [
  {
   "cell_type": "code",
   "execution_count": 1,
   "id": "bddc9720-4a2d-40ce-a8f0-bb8f8d0c0816",
   "metadata": {
    "tags": []
   },
   "outputs": [
    {
     "name": "stdout",
     "output_type": "stream",
     "text": [
      "total 216\n",
      "drwx------  2 silvador386 meta    42 Nov 21 21:33 __pycache__\n",
      "-rw-------  1 silvador386 meta  8283 Nov 17 14:57 danishfungi2023_train-local.py\n",
      "-rw-------  1 silvador386 meta  8339 Nov 17 14:57 danishfungi2023_train-orig.py\n",
      "-rw-------  1 silvador386 meta  8229 Nov 17 14:59 danishfungi2023_train.py\n",
      "-rw-------  1 silvador386 meta  8216 Nov 24 07:30 danishfungi2023_train_all.py\n",
      "-rw-------  1 silvador386 meta  9167 Nov 21 21:29 hfhub.py\n",
      "-rw-------  1 silvador386 meta 13506 Nov 21 21:37 train-224x224.ipynb\n",
      "-rw-------  1 silvador386 meta 30023 Nov 24 07:31 train-299x299-all.ipynb\n",
      "-rw-------  1 silvador386 meta 29728 Nov 18 19:35 train-299x299.ipynb\n",
      "-rw-------  1 silvador386 meta 13939 Nov 24 07:30 train-384x384.ipynb\n",
      "-rw-------  1 silvador386 meta 19067 Nov 15 19:02 train-orig.ipynb\n",
      "-rw-------  1 silvador386 meta 29150 Nov 15 19:45 train.ipynb\n",
      "drwx------ 56 silvador386 meta  4096 Nov 24 07:27 wandb\n",
      "drwx------  3 silvador386 meta    37 Nov 16 03:19 zcu_cv\n"
     ]
    }
   ],
   "source": [
    "!ls -l"
   ]
  },
  {
   "cell_type": "code",
   "execution_count": 2,
   "id": "3354cfc1-8399-442c-8ed6-ed2a45a971d0",
   "metadata": {},
   "outputs": [],
   "source": [
    "import os\n",
    "# os.chdir(\"/auto/plzen4-ntis/home/silvador386/Vision/Project/DanishFungiDataset\")"
   ]
  },
  {
   "cell_type": "code",
   "execution_count": 3,
   "id": "170ded66-a4e2-4076-a31c-875bf6ecac9f",
   "metadata": {
    "tags": []
   },
   "outputs": [
    {
     "name": "stdout",
     "output_type": "stream",
     "text": [
      "266273 29665 0.90% train\n"
     ]
    },
    {
     "data": {
      "text/plain": [
       "1603"
      ]
     },
     "execution_count": 3,
     "metadata": {},
     "output_type": "execute_result"
    }
   ],
   "source": [
    "import pandas as pd\n",
    "train_df = pd.read_csv(\"../metadata/DanishFungi2020-train_metadata_FIX.csv\")\n",
    "test_df = pd.read_csv(\"../metadata/DanishFungi2020-val_metadata_FIX.csv\")\n",
    "print(len(train_df), len(test_df), f\"{len(train_df)/(len(train_df) + len(test_df)):.02f}% train\")\n",
    "max(test_df[\"class_id\"])"
   ]
  },
  {
   "cell_type": "code",
   "execution_count": 4,
   "id": "f6fc25be-7c87-4d0c-bbb8-440f0be642b6",
   "metadata": {
    "tags": []
   },
   "outputs": [
    {
     "name": "stdout",
     "output_type": "stream",
     "text": [
      "env: CUDA_DEVICES=0\n",
      "env: WANDB_ENTITY=zcu_cv\n",
      "env: WANDB_PROJECT=DanishFungi2023\n"
     ]
    }
   ],
   "source": [
    "%env CUDA_DEVICES = 0\n",
    "%env WANDB_ENTITY = zcu_cv\n",
    "%env WANDB_PROJECT = DanishFungi2023"
   ]
  },
  {
   "cell_type": "code",
   "execution_count": 5,
   "id": "7c3e1193-26c4-4a13-8cf2-f5daef8499f5",
   "metadata": {
    "tags": []
   },
   "outputs": [],
   "source": [
    "import os\n",
    "os.environ[\"CUDA_VISIBLE_DEVICES\"] = os.environ[\"CUDA_DEVICES\"]"
   ]
  },
  {
   "cell_type": "code",
   "execution_count": 6,
   "id": "62fef7b6-9a8f-4582-889d-6f4cff185be2",
   "metadata": {
    "tags": []
   },
   "outputs": [
    {
     "name": "stdout",
     "output_type": "stream",
     "text": [
      "Fri Nov 24 07:31:51 2023       \n",
      "+---------------------------------------------------------------------------------------+\n",
      "| NVIDIA-SMI 535.86.10              Driver Version: 535.86.10    CUDA Version: 12.2     |\n",
      "|-----------------------------------------+----------------------+----------------------+\n",
      "| GPU  Name                 Persistence-M | Bus-Id        Disp.A | Volatile Uncorr. ECC |\n",
      "| Fan  Temp   Perf          Pwr:Usage/Cap |         Memory-Usage | GPU-Util  Compute M. |\n",
      "|                                         |                      |               MIG M. |\n",
      "|=========================================+======================+======================|\n",
      "|   0  NVIDIA A40                     On  | 00000000:01:00.0 Off |                    0 |\n",
      "|  0%   75C    P0             297W / 300W |  28178MiB / 46068MiB |    100%      Default |\n",
      "|                                         |                      |                  N/A |\n",
      "+-----------------------------------------+----------------------+----------------------+\n",
      "                                                                                         \n",
      "+---------------------------------------------------------------------------------------+\n",
      "| Processes:                                                                            |\n",
      "|  GPU   GI   CI        PID   Type   Process name                            GPU Memory |\n",
      "|        ID   ID                                                             Usage      |\n",
      "|=======================================================================================|\n",
      "|    0   N/A  N/A    713176      C   python                                    20108MiB |\n",
      "+---------------------------------------------------------------------------------------+\n"
     ]
    }
   ],
   "source": [
    "!nvidia-smi"
   ]
  },
  {
   "cell_type": "code",
   "execution_count": 7,
   "id": "954aea50-5083-40d1-8b60-1a4273e3968c",
   "metadata": {},
   "outputs": [],
   "source": [
    "from huggingface_hub import login\n",
    "# login()"
   ]
  },
  {
   "cell_type": "code",
   "execution_count": 7,
   "id": "a3e4dad5-1b74-469f-ab41-a8f0ff25e905",
   "metadata": {},
   "outputs": [
    {
     "name": "stdout",
     "output_type": "stream",
     "text": [
      "\u001b[34m\u001b[1mwandb\u001b[0m: Creating sweep from: ../sweep/299_sweep_all.yaml\n",
      "\u001b[34m\u001b[1mwandb\u001b[0m: Created sweep with ID: \u001b[33md8koo70k\u001b[0m\n",
      "\u001b[34m\u001b[1mwandb\u001b[0m: View sweep at: \u001b[34m\u001b[4mhttps://wandb.ai/zcu_cv/DanishFungi2023/sweeps/d8koo70k\u001b[0m\n",
      "\u001b[34m\u001b[1mwandb\u001b[0m: Run sweep agent with: \u001b[33mwandb agent zcu_cv/DanishFungi2023/d8koo70k\u001b[0m\n"
     ]
    }
   ],
   "source": [
    "\n",
    "!wandb sweep ../sweep/299_sweep_all.yaml"
   ]
  },
  {
   "cell_type": "code",
   "execution_count": null,
   "id": "812990e2-2f66-4a37-a3e9-98497239c31c",
   "metadata": {},
   "outputs": [
    {
     "name": "stdout",
     "output_type": "stream",
     "text": [
      "\u001b[34m\u001b[1mwandb\u001b[0m: Starting wandb agent 🕵️\n",
      "2023-11-24 07:33:18,244 - wandb.wandb_agent - INFO - Running runs: []\n",
      "2023-11-24 07:33:18,586 - wandb.wandb_agent - INFO - Agent received command: run\n",
      "2023-11-24 07:33:18,586 - wandb.wandb_agent - INFO - Agent starting run with config:\n",
      "\tarchitecture: resnet18.a1_in1k\n",
      "2023-11-24 07:33:18,624 - wandb.wandb_agent - INFO - About to run command: /usr/bin/env python danishfungi2023_train_all.py --config-path ../config/299_config_all.yaml --wandb-entity zcu_cv --wandb-project DanishFungi2023 --architecture=resnet18.a1_in1k\n",
      "2023-11-24 07:33:23,636 - wandb.wandb_agent - INFO - Running runs: ['6c327r8y']\n",
      "/opt/conda/lib/python3.8/site-packages/apex/pyprof/__init__.py:5: FutureWarning: pyprof will be removed by the end of June, 2022\n",
      "  warnings.warn(\"pyprof will be removed by the end of June, 2022\", FutureWarning)\n",
      "(script) INFO: Loading training config.\n",
      "(script) DEBUG: Extra arguments passed to the script: {'architecture': 'resnet18.a1_in1k'}\n",
      "(script) DEBUG: Changing config value architecture: mobilenetv2_100.ra_in1k -> resnet18.a1_in1k\n",
      "(script) INFO: Setting run name: resnet18.a1_in1k-CrossEntropyLoss-light\n",
      "(script) INFO: Using experiment directory: ../runs/resnet18.a1_in1k-CrossEntropyLoss-light/exp2\n",
      "(script) INFO: Using training configuration: {\n",
      "    \"augmentations\": \"light\",\n",
      "    \"image_size\": [\n",
      "        299,\n",
      "        299\n",
      "    ],\n",
      "    \"dataset\": \"DF20\",\n",
      "    \"architecture\": \"resnet18.a1_in1k\",\n",
      "    \"train\": null,\n",
      "    \"loss\": \"CrossEntropyLoss\",\n",
      "    \"optimizer\": \"SGD\",\n",
      "    \"scheduler\": \"plateau\",\n",
      "    \"epochs\": 100,\n",
      "    \"learning_rate\": 0.01,\n",
      "    \"batch_size\": 16,\n",
      "    \"accumulation_steps\": 4,\n",
      "    \"random_seed\": 777,\n",
      "    \"workers\": 12,\n",
      "    \"multigpu\": false,\n",
      "    \"tags\": [\n",
      "        \"DF20_FIX\",\n",
      "        \"299x299\",\n",
      "        \"Production\"\n",
      "    ],\n",
      "    \"root_path\": \"../\",\n",
      "    \"run_name\": \"resnet18.a1_in1k-CrossEntropyLoss-light\",\n",
      "    \"exp_name\": \"exp2\",\n",
      "    \"exp_path\": \"../runs/resnet18.a1_in1k-CrossEntropyLoss-light/exp2\"\n",
      "}\n",
      "(fgvc) INFO: Using device: cuda (0)\n",
      "(fgvc) INFO: Device names: 0: NVIDIA A40\n",
      "(script) INFO: Loading training and validation metadata.\n",
      "(script) INFO: Creating model, optimizer, and scheduler.\n",
      "(script) INFO: Creating DataLoaders.\n",
      "/opt/conda/lib/python3.8/site-packages/torch/utils/data/dataloader.py:490: UserWarning: This DataLoader will create 12 worker processes in total. Our suggested max number of worker in current system is 6, which is smaller than what this DataLoader is going to create. Please be aware that excessive worker creation might get DataLoader running slow or even freeze, lower the worker number to avoid potential slowness/freeze if necessary.\n",
      "  warnings.warn(_create_warning_msg(\n",
      "(script) INFO: Creating loss function.\n",
      "\u001b[34m\u001b[1mwandb\u001b[0m: Currently logged in as: \u001b[33mmhanzl\u001b[0m (\u001b[33mzcu_cv\u001b[0m). Use \u001b[1m`wandb login --relogin`\u001b[0m to force relogin\n",
      "\u001b[34m\u001b[1mwandb\u001b[0m: \u001b[33mWARNING\u001b[0m Ignored wandb.init() arg project when running a sweep.\n",
      "\u001b[34m\u001b[1mwandb\u001b[0m: \u001b[33mWARNING\u001b[0m Ignored wandb.init() arg entity when running a sweep.\n",
      "\u001b[34m\u001b[1mwandb\u001b[0m: wandb version 0.16.0 is available!  To upgrade, please run:\n",
      "\u001b[34m\u001b[1mwandb\u001b[0m:  $ pip install wandb --upgrade\n",
      "\u001b[34m\u001b[1mwandb\u001b[0m: Tracking run with wandb version 0.12.18\n",
      "\u001b[34m\u001b[1mwandb\u001b[0m: Run data is saved locally in \u001b[35m\u001b[1m/auto/plzen4-ntis/home/silvador386/Vision/Project/DanishFungiDataset/scripts/wandb/run-20231124_073344-6c327r8y\u001b[0m\n",
      "\u001b[34m\u001b[1mwandb\u001b[0m: Run \u001b[1m`wandb offline`\u001b[0m to turn off syncing.\n",
      "\u001b[34m\u001b[1mwandb\u001b[0m: Syncing run \u001b[33mresnet18.a1_in1k-CrossEntropyLoss-light\u001b[0m\n",
      "\u001b[34m\u001b[1mwandb\u001b[0m: ⭐️ View project at \u001b[34m\u001b[4mhttps://wandb.ai/zcu_cv/DanishFungi2023\u001b[0m\n",
      "\u001b[34m\u001b[1mwandb\u001b[0m: 🧹 View sweep at \u001b[34m\u001b[4mhttps://wandb.ai/zcu_cv/DanishFungi2023/sweeps/d8koo70k\u001b[0m\n",
      "\u001b[34m\u001b[1mwandb\u001b[0m: 🚀 View run at \u001b[34m\u001b[4mhttps://wandb.ai/zcu_cv/DanishFungi2023/runs/6c327r8y\u001b[0m\n",
      "(script) INFO: Training the model.\n",
      "2023-11-24 07:33:47,128 - fgvc-training - INFO - Training started.\n",
      "/opt/conda/lib/python3.8/site-packages/torch/utils/data/dataloader.py:490: UserWarning: This DataLoader will create 12 worker processes in total. Our suggested max number of worker in current system is 6, which is smaller than what this DataLoader is going to create. Please be aware that excessive worker creation might get DataLoader running slow or even freeze, lower the worker number to avoid potential slowness/freeze if necessary.\n",
      "  warnings.warn(_create_warning_msg(\n",
      "  9%|███▏                                  | 1420/16643 [02:40<23:54, 10.61it/s]/storage/plzen4-ntis/home/silvador386/Vision/.local-carnivore_id_v22_05.sif/lib/python3.8/site-packages/PIL/Image.py:3157: DecompressionBombWarning: Image size (108000000 pixels) exceeds limit of 89478485 pixels, could be decompression bomb DOS attack.\n",
      "  warnings.warn(\n",
      " 37%|█████████████▊                        | 6075/16643 [11:15<21:38,  8.14it/s]/storage/plzen4-ntis/home/silvador386/Vision/.local-carnivore_id_v22_05.sif/lib/python3.8/site-packages/PIL/Image.py:3157: DecompressionBombWarning: Image size (108000000 pixels) exceeds limit of 89478485 pixels, could be decompression bomb DOS attack.\n",
      "  warnings.warn(\n",
      " 70%|█████████████████████████▊           | 11597/16643 [21:35<06:56, 12.11it/s]"
     ]
    }
   ],
   "source": [
    "!wandb agent zcu_cv/DanishFungi2023/d8koo70k"
   ]
  },
  {
   "cell_type": "code",
   "execution_count": 10,
   "id": "a0af91b7-94f1-4ddd-a418-523588a249a9",
   "metadata": {
    "tags": []
   },
   "outputs": [],
   "source": [
    "# !python danishfungi2023_train.py \\\n",
    "#     --config-path ../config/299_config.yaml \\\n",
    "#     --cuda-devices 0 \\\n",
    "#     --wandb-entity zcu_cv \\\n",
    "#     --wandb-project DanishFungi2023"
   ]
  }
 ],
 "metadata": {
  "kernelspec": {
   "display_name": "Python 3 (ipykernel)",
   "language": "python",
   "name": "python3"
  },
  "language_info": {
   "codemirror_mode": {
    "name": "ipython",
    "version": 3
   },
   "file_extension": ".py",
   "mimetype": "text/x-python",
   "name": "python",
   "nbconvert_exporter": "python",
   "pygments_lexer": "ipython3",
   "version": "3.8.13"
  }
 },
 "nbformat": 4,
 "nbformat_minor": 5
}
