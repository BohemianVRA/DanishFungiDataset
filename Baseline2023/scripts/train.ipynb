{
 "cells": [
  {
   "cell_type": "code",
   "execution_count": 1,
   "id": "bddc9720-4a2d-40ce-a8f0-bb8f8d0c0816",
   "metadata": {
    "tags": []
   },
   "outputs": [
    {
     "name": "stdout",
     "output_type": "stream",
     "text": [
      "total 80\n",
      "drwx------ 2 silvador386 meta    42 Nov 15 19:10 __pycache__\n",
      "-rw------- 1 silvador386 meta  8297 Nov 15 19:02 danishfungi2023_train-local.py\n",
      "-rw------- 1 silvador386 meta  8353 Nov 15 19:02 danishfungi2023_train-orig.py\n",
      "-rw------- 1 silvador386 meta  8245 Nov 15 19:02 danishfungi2023_train.py\n",
      "-rw------- 1 silvador386 meta  6891 Nov 15 19:02 hfhub.py\n",
      "-rw------- 1 silvador386 meta 19067 Nov 15 19:02 train-orig.ipynb\n",
      "-rw------- 1 silvador386 meta 14720 Nov 15 19:15 train.ipynb\n",
      "drwx------ 3 silvador386 meta   123 Nov 15 19:10 wandb\n"
     ]
    }
   ],
   "source": [
    "!ls -l"
   ]
  },
  {
   "cell_type": "code",
   "execution_count": 2,
   "id": "3354cfc1-8399-442c-8ed6-ed2a45a971d0",
   "metadata": {},
   "outputs": [],
   "source": [
    "import os\n",
    "# os.chdir(\"/auto/plzen4-ntis/home/silvador386/Vision/Project/DanishFungiDataset\")"
   ]
  },
  {
   "cell_type": "code",
   "execution_count": 3,
   "id": "170ded66-a4e2-4076-a31c-875bf6ecac9f",
   "metadata": {
    "tags": []
   },
   "outputs": [
    {
     "name": "stdout",
     "output_type": "stream",
     "text": [
      "32692 3701 0.90% train\n"
     ]
    },
    {
     "data": {
      "text/plain": [
       "181"
      ]
     },
     "execution_count": 3,
     "metadata": {},
     "output_type": "execute_result"
    }
   ],
   "source": [
    "import pandas as pd\n",
    "train_df = pd.read_csv(\"../metadata/DanishFungi2023-train_mini.csv\")\n",
    "test_df = pd.read_csv(\"../metadata/DanishFungi2023-val_mini.csv\")\n",
    "print(len(train_df), len(test_df), f\"{len(train_df)/(len(train_df) + len(test_df)):.02f}% train\")\n",
    "max(test_df[\"class_id\"])"
   ]
  },
  {
   "cell_type": "code",
   "execution_count": 4,
   "id": "f6fc25be-7c87-4d0c-bbb8-440f0be642b6",
   "metadata": {
    "tags": []
   },
   "outputs": [
    {
     "name": "stdout",
     "output_type": "stream",
     "text": [
      "env: CUDA_DEVICES=0\n",
      "env: WANDB_ENTITY=zcu_cv\n",
      "env: WANDB_PROJECT=DanishFungi2023\n"
     ]
    }
   ],
   "source": [
    "%env CUDA_DEVICES = 0\n",
    "%env WANDB_ENTITY = zcu_cv\n",
    "%env WANDB_PROJECT = DanishFungi2023"
   ]
  },
  {
   "cell_type": "code",
   "execution_count": 5,
   "id": "7c3e1193-26c4-4a13-8cf2-f5daef8499f5",
   "metadata": {
    "tags": []
   },
   "outputs": [],
   "source": [
    "import os\n",
    "os.environ[\"CUDA_VISIBLE_DEVICES\"] = os.environ[\"CUDA_DEVICES\"]"
   ]
  },
  {
   "cell_type": "code",
   "execution_count": 6,
   "id": "62fef7b6-9a8f-4582-889d-6f4cff185be2",
   "metadata": {
    "tags": []
   },
   "outputs": [
    {
     "name": "stdout",
     "output_type": "stream",
     "text": [
      "Wed Nov 15 19:16:53 2023       \n",
      "+---------------------------------------------------------------------------------------+\n",
      "| NVIDIA-SMI 535.86.10              Driver Version: 535.86.10    CUDA Version: 12.2     |\n",
      "|-----------------------------------------+----------------------+----------------------+\n",
      "| GPU  Name                 Persistence-M | Bus-Id        Disp.A | Volatile Uncorr. ECC |\n",
      "| Fan  Temp   Perf          Pwr:Usage/Cap |         Memory-Usage | GPU-Util  Compute M. |\n",
      "|                                         |                      |               MIG M. |\n",
      "|=========================================+======================+======================|\n",
      "|   0  NVIDIA A40                     On  | 00000000:01:00.0 Off |                    0 |\n",
      "|  0%   37C    P8              21W / 300W |      4MiB / 46068MiB |      0%      Default |\n",
      "|                                         |                      |                  N/A |\n",
      "+-----------------------------------------+----------------------+----------------------+\n",
      "                                                                                         \n",
      "+---------------------------------------------------------------------------------------+\n",
      "| Processes:                                                                            |\n",
      "|  GPU   GI   CI        PID   Type   Process name                            GPU Memory |\n",
      "|        ID   ID                                                             Usage      |\n",
      "|=======================================================================================|\n",
      "|  No running processes found                                                           |\n",
      "+---------------------------------------------------------------------------------------+\n"
     ]
    }
   ],
   "source": [
    "!nvidia-smi"
   ]
  },
  {
   "cell_type": "code",
   "execution_count": 7,
   "id": "954aea50-5083-40d1-8b60-1a4273e3968c",
   "metadata": {},
   "outputs": [
    {
     "data": {
      "application/vnd.jupyter.widget-view+json": {
       "model_id": "6f21bbd969d3418ea6716852bb734f6b",
       "version_major": 2,
       "version_minor": 0
      },
      "text/plain": [
       "VBox(children=(HTML(value='<center> <img\\nsrc=https://huggingface.co/front/assets/huggingface_logo-noborder.sv…"
      ]
     },
     "metadata": {},
     "output_type": "display_data"
    }
   ],
   "source": [
    "from huggingface_hub import login\n",
    "login()"
   ]
  },
  {
   "cell_type": "code",
   "execution_count": 8,
   "id": "a3e4dad5-1b74-469f-ab41-a8f0ff25e905",
   "metadata": {},
   "outputs": [],
   "source": [
    "\n",
    "!wandb sweep ../sweep/299_sweep.yaml"
   ]
  },
  {
   "cell_type": "code",
   "execution_count": 9,
   "id": "812990e2-2f66-4a37-a3e9-98497239c31c",
   "metadata": {},
   "outputs": [],
   "source": [
    "# !wandb agent zcu_cv/DanishFungi2023/owjeq4g5"
   ]
  },
  {
   "cell_type": "code",
   "execution_count": 14,
   "id": "77b53bc0-ea12-48f6-814b-cbb78e25ae18",
   "metadata": {
    "tags": []
   },
   "outputs": [
    {
     "data": {
      "text/plain": [
       "True"
      ]
     },
     "execution_count": 14,
     "metadata": {},
     "output_type": "execute_result"
    }
   ],
   "source": [
    "import torch\n",
    "torch.cuda.is_available()\n",
    "\n",
    "# 2023-11-15 19:15:45,483 - fgvc-training - INFO - Epoch 1 - Save checkpoint with best validation accuracy: 0.368549\n",
    "# 2023-11-15 19:15:45,588 - fgvc-training - INFO - Epoch 1 - Save checkpoint with best validation recall@3: 0.569846\n",
    "# 2023-11-15 19:15:45,675 - fgvc-training - INFO - Epoch 1 - Save checkpoint with best validation f1: 0.146127"
   ]
  },
  {
   "cell_type": "code",
   "execution_count": 15,
   "id": "a0af91b7-94f1-4ddd-a418-523588a249a9",
   "metadata": {
    "tags": []
   },
   "outputs": [
    {
     "name": "stdout",
     "output_type": "stream",
     "text": [
      "/opt/conda/lib/python3.8/site-packages/apex/pyprof/__init__.py:5: FutureWarning: pyprof will be removed by the end of June, 2022\n",
      "  warnings.warn(\"pyprof will be removed by the end of June, 2022\", FutureWarning)\n",
      "(script) INFO: Loading training config.\n",
      "(script) DEBUG: Extra arguments passed to the script: {}\n",
      "(script) INFO: Setting run name: mobilenetv2_100.ra_in1k-CrossEntropyLoss-light\n",
      "(script) INFO: Using experiment directory: ../runs/mobilenetv2_100.ra_in1k-CrossEntropyLoss-light/exp1\n",
      "(script) INFO: Using training configuration: {\n",
      "    \"augmentations\": \"light\",\n",
      "    \"image_size\": [\n",
      "        299,\n",
      "        299\n",
      "    ],\n",
      "    \"dataset\": \"DanishFungi2023-mini\",\n",
      "    \"architecture\": \"mobilenetv2_100.ra_in1k\",\n",
      "    \"train\": null,\n",
      "    \"loss\": \"CrossEntropyLoss\",\n",
      "    \"optimizer\": \"SGD\",\n",
      "    \"scheduler\": \"plateau\",\n",
      "    \"epochs\": 100,\n",
      "    \"learning_rate\": 0.01,\n",
      "    \"batch_size\": 64,\n",
      "    \"accumulation_steps\": 1,\n",
      "    \"random_seed\": 777,\n",
      "    \"workers\": 12,\n",
      "    \"multigpu\": false,\n",
      "    \"tags\": [\n",
      "        \"DanishFungi2023\",\n",
      "        \"224x224\",\n",
      "        \"Production\"\n",
      "    ],\n",
      "    \"root_path\": \"../\",\n",
      "    \"run_name\": \"mobilenetv2_100.ra_in1k-CrossEntropyLoss-light\",\n",
      "    \"exp_name\": \"exp1\",\n",
      "    \"exp_path\": \"../runs/mobilenetv2_100.ra_in1k-CrossEntropyLoss-light/exp1\"\n",
      "}\n",
      "(fgvc) INFO: Using device: cuda (0)\n",
      "(fgvc) INFO: Device names: 0: NVIDIA A40\n",
      "(script) INFO: Loading training and validation metadata.\n",
      "(script) INFO: Creating model, optimizer, and scheduler.\n",
      "(script) INFO: Creating DataLoaders.\n",
      "/opt/conda/lib/python3.8/site-packages/torch/utils/data/dataloader.py:490: UserWarning: This DataLoader will create 12 worker processes in total. Our suggested max number of worker in current system is 6, which is smaller than what this DataLoader is going to create. Please be aware that excessive worker creation might get DataLoader running slow or even freeze, lower the worker number to avoid potential slowness/freeze if necessary.\n",
      "  warnings.warn(_create_warning_msg(\n",
      "(script) INFO: Creating loss function.\n",
      "\u001b[34m\u001b[1mwandb\u001b[0m: Currently logged in as: \u001b[33mmhanzl\u001b[0m (\u001b[33mzcu_cv\u001b[0m). Use \u001b[1m`wandb login --relogin`\u001b[0m to force relogin\n",
      "\u001b[34m\u001b[1mwandb\u001b[0m: wandb version 0.16.0 is available!  To upgrade, please run:\n",
      "\u001b[34m\u001b[1mwandb\u001b[0m:  $ pip install wandb --upgrade\n",
      "\u001b[34m\u001b[1mwandb\u001b[0m: Tracking run with wandb version 0.12.18\n",
      "\u001b[34m\u001b[1mwandb\u001b[0m: Run data is saved locally in \u001b[35m\u001b[1m/auto/plzen4-ntis/home/silvador386/Vision/Project/DanishFungiDataset/scripts/wandb/run-20231115_191717-bo4ejn9b\u001b[0m\n",
      "\u001b[34m\u001b[1mwandb\u001b[0m: Run \u001b[1m`wandb offline`\u001b[0m to turn off syncing.\n",
      "\u001b[34m\u001b[1mwandb\u001b[0m: Syncing run \u001b[33mmobilenetv2_100.ra_in1k-CrossEntropyLoss-light\u001b[0m\n",
      "\u001b[34m\u001b[1mwandb\u001b[0m: ⭐️ View project at \u001b[34m\u001b[4mhttps://wandb.ai/zcu_cv/DanishFungi2023\u001b[0m\n",
      "\u001b[34m\u001b[1mwandb\u001b[0m: 🚀 View run at \u001b[34m\u001b[4mhttps://wandb.ai/zcu_cv/DanishFungi2023/runs/bo4ejn9b\u001b[0m\n",
      "(script) INFO: Training the model.\n",
      "2023-11-15 19:17:19,617 - fgvc-training - INFO - Training started.\n",
      "/opt/conda/lib/python3.8/site-packages/torch/utils/data/dataloader.py:490: UserWarning: This DataLoader will create 12 worker processes in total. Our suggested max number of worker in current system is 6, which is smaller than what this DataLoader is going to create. Please be aware that excessive worker creation might get DataLoader running slow or even freeze, lower the worker number to avoid potential slowness/freeze if necessary.\n",
      "  warnings.warn(_create_warning_msg(\n",
      "100%|█████████████████████████████████████████| 511/511 [02:03<00:00,  4.15it/s]\n",
      "/opt/conda/lib/python3.8/site-packages/torch/utils/data/dataloader.py:490: UserWarning: This DataLoader will create 12 worker processes in total. Our suggested max number of worker in current system is 6, which is smaller than what this DataLoader is going to create. Please be aware that excessive worker creation might get DataLoader running slow or even freeze, lower the worker number to avoid potential slowness/freeze if necessary.\n",
      "  warnings.warn(_create_warning_msg(\n",
      "100%|███████████████████████████████████████████| 58/58 [00:15<00:00,  3.71it/s]\n",
      "2023-11-15 19:19:40,638 - fgvc-training - INFO - Epoch 1 - avg_train_loss: 3.4772\tavg_val_loss: 2.5121\tF1: 17.01%\tAccuracy: 38.88%\tRecall@3: 59.93%\ttime: 141s\n",
      "2023-11-15 19:19:40,643 - fgvc-training - INFO - Epoch 1 - Save checkpoint with best validation loss: 2.512121\n",
      "/opt/conda/lib/python3.8/site-packages/torch/nn/modules/module.py:1402: UserWarning: positional arguments and argument \"destination\" are deprecated. nn.Module.state_dict will not accept them in the future. Refer to https://pytorch.org/docs/master/generated/torch.nn.Module.html#torch.nn.Module.state_dict for details.\n",
      "  warnings.warn(\n",
      "2023-11-15 19:19:40,808 - fgvc-training - INFO - Epoch 1 - Save checkpoint with best validation accuracy: 0.388814\n",
      "2023-11-15 19:19:40,891 - fgvc-training - INFO - Epoch 1 - Save checkpoint with best validation recall@3: 0.599297\n",
      "2023-11-15 19:19:40,999 - fgvc-training - INFO - Epoch 1 - Save checkpoint with best validation f1: 0.170099\n",
      "/opt/conda/lib/python3.8/site-packages/torch/utils/data/dataloader.py:490: UserWarning: This DataLoader will create 12 worker processes in total. Our suggested max number of worker in current system is 6, which is smaller than what this DataLoader is going to create. Please be aware that excessive worker creation might get DataLoader running slow or even freeze, lower the worker number to avoid potential slowness/freeze if necessary.\n",
      "  warnings.warn(_create_warning_msg(\n",
      "100%|█████████████████████████████████████████| 511/511 [02:11<00:00,  3.89it/s]\n",
      "/opt/conda/lib/python3.8/site-packages/torch/utils/data/dataloader.py:490: UserWarning: This DataLoader will create 12 worker processes in total. Our suggested max number of worker in current system is 6, which is smaller than what this DataLoader is going to create. Please be aware that excessive worker creation might get DataLoader running slow or even freeze, lower the worker number to avoid potential slowness/freeze if necessary.\n",
      "  warnings.warn(_create_warning_msg(\n",
      "100%|███████████████████████████████████████████| 58/58 [00:29<00:00,  1.97it/s]\n",
      "2023-11-15 19:22:24,945 - fgvc-training - INFO - Epoch 2 - avg_train_loss: 2.1392\tavg_val_loss: 2.0667\tF1: 27.42%\tAccuracy: 46.66%\tRecall@3: 68.28%\ttime: 164s\n",
      "2023-11-15 19:22:24,957 - fgvc-training - INFO - Epoch 2 - Save checkpoint with best validation loss: 2.066708\n",
      "/opt/conda/lib/python3.8/site-packages/torch/nn/modules/module.py:1402: UserWarning: positional arguments and argument \"destination\" are deprecated. nn.Module.state_dict will not accept them in the future. Refer to https://pytorch.org/docs/master/generated/torch.nn.Module.html#torch.nn.Module.state_dict for details.\n",
      "  warnings.warn(\n",
      "2023-11-15 19:22:25,132 - fgvc-training - INFO - Epoch 2 - Save checkpoint with best validation accuracy: 0.466631\n",
      "2023-11-15 19:22:25,249 - fgvc-training - INFO - Epoch 2 - Save checkpoint with best validation recall@3: 0.682788\n",
      "2023-11-15 19:22:25,385 - fgvc-training - INFO - Epoch 2 - Save checkpoint with best validation f1: 0.274174\n",
      "/opt/conda/lib/python3.8/site-packages/torch/utils/data/dataloader.py:490: UserWarning: This DataLoader will create 12 worker processes in total. Our suggested max number of worker in current system is 6, which is smaller than what this DataLoader is going to create. Please be aware that excessive worker creation might get DataLoader running slow or even freeze, lower the worker number to avoid potential slowness/freeze if necessary.\n",
      "  warnings.warn(_create_warning_msg(\n",
      "100%|█████████████████████████████████████████| 511/511 [03:50<00:00,  2.21it/s]\n",
      "/opt/conda/lib/python3.8/site-packages/torch/utils/data/dataloader.py:490: UserWarning: This DataLoader will create 12 worker processes in total. Our suggested max number of worker in current system is 6, which is smaller than what this DataLoader is going to create. Please be aware that excessive worker creation might get DataLoader running slow or even freeze, lower the worker number to avoid potential slowness/freeze if necessary.\n",
      "  warnings.warn(_create_warning_msg(\n",
      "100%|███████████████████████████████████████████| 58/58 [00:25<00:00,  2.25it/s]\n",
      "2023-11-15 19:26:44,786 - fgvc-training - INFO - Epoch 3 - avg_train_loss: 1.7224\tavg_val_loss: 1.8526\tF1: 35.14%\tAccuracy: 51.45%\tRecall@3: 72.20%\ttime: 259s\n",
      "2023-11-15 19:26:44,792 - fgvc-training - INFO - Epoch 3 - Save checkpoint with best validation loss: 1.852609\n",
      "/opt/conda/lib/python3.8/site-packages/torch/nn/modules/module.py:1402: UserWarning: positional arguments and argument \"destination\" are deprecated. nn.Module.state_dict will not accept them in the future. Refer to https://pytorch.org/docs/master/generated/torch.nn.Module.html#torch.nn.Module.state_dict for details.\n",
      "  warnings.warn(\n",
      "2023-11-15 19:26:44,945 - fgvc-training - INFO - Epoch 3 - Save checkpoint with best validation accuracy: 0.514456\n",
      "2023-11-15 19:26:45,033 - fgvc-training - INFO - Epoch 3 - Save checkpoint with best validation recall@3: 0.721967\n",
      "2023-11-15 19:26:45,132 - fgvc-training - INFO - Epoch 3 - Save checkpoint with best validation f1: 0.351406\n",
      "/opt/conda/lib/python3.8/site-packages/torch/utils/data/dataloader.py:490: UserWarning: This DataLoader will create 12 worker processes in total. Our suggested max number of worker in current system is 6, which is smaller than what this DataLoader is going to create. Please be aware that excessive worker creation might get DataLoader running slow or even freeze, lower the worker number to avoid potential slowness/freeze if necessary.\n",
      "  warnings.warn(_create_warning_msg(\n",
      "100%|█████████████████████████████████████████| 511/511 [03:36<00:00,  2.36it/s]\n",
      "/opt/conda/lib/python3.8/site-packages/torch/utils/data/dataloader.py:490: UserWarning: This DataLoader will create 12 worker processes in total. Our suggested max number of worker in current system is 6, which is smaller than what this DataLoader is going to create. Please be aware that excessive worker creation might get DataLoader running slow or even freeze, lower the worker number to avoid potential slowness/freeze if necessary.\n",
      "  warnings.warn(_create_warning_msg(\n",
      "100%|███████████████████████████████████████████| 58/58 [00:27<00:00,  2.08it/s]\n",
      "2023-11-15 19:30:53,184 - fgvc-training - INFO - Epoch 4 - avg_train_loss: 1.4783\tavg_val_loss: 1.7108\tF1: 39.71%\tAccuracy: 54.66%\tRecall@3: 75.44%\ttime: 248s\n",
      "2023-11-15 19:30:53,190 - fgvc-training - INFO - Epoch 4 - Save checkpoint with best validation loss: 1.710796\n",
      "/opt/conda/lib/python3.8/site-packages/torch/nn/modules/module.py:1402: UserWarning: positional arguments and argument \"destination\" are deprecated. nn.Module.state_dict will not accept them in the future. Refer to https://pytorch.org/docs/master/generated/torch.nn.Module.html#torch.nn.Module.state_dict for details.\n",
      "  warnings.warn(\n",
      "2023-11-15 19:30:53,335 - fgvc-training - INFO - Epoch 4 - Save checkpoint with best validation accuracy: 0.546609\n",
      "2023-11-15 19:30:53,432 - fgvc-training - INFO - Epoch 4 - Save checkpoint with best validation recall@3: 0.754391\n",
      "2023-11-15 19:30:53,549 - fgvc-training - INFO - Epoch 4 - Save checkpoint with best validation f1: 0.397112\n",
      "/opt/conda/lib/python3.8/site-packages/torch/utils/data/dataloader.py:490: UserWarning: This DataLoader will create 12 worker processes in total. Our suggested max number of worker in current system is 6, which is smaller than what this DataLoader is going to create. Please be aware that excessive worker creation might get DataLoader running slow or even freeze, lower the worker number to avoid potential slowness/freeze if necessary.\n",
      "  warnings.warn(_create_warning_msg(\n",
      "100%|█████████████████████████████████████████| 511/511 [03:42<00:00,  2.30it/s]\n",
      "/opt/conda/lib/python3.8/site-packages/torch/utils/data/dataloader.py:490: UserWarning: This DataLoader will create 12 worker processes in total. Our suggested max number of worker in current system is 6, which is smaller than what this DataLoader is going to create. Please be aware that excessive worker creation might get DataLoader running slow or even freeze, lower the worker number to avoid potential slowness/freeze if necessary.\n",
      "  warnings.warn(_create_warning_msg(\n",
      "100%|███████████████████████████████████████████| 58/58 [00:28<00:00,  2.00it/s]\n",
      "2023-11-15 19:35:08,609 - fgvc-training - INFO - Epoch 5 - avg_train_loss: 1.3059\tavg_val_loss: 1.6824\tF1: 40.97%\tAccuracy: 55.44%\tRecall@3: 76.01%\ttime: 255s\n",
      "2023-11-15 19:35:08,625 - fgvc-training - INFO - Epoch 5 - Save checkpoint with best validation loss: 1.682364\n",
      "/opt/conda/lib/python3.8/site-packages/torch/nn/modules/module.py:1402: UserWarning: positional arguments and argument \"destination\" are deprecated. nn.Module.state_dict will not accept them in the future. Refer to https://pytorch.org/docs/master/generated/torch.nn.Module.html#torch.nn.Module.state_dict for details.\n",
      "  warnings.warn(\n",
      "2023-11-15 19:35:08,798 - fgvc-training - INFO - Epoch 5 - Save checkpoint with best validation accuracy: 0.554445\n",
      "2023-11-15 19:35:08,920 - fgvc-training - INFO - Epoch 5 - Save checkpoint with best validation recall@3: 0.760065\n",
      "2023-11-15 19:35:09,052 - fgvc-training - INFO - Epoch 5 - Save checkpoint with best validation f1: 0.409741\n",
      "/opt/conda/lib/python3.8/site-packages/torch/utils/data/dataloader.py:490: UserWarning: This DataLoader will create 12 worker processes in total. Our suggested max number of worker in current system is 6, which is smaller than what this DataLoader is going to create. Please be aware that excessive worker creation might get DataLoader running slow or even freeze, lower the worker number to avoid potential slowness/freeze if necessary.\n",
      "  warnings.warn(_create_warning_msg(\n",
      "100%|█████████████████████████████████████████| 511/511 [03:39<00:00,  2.33it/s]\n",
      "/opt/conda/lib/python3.8/site-packages/torch/utils/data/dataloader.py:490: UserWarning: This DataLoader will create 12 worker processes in total. Our suggested max number of worker in current system is 6, which is smaller than what this DataLoader is going to create. Please be aware that excessive worker creation might get DataLoader running slow or even freeze, lower the worker number to avoid potential slowness/freeze if necessary.\n",
      "  warnings.warn(_create_warning_msg(\n",
      "100%|███████████████████████████████████████████| 58/58 [00:29<00:00,  1.99it/s]\n",
      "2023-11-15 19:39:20,285 - fgvc-training - INFO - Epoch 6 - avg_train_loss: 1.1674\tavg_val_loss: 1.6593\tF1: 42.44%\tAccuracy: 55.82%\tRecall@3: 76.49%\ttime: 251s\n",
      "2023-11-15 19:39:20,290 - fgvc-training - INFO - Epoch 6 - Save checkpoint with best validation loss: 1.659268\n",
      "/opt/conda/lib/python3.8/site-packages/torch/nn/modules/module.py:1402: UserWarning: positional arguments and argument \"destination\" are deprecated. nn.Module.state_dict will not accept them in the future. Refer to https://pytorch.org/docs/master/generated/torch.nn.Module.html#torch.nn.Module.state_dict for details.\n",
      "  warnings.warn(\n",
      "2023-11-15 19:39:20,467 - fgvc-training - INFO - Epoch 6 - Save checkpoint with best validation accuracy: 0.558228\n",
      "2023-11-15 19:39:20,568 - fgvc-training - INFO - Epoch 6 - Save checkpoint with best validation recall@3: 0.764928\n",
      "2023-11-15 19:39:20,662 - fgvc-training - INFO - Epoch 6 - Save checkpoint with best validation f1: 0.424377\n",
      "/opt/conda/lib/python3.8/site-packages/torch/utils/data/dataloader.py:490: UserWarning: This DataLoader will create 12 worker processes in total. Our suggested max number of worker in current system is 6, which is smaller than what this DataLoader is going to create. Please be aware that excessive worker creation might get DataLoader running slow or even freeze, lower the worker number to avoid potential slowness/freeze if necessary.\n",
      "  warnings.warn(_create_warning_msg(\n",
      "100%|█████████████████████████████████████████| 511/511 [03:43<00:00,  2.29it/s]\n",
      "/opt/conda/lib/python3.8/site-packages/torch/utils/data/dataloader.py:490: UserWarning: This DataLoader will create 12 worker processes in total. Our suggested max number of worker in current system is 6, which is smaller than what this DataLoader is going to create. Please be aware that excessive worker creation might get DataLoader running slow or even freeze, lower the worker number to avoid potential slowness/freeze if necessary.\n",
      "  warnings.warn(_create_warning_msg(\n",
      "100%|███████████████████████████████████████████| 58/58 [00:28<00:00,  2.02it/s]\n",
      "2023-11-15 19:43:37,244 - fgvc-training - INFO - Epoch 7 - avg_train_loss: 1.0503\tavg_val_loss: 1.6427\tF1: 43.21%\tAccuracy: 56.07%\tRecall@3: 76.82%\ttime: 256s\n",
      "2023-11-15 19:43:37,252 - fgvc-training - INFO - Epoch 7 - Save checkpoint with best validation loss: 1.642703\n",
      "/opt/conda/lib/python3.8/site-packages/torch/nn/modules/module.py:1402: UserWarning: positional arguments and argument \"destination\" are deprecated. nn.Module.state_dict will not accept them in the future. Refer to https://pytorch.org/docs/master/generated/torch.nn.Module.html#torch.nn.Module.state_dict for details.\n",
      "  warnings.warn(\n",
      "2023-11-15 19:43:37,392 - fgvc-training - INFO - Epoch 7 - Save checkpoint with best validation accuracy: 0.560659\n",
      "2023-11-15 19:43:37,482 - fgvc-training - INFO - Epoch 7 - Save checkpoint with best validation recall@3: 0.768171\n",
      "2023-11-15 19:43:37,587 - fgvc-training - INFO - Epoch 7 - Save checkpoint with best validation f1: 0.432107\n",
      "/opt/conda/lib/python3.8/site-packages/torch/utils/data/dataloader.py:490: UserWarning: This DataLoader will create 12 worker processes in total. Our suggested max number of worker in current system is 6, which is smaller than what this DataLoader is going to create. Please be aware that excessive worker creation might get DataLoader running slow or even freeze, lower the worker number to avoid potential slowness/freeze if necessary.\n",
      "  warnings.warn(_create_warning_msg(\n",
      "  5%|██▏                                       | 26/511 [00:19<08:29,  1.05s/it]^C\n",
      "  5%|██▏                                       | 26/511 [00:20<06:13,  1.30it/s]\n"
     ]
    }
   ],
   "source": [
    "!python danishfungi2023_train.py \\\n",
    "    --config-path ../config/299_config.yaml \\\n",
    "    --cuda-devices 0 \\\n",
    "    --wandb-entity zcu_cv \\\n",
    "    --wandb-project DanishFungi2023"
   ]
  },
  {
   "cell_type": "code",
   "execution_count": null,
   "id": "fac33943-1056-493a-a8c8-fab9e7c1629d",
   "metadata": {},
   "outputs": [],
   "source": []
  }
 ],
 "metadata": {
  "kernelspec": {
   "display_name": "Python 3 (ipykernel)",
   "language": "python",
   "name": "python3"
  },
  "language_info": {
   "codemirror_mode": {
    "name": "ipython",
    "version": 3
   },
   "file_extension": ".py",
   "mimetype": "text/x-python",
   "name": "python",
   "nbconvert_exporter": "python",
   "pygments_lexer": "ipython3",
   "version": "3.8.13"
  }
 },
 "nbformat": 4,
 "nbformat_minor": 5
}
