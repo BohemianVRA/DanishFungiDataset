{
 "cells": [
  {
   "cell_type": "code",
   "execution_count": null,
   "id": "initial_id",
   "metadata": {
    "tags": []
   },
   "outputs": [],
   "source": [
    "import os.path as osp\n",
    "import random\n",
    "\n",
    "import matplotlib.pyplot as plt\n",
    "import numpy as np\n",
    "import pandas as pd\n",
    "import seaborn as sns\n",
    "from fontTools.misc.psOperators import ps_dict\n",
    "\n",
    "from sklearn.model_selection import train_test_split\n",
    "\n",
    "from sklearn import preprocessing\n"
   ]
  },
  {
   "cell_type": "code",
   "execution_count": null,
   "id": "73ef8ed6-a391-4422-ba4a-6b3f4bed759a",
   "metadata": {
    "tags": []
   },
   "outputs": [],
   "source": [
    "DATA_ROOT_PATH = \"../metadata\"\n",
    "SEED = 777\n",
    "np.random.seed(SEED)\n",
    "SPLIT_RATIO = 0.9\n",
    "\n",
    "\n",
    "data_df = pd.read_csv(osp.join(DATA_ROOT_PATH, \"FungiCLEF2023_train_metadata_PRODUCTION.csv\"))\n"
   ]
  },
  {
   "cell_type": "code",
   "execution_count": null,
   "outputs": [],
   "source": [
    "def make_mini() -> tuple[pd.DataFrame, pd.DataFrame, pd.DataFrame]:\n",
    "    train_mini = pd.read_csv(\"../metadata/DF20M-train_metadata_PROD.csv\")\n",
    "    test_mini = pd.read_csv(\"../metadata/DF20M-public_test_metadata_PROD.csv\")\n",
    "\n",
    "    df20m = pd.concat([train_mini, test_mini]).reset_index(drop=True)\n",
    "    return df20m, train_mini, test_mini\n",
    "\n",
    "df20m, train_mini, test_mini = make_mini()"
   ],
   "metadata": {
    "collapsed": false
   },
   "id": "74832c4d-1b27-4342-a5a1-4e19ff1768a2"
  },
  {
   "cell_type": "code",
   "execution_count": null,
   "outputs": [],
   "source": [
    "unique_genus = df20m[\"genus\"].unique()\n",
    "data_df = data_df[data_df[\"genus\"].isin(unique_genus)].reset_index(drop=True)"
   ],
   "metadata": {
    "collapsed": false
   },
   "id": "838e1a0d-c570-47d0-8c5d-4a49caca0250"
  },
  {
   "cell_type": "code",
   "execution_count": null,
   "id": "40b86b84-c0a5-475b-8dc6-981f6d0194ce",
   "metadata": {
    "tags": []
   },
   "outputs": [],
   "source": [
    "le = preprocessing.LabelEncoder()\n",
    "\n",
    "data_df['class_id'] = le.fit_transform(data_df['scientificName']).astype(np.int64)\n",
    "data_df.head()"
   ]
  },
  {
   "cell_type": "code",
   "execution_count": null,
   "outputs": [],
   "source": [
    "original_train_images = set(train_mini[\"ImageUniqueID\"])\n",
    "original_test_images = set(test_mini[\"ImageUniqueID\"])\n",
    "\n",
    "train_mini_observations = data_df[data_df[\"ImageUniqueID\"].isin(original_train_images)][\"observationID\"]\n",
    "train_mini_observations = train_mini_observations.unique()\n",
    "\n",
    "test_mini_observations = data_df[data_df[\"ImageUniqueID\"].isin(original_test_images)][\"observationID\"]\n",
    "test_mini_observations = test_mini_observations.unique()\n",
    "\n",
    "len(train_mini_observations), len(test_mini_observations)"
   ],
   "metadata": {
    "collapsed": false
   },
   "id": "ad4160e7b3829286"
  },
  {
   "cell_type": "code",
   "execution_count": null,
   "outputs": [],
   "source": [
    "sum(data_df[\"ImageUniqueID\"].isin(original_train_images)) + sum(data_df[\"ImageUniqueID\"].isin(original_test_images)) == len(data_df)"
   ],
   "metadata": {
    "collapsed": false
   },
   "id": "98330f8eaa8ba589"
  },
  {
   "cell_type": "code",
   "execution_count": null,
   "outputs": [],
   "source": [
    "overflown_obs = []\n",
    "for test_mini_observation in test_mini_observations:\n",
    "    if test_mini_observation in train_mini_observations:\n",
    "        overflown_obs.append(test_mini_observation)\n",
    "        \n",
    "len(overflown_obs)"
   ],
   "metadata": {
    "collapsed": false
   },
   "id": "dcf9e6c96ac51e63"
  },
  {
   "cell_type": "code",
   "execution_count": null,
   "outputs": [],
   "source": [
    "import os\n",
    "import matplotlib.pyplot as plt\n",
    "import matplotlib.image as mpimg\n",
    "\n",
    "\n",
    "LOCAL_DIR = \"../data/DF20M\"\n",
    "\n",
    "def plot_images_based_on_observationID(df: pd.DataFrame, obs: int):\n",
    "    observation_images = df[df[\"observationID\"] == obs]\n",
    "\n",
    "    observation_images[\"image_path\"] = observation_images.image_path.apply(\n",
    "        lambda path: os.path.join(LOCAL_DIR, os.path.basename(path)))\n",
    "    \n",
    "    num_rows = (len(observation_images) // 3) + int(len(observation_images)%3 != 0)\n",
    "    num_cols = min(len(observation_images), 3)  \n",
    "    # Create a subplot grid\n",
    "    fig, axes = plt.subplots(num_rows, num_cols, figsize=(12, 8))\n",
    "\n",
    "    # Flatten the axes array in case there's only one row or column\n",
    "    axes = axes.flatten()\n",
    "\n",
    "    # Iterate through the image paths and plot each image\n",
    "    for i, image_path in enumerate(observation_images[\"image_path\"]):\n",
    "        axes[i].imshow(mpimg.imread(image_path))\n",
    "        axes[i].axis('off')  # Turn off axis labels\n",
    "\n",
    "    # Adjust layout to prevent overlapping\n",
    "    plt.tight_layout()\n",
    "    \n",
    "    # Show the plot\n",
    "    plt.show()"
   ],
   "metadata": {
    "collapsed": false
   },
   "id": "b865689d3c98c896"
  },
  {
   "cell_type": "code",
   "execution_count": null,
   "outputs": [],
   "source": [
    "import random\n",
    "\n",
    "\n",
    "for i in range(100):\n",
    "    obs_id = overflown_obs[random.randint(0, len(overflown_obs)-1)]\n",
    "    print(f\"ObservationID: {obs_id}\", data_df[data_df[\"observationID\"] == obs_id][\"scientificName\"].unique())\n",
    "    plot_images_based_on_observationID(data_df, obs_id)\n",
    "    \n",
    "    assert obs_id in train_mini_observations and obs_id in test_mini_observations\n",
    "    \n",
    "\"\"\" Interesting observationIDs\n",
    "2238404539, 2238460869, 2424122260\n",
    "\n",
    "\"\"\"  "
   ],
   "metadata": {
    "collapsed": false
   },
   "id": "fa32cf9ff8716bd7"
  },
  {
   "cell_type": "code",
   "execution_count": null,
   "id": "aee33521-a00b-4df1-8276-9e78507ad00b",
   "metadata": {
    "tags": []
   },
   "outputs": [],
   "source": [
    "len(data_df[\"class_id\"].unique())"
   ]
  },
  {
   "cell_type": "code",
   "execution_count": null,
   "id": "f0cd693c-3b7a-435d-8a66-282d1d729870",
   "metadata": {
    "tags": []
   },
   "outputs": [],
   "source": [
    "train_indexes, val_indexes = [], []\n",
    "\n",
    "for class_id in data_df[\"class_id\"].unique():\n",
    "    single_class_data = data_df[data_df[\"class_id\"] == class_id]\n",
    "    observation_ids = single_class_data[\"observationID\"].unique()\n",
    "    \n",
    "    train_ids, val_ids = train_test_split(observation_ids, train_size=SPLIT_RATIO, random_state=SEED)\n",
    "    \n",
    "    # print(len(train_ids), len(val_ids))\n",
    "    \n",
    "    cls_train_idxs = list(data_df[data_df[\"observationID\"].isin(train_ids)].index)\n",
    "    cls_val_idxs = list(data_df[data_df[\"observationID\"].isin(val_ids)].index)\n",
    "    \n",
    "    assert len(set([*cls_train_idxs, *cls_val_idxs])) == len(cls_train_idxs) + len(cls_val_idxs)\n",
    "    \n",
    "    train_indexes += cls_train_idxs\n",
    "    val_indexes += cls_val_idxs\n",
    "\n",
    "train_df = data_df.iloc[train_indexes]\n",
    "val_df = data_df.iloc[val_indexes]\n",
    "    "
   ]
  },
  {
   "cell_type": "code",
   "execution_count": null,
   "id": "9dafbe65-864a-4d82-bc8b-20afbdcea4a5",
   "metadata": {
    "tags": []
   },
   "outputs": [],
   "source": [
    "assert all([obs_id not in set(train_df[\"observationID\"]) for obs_id in set(val_df[\"observationID\"])]) "
   ]
  },
  {
   "cell_type": "code",
   "execution_count": null,
   "id": "f8d78652-cd14-49aa-872b-92c0b3a55224",
   "metadata": {
    "tags": []
   },
   "outputs": [],
   "source": [
    "# original_col_order = data_df.columns.values\n",
    "# train_df = train_df[original_col_order]\n",
    "# val_df = val_df[original_col_order]\n",
    "train_df = train_df.sort_index()\n",
    "val_df = val_df.sort_index()\n",
    "\n",
    "len(train_df) / len(data_df)"
   ]
  },
  {
   "cell_type": "code",
   "execution_count": null,
   "id": "154540b2-8234-4031-b2b7-9159b7bcb092",
   "metadata": {
    "tags": []
   },
   "outputs": [],
   "source": [
    "from pathlib import Path\n",
    "\n",
    "image_pairs = pd.concat([train_df, val_df])[[\"ImageUniqueID\", \"image_path\"]]\n",
    "\n",
    "for ( img_id, img_path) in image_pairs.values:\n",
    "    assert img_id == Path(img_path).stem\n",
    "    orig_path = data_df[data_df[\"ImageUniqueID\"] == img_id][\"image_path\"].values[0]\n",
    "    assert img_id == Path(orig_path).stem\n",
    "    df20_orig_path = df20m[df20m[\"ImageUniqueID\"] == img_id][\"image_path\"].values[0]\n",
    "    assert img_id == Path(df20_orig_path).stem"
   ]
  },
  {
   "cell_type": "code",
   "execution_count": null,
   "id": "bc3c2a9c-09ee-4f2b-83bb-63d082a1c05d",
   "metadata": {
    "tags": []
   },
   "outputs": [],
   "source": [
    "train_df.to_csv(\"../metadata/DanishFungi2020M-train_mini-FIX02.csv\", index=False)\n",
    "val_df.to_csv(\"../metadata/DanishFungi2020M-val_mini-FIX02.csv\", index=False)"
   ]
  }
 ],
 "metadata": {
  "kernelspec": {
   "display_name": "Python 3 (ipykernel)",
   "language": "python",
   "name": "python3"
  },
  "language_info": {
   "codemirror_mode": {
    "name": "ipython",
    "version": 3
   },
   "file_extension": ".py",
   "mimetype": "text/x-python",
   "name": "python",
   "nbconvert_exporter": "python",
   "pygments_lexer": "ipython3",
   "version": "3.11.5"
  }
 },
 "nbformat": 4,
 "nbformat_minor": 5
}
