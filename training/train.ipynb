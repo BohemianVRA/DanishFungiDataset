{
 "cells": [
  {
   "cell_type": "code",
   "execution_count": null,
   "id": "3354cfc1-8399-442c-8ed6-ed2a45a971d0",
   "metadata": {},
   "outputs": [],
   "source": [
    "import os\n",
    "import pandas as pd\n",
    "import warnings\n",
    "\n",
    "warnings.filterwarnings(\"ignore\")"
   ]
  },
  {
   "cell_type": "code",
   "outputs": [],
   "source": [
    "!nvidia-smi"
   ],
   "metadata": {
    "collapsed": false
   },
   "id": "da809bb787e9e9ae"
  },
  {
   "cell_type": "markdown",
   "source": [
    "### Load metadata\n",
    "Change the path accordingly."
   ],
   "metadata": {
    "collapsed": false
   },
   "id": "d7a0520ec10736f"
  },
  {
   "cell_type": "code",
   "execution_count": null,
   "id": "170ded66-a4e2-4076-a31c-875bf6ecac9f",
   "metadata": {
    "tags": []
   },
   "outputs": [],
   "source": [
    "train_df = pd.read_csv(\"../metadata/DanishFungi2024-train_metadata.csv\")\n",
    "test_df = pd.read_csv(\"../metadata/DanishFungi2024-val_metadata.csv\")"
   ]
  },
  {
   "cell_type": "markdown",
   "source": [
    "### Environment variables\n",
    "Select which GPU to use and add your WANDB_ENTITY and WANDB_PROJECT you want to log into."
   ],
   "metadata": {
    "collapsed": false
   },
   "id": "b67368e494d40cdc"
  },
  {
   "cell_type": "code",
   "execution_count": null,
   "id": "f6fc25be-7c87-4d0c-bbb8-440f0be642b6",
   "metadata": {
    "tags": []
   },
   "outputs": [],
   "source": [
    "%env CUDA_DEVICES = .....\n",
    "%env WANDB_ENTITY = .....\n",
    "%env WANDB_PROJECT = .....\n",
    "\n",
    "os.environ[\"CUDA_VISIBLE_DEVICES\"] = os.environ[\"CUDA_DEVICES\"]"
   ]
  },
  {
   "cell_type": "markdown",
   "source": [
    "## Train single model with a config file."
   ],
   "metadata": {
    "collapsed": false
   },
   "id": "1b82180d29c8cf70"
  },
  {
   "cell_type": "code",
   "outputs": [],
   "source": [
    "!python train.py \\\n",
    "    --config-path ../config/default_config.yaml \\\n",
    "    --cuda-devices 0 \\\n",
    "    --wandb-entity os.environ[\"WANDB_ENTITY\"] \\\n",
    "    --wandb-project os.environ[\"CUDA_VISIBLE_DEVICES\"]"
   ],
   "metadata": {
    "collapsed": false
   },
   "id": "73d960e3824a024b"
  },
  {
   "cell_type": "markdown",
   "source": [
    "## Running Sweep Training "
   ],
   "metadata": {
    "collapsed": false
   },
   "id": "72af2f9e1431093b"
  },
  {
   "cell_type": "code",
   "execution_count": null,
   "id": "a3e4dad5-1b74-469f-ab41-a8f0ff25e905",
   "metadata": {},
   "outputs": [],
   "source": [
    "!wandb sweep ../sweep/DF24_224_sweep.yaml"
   ]
  },
  {
   "cell_type": "code",
   "execution_count": null,
   "id": "812990e2-2f66-4a37-a3e9-98497239c31c",
   "metadata": {},
   "outputs": [],
   "source": [
    "!wandb agent <WANDB_ENTITY>/<WANDB_PROJECT>/....."
   ]
  },
  {
   "cell_type": "code",
   "execution_count": null,
   "id": "a0af91b7-94f1-4ddd-a418-523588a249a9",
   "metadata": {
    "tags": []
   },
   "outputs": [],
   "source": []
  }
 ],
 "metadata": {
  "kernelspec": {
   "display_name": "Python 3 (ipykernel)",
   "language": "python",
   "name": "python3"
  },
  "language_info": {
   "codemirror_mode": {
    "name": "ipython",
    "version": 3
   },
   "file_extension": ".py",
   "mimetype": "text/x-python",
   "name": "python",
   "nbconvert_exporter": "python",
   "pygments_lexer": "ipython3",
   "version": "3.8.13"
  }
 },
 "nbformat": 4,
 "nbformat_minor": 5
}
