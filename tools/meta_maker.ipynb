{
 "cells": [
  {
   "cell_type": "code",
   "execution_count": null,
   "id": "de757701",
   "metadata": {
    "collapsed": false,
    "pycharm": {
     "name": "#%%\n"
    },
    "tags": []
   },
   "outputs": [],
   "source": [
    "import os.path as osp\n",
    "\n",
    "import matplotlib.pyplot as plt\n",
    "import numpy as np\n",
    "import pandas as pd\n",
    "import seaborn as sns\n",
    "\n",
    "from sklearn.model_selection import train_test_split\n"
   ]
  },
  {
   "cell_type": "code",
   "execution_count": null,
   "id": "f71cbdba-0538-4934-ba92-cdc09b74d5cd",
   "metadata": {
    "collapsed": false,
    "pycharm": {
     "name": "#%%\n"
    },
    "tags": []
   },
   "outputs": [],
   "source": [
    "DATA_ROOT_PATH = \"../metadata\"\n",
    "SEED = 777\n",
    "np.random.seed(SEED)\n",
    "SPLIT_RATIO = 0.9\n",
    "\n",
    "\n",
    "train_data_2023 = pd.read_csv(osp.join(DATA_ROOT_PATH, \"FungiCLEF2023_train_metadata_PRODUCTION.csv\"))\n",
    "# val_data = pd.read_csv(osp.join(DATA_ROOT_PATH, \"FungiCLEF2023_val_metadata_PRODUCTION.csv\"))\n",
    "# data_df = pd.concat([train_data, val_data])\n",
    "data_df = train_data_2023\n",
    "len(data_df)\n"
   ]
  },
  {
   "cell_type": "code",
   "execution_count": null,
   "outputs": [],
   "source": [
    "def make_df() -> pd.DataFrame:\n",
    "    train_df20 = pd.read_csv(osp.join(DATA_ROOT_PATH, \"DF20-train_metadata_PROD-2.csv\"))\n",
    "    test_df20  = pd.read_csv(osp.join(DATA_ROOT_PATH, \"DF20-public_test_metadata_PROD-2.csv\"))\n",
    "    df20 = pd.concat([train_df20, test_df20]).reset_index(drop=True)\n",
    "    return df20\n",
    "    "
   ],
   "metadata": {
    "collapsed": false
   },
   "id": "45bd21994a4c55c1"
  },
  {
   "cell_type": "code",
   "execution_count": null,
   "id": "998ac677",
   "metadata": {
    "collapsed": false,
    "pycharm": {
     "name": "#%%\n"
    },
    "tags": []
   },
   "outputs": [],
   "source": [
    "def make_mini() -> pd.DataFrame:\n",
    "    train_mini = pd.read_csv(\"../metadata/DF20M-train_metadata_PROD.csv\")\n",
    "    test_mini = pd.read_csv(\"../metadata/DF20M-public_test_metadata_PROD.csv\")\n",
    "\n",
    "    df20m = pd.concat([train_mini, test_mini]).reset_index(drop=True)\n",
    "\n",
    "    df20m = df20m.reset_index(drop=True)\n",
    "    return df20m\n",
    "    "
   ]
  },
  {
   "cell_type": "code",
   "execution_count": null,
   "id": "d1bdf695",
   "metadata": {
    "collapsed": false,
    "pycharm": {
     "name": "#%%\n"
    },
    "tags": []
   },
   "outputs": [],
   "source": [
    "MAKE_MINI = False\n",
    "if MAKE_MINI:\n",
    "    df20m = make_mini()\n",
    "    unique_genus = df20m[\"genus\"].unique()\n",
    "    data_df = data_df[data_df[\"genus\"].isin(unique_genus)].reset_index(drop=True)\n",
    "    assert len(df20m) == len(data_df), \"Not same length!\"\n",
    "else:\n",
    "    df20 = make_df()\n",
    "    unique_genus = df20[\"genus\"].unique()\n",
    "    data_df = data_df[data_df[\"genus\"].isin(unique_genus)].reset_index(drop=True)\n",
    "    assert len(df20) == len(data_df), \"Not same length!\"\n",
    "    \n",
    "len(data_df)\n"
   ]
  },
  {
   "cell_type": "code",
   "execution_count": null,
   "outputs": [],
   "source": [
    "data_df.head()"
   ],
   "metadata": {
    "collapsed": false
   },
   "id": "d93bcfb1728b3d90"
  },
  {
   "cell_type": "code",
   "execution_count": null,
   "id": "e26f0cf4",
   "metadata": {
    "collapsed": false,
    "pycharm": {
     "name": "#%% Relable\n"
    },
    "tags": []
   },
   "outputs": [],
   "source": [
    "if not \"class_id\" in data_df.columns.values:\n",
    "    from sklearn import preprocessing\n",
    "    \n",
    "    le = preprocessing.LabelEncoder()\n",
    "    \n",
    "    data_df = data_df.sort_values(\"scientificName\")\n",
    "    data_df['class_id'] = le.fit_transform(data_df['scientificName']).astype(np.int64)\n",
    "    data_df = data_df.sort_index()\n",
    "    data_df.head()"
   ]
  },
  {
   "cell_type": "code",
   "execution_count": null,
   "id": "d1b0b1d3-68ce-432e-ac6a-d2e36015c74c",
   "metadata": {
    "tags": []
   },
   "outputs": [],
   "source": [
    "print(len(data_df[\"class_id\"].unique()))\n",
    "class_counts = data_df.groupby(by=\"class_id\").count()[\"observationID\"].sort_values()\n",
    "class_counts.hist(bins=len(data_df[\"class_id\"].unique()))\n",
    "plt.show()"
   ]
  },
  {
   "cell_type": "code",
   "execution_count": null,
   "id": "1ef38040",
   "metadata": {
    "collapsed": false,
    "pycharm": {
     "name": "#%%\n"
    }
   },
   "outputs": [],
   "source": [
    "\n",
    "data_df.groupby(by=\"class_id\")[\"observationID\"].unique()"
   ]
  },
  {
   "cell_type": "code",
   "execution_count": null,
   "id": "9513031a",
   "metadata": {
    "collapsed": false,
    "pycharm": {
     "name": "#%%\n"
    },
    "tags": []
   },
   "outputs": [],
   "source": [
    "def initial_train_val_split(data_df):\n",
    "    in_class_unique_observation_ids = data_df.groupby(by=\"class_id\")[\"observationID\"].unique()\n",
    "\n",
    "    train_indexes, val_indexes = [], []\n",
    "    for single_class_obs_ids in in_class_unique_observation_ids:  # Observation IDs in one class\n",
    "        # Split the observations in the ratio\n",
    "        train_ids, val_ids = train_test_split(single_class_obs_ids, train_size=SPLIT_RATIO, random_state=SEED)\n",
    "        # Get indexes\n",
    "        train_indexes += list(data_df[data_df[\"observationID\"].isin(train_ids)].index)\n",
    "        val_indexes += list(data_df[data_df[\"observationID\"].isin(val_ids)].index)\n",
    "\n",
    "    train_df = data_df.iloc[train_indexes]\n",
    "    val_df = data_df.iloc[val_indexes]\n",
    "    return train_df, val_df\n"
   ]
  },
  {
   "cell_type": "code",
   "execution_count": null,
   "outputs": [],
   "source": [
    "def initial_train_val_split_class_only(data_df):\n",
    "    num_classes = len(data_df[\"class_id\"].unique())\n",
    "    train_indexes, val_indexes = [], []\n",
    "    for class_id in range(num_classes):\n",
    "        single_class_data = data_df[data_df[\"class_id\"] == class_id]\n",
    "        train_single_class, val_single_class = train_test_split(single_class_data, train_size=SPLIT_RATIO, random_state=SEED)\n",
    "        # Get indexes\n",
    "        train_indexes += list(train_single_class.index)\n",
    "        val_indexes += list(val_single_class.index)\n",
    "\n",
    "    train_df = data_df.iloc[train_indexes]\n",
    "    val_df = data_df.iloc[val_indexes]\n",
    "    return train_df, val_df\n",
    "    "
   ],
   "metadata": {
    "collapsed": false
   },
   "id": "831b984cc2d4f7be"
  },
  {
   "cell_type": "code",
   "execution_count": null,
   "outputs": [],
   "source": [
    "USE_OBS_SPLIT = True\n",
    "if USE_OBS_SPLIT:\n",
    "    train_df, val_df = initial_train_val_split(data_df)\n",
    "else:\n",
    "    train_df, val_df = initial_train_val_split_class_only(data_df)\n",
    "\n",
    "train_df.head()"
   ],
   "metadata": {
    "collapsed": false
   },
   "id": "cf45258384a932cf"
  },
  {
   "cell_type": "code",
   "execution_count": null,
   "outputs": [],
   "source": [
    "def plot_ratio_barplot(original_df, target_df, iteration=None, save=False):\n",
    "    in_class_ratios = target_df.groupby(by=\"class_id\").count()[\"observationID\"] / original_df.groupby(by=\"class_id\").count()[\"observationID\"]\n",
    "    in_class_ratios = in_class_ratios.sort_values()\n",
    "    ax = sns.barplot(\n",
    "        x=in_class_ratios.values,\n",
    "        y=in_class_ratios.index,\n",
    "        orient=\"h\",\n",
    "        order=in_class_ratios.index[::-1]\n",
    "    )\n",
    "    ax.set(xlabel='Train Ratio', ylabel='Class ID', title=f\"Iteration: {iteration}\" if iteration else \"\")\n",
    "    if save:\n",
    "        plt.savefig(f\"../metadata/final_distribution{'_mini' if MAKE_MINI else ''}.png\")\n",
    "    plt.show()\n",
    "    # print(original_df[\"observationID\"].isin(target_df[\"observationID\"]).sum())\n",
    "\n",
    "plot_ratio_barplot(data_df, train_df)\n",
    "plot_ratio_barplot(data_df, val_df)\n",
    "    "
   ],
   "metadata": {
    "collapsed": false
   },
   "id": "28d1e07e"
  },
  {
   "cell_type": "code",
   "execution_count": null,
   "id": "a5f23479",
   "metadata": {
    "collapsed": false,
    "pycharm": {
     "name": "#%%\n"
    },
    "tags": []
   },
   "outputs": [],
   "source": [
    "def move_data_by_threshold(\n",
    "        source_df: pd.DataFrame,\n",
    "        target_df: pd.DataFrame,\n",
    "        cls_threshold_sequence: pd.Series,\n",
    ") -> (pd.DataFrame, pd.DataFrame):\n",
    "\n",
    "    data_to_be_moved = []\n",
    "    try_to_move_from_target = []\n",
    "    for cls_ids_to_move in cls_threshold_sequence.index:\n",
    "        cls_data = source_df[source_df[\"class_id\"] == cls_ids_to_move]\n",
    "        if len(cls_data[\"observationID\"].unique()) > 1:\n",
    "            chosen_observation = np.random.choice(cls_data[\"observationID\"].unique())\n",
    "            data_to_be_moved.append(source_df[source_df[\"observationID\"] == chosen_observation])\n",
    "        else:  # Only single observation in source -> try to move a random observation from target\n",
    "            cls_data = target_df[target_df[\"class_id\"] == cls_ids_to_move]\n",
    "            if len(cls_data[\"observationID\"].unique()) > 1:\n",
    "                chosen_observation = np.random.choice(cls_data[\"observationID\"].unique())\n",
    "                try_to_move_from_target.append(target_df[target_df[\"observationID\"] == chosen_observation])\n",
    "\n",
    "    if data_to_be_moved:\n",
    "        data_to_be_moved = pd.concat(data_to_be_moved)\n",
    "        target_df = pd.concat([target_df, data_to_be_moved])\n",
    "        source_df = source_df.drop(data_to_be_moved.index)\n",
    "    if try_to_move_from_target:\n",
    "        try_to_move_from_target = pd.concat(try_to_move_from_target)\n",
    "        source_df = pd.concat([source_df, try_to_move_from_target])\n",
    "        target_df = target_df.drop(try_to_move_from_target.index)\n",
    "\n",
    "    return source_df, target_df\n",
    "    "
   ]
  },
  {
   "cell_type": "code",
   "execution_count": null,
   "id": "fc09be8b",
   "metadata": {
    "collapsed": false,
    "pycharm": {
     "name": "#%%\n"
    },
    "scrolled": true,
    "tags": []
   },
   "outputs": [],
   "source": [
    "TARGET_INTERVAL_SIZE = 0.015  #2\n",
    "NUM_ITERATIONS = 100\n",
    "\n",
    "for i in range(1, NUM_ITERATIONS+1):\n",
    "    in_class_ratios = train_df.groupby(by=\"class_id\").count()[\"observationID\"] / data_df.groupby(by=\"class_id\").count()[\"observationID\"]\n",
    "    down_threshold = in_class_ratios[in_class_ratios < SPLIT_RATIO - TARGET_INTERVAL_SIZE]\n",
    "    upper_threshold = in_class_ratios[in_class_ratios > SPLIT_RATIO + TARGET_INTERVAL_SIZE]\n",
    "    if len(upper_threshold) == 0 and len(down_threshold) == 0:\n",
    "        break\n",
    "\n",
    "    train_df, val_df = move_data_by_threshold(train_df, val_df, upper_threshold)\n",
    "    val_df, train_df = move_data_by_threshold(val_df, train_df, down_threshold)\n",
    "\n",
    "    if i % 10 == 0:\n",
    "        plot_ratio_barplot(data_df, train_df, iteration=i)\n",
    "        "
   ]
  },
  {
   "cell_type": "code",
   "execution_count": null,
   "id": "75686afa-4bbd-45e8-920f-3f1a9ccf9bf5",
   "metadata": {
    "tags": []
   },
   "outputs": [],
   "source": [
    "assert train_df[\"observationID\"].isin(val_df[\"observationID\"]).sum() == 0, \"Mixed observations!\"\n",
    "assert len(data_df) == (len(train_df) + len(val_df)), \"Start and end amount of data does not correspond!\"\n",
    "\n",
    "plot_ratio_barplot(data_df, train_df, save=False)\n",
    "\n",
    "original_col_order = data_df.columns.values\n",
    "train_df = train_df[original_col_order]\n",
    "val_df = val_df[original_col_order]\n",
    "train_df = train_df.sort_index()\n",
    "val_df = val_df.sort_index()\n",
    "\n",
    "len(train_df) / len(data_df)"
   ]
  },
  {
   "cell_type": "code",
   "execution_count": null,
   "id": "0f665dcc",
   "metadata": {
    "collapsed": false,
    "pycharm": {
     "name": "#%%\n"
    }
   },
   "outputs": [],
   "source": [
    "if MAKE_MINI:\n",
    "    train_df.to_csv(\"../metadata/DanishFungi2020M-train_metadata_FIX.csv\", index=False)\n",
    "    val_df.to_csv(\"../metadata/DanishFungi2020M-val_mini-BY-CLASS.csv\", index=False)\n",
    "else:\n",
    "    train_df.to_csv(\"../metadata/DanishFungi2020-val_metadata_FIX.csv\", index=False)\n",
    "    val_df.to_csv(\"../metadata/DanishFungi2020-val_metadata_FIX.csv\", index=False)"
   ]
  }
 ],
 "metadata": {
  "kernelspec": {
   "display_name": "Python 3 (ipykernel)",
   "language": "python",
   "name": "python3"
  },
  "language_info": {
   "codemirror_mode": {
    "name": "ipython",
    "version": 3
   },
   "file_extension": ".py",
   "mimetype": "text/x-python",
   "name": "python",
   "nbconvert_exporter": "python",
   "pygments_lexer": "ipython3",
   "version": "3.11.5"
  }
 },
 "nbformat": 4,
 "nbformat_minor": 5
}
