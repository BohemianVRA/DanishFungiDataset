{
 "cells": [
  {
   "cell_type": "code",
   "execution_count": 1,
   "id": "062d1082-d551-43c0-a7b0-4ed1fd657481",
   "metadata": {},
   "outputs": [
    {
     "name": "stdout",
     "output_type": "stream",
     "text": [
      "env: CUDA_DEVICES=1\n",
      "env: WANDB_ENTITY=zcu_cv\n",
      "env: WANDB_PROJECT=DanishFungi2023\n"
     ]
    }
   ],
   "source": [
    "%env CUDA_DEVICES = 1\n",
    "%env WANDB_ENTITY = zcu_cv\n",
    "%env WANDB_PROJECT = DanishFungi2023"
   ]
  },
  {
   "cell_type": "code",
   "execution_count": 2,
   "id": "62fef7b6-9a8f-4582-889d-6f4cff185be2",
   "metadata": {},
   "outputs": [
    {
     "name": "stdout",
     "output_type": "stream",
     "text": [
      "Thu Sep  7 12:14:09 2023       \n",
      "+-----------------------------------------------------------------------------+\n",
      "| NVIDIA-SMI 525.105.17   Driver Version: 525.105.17   CUDA Version: 12.0     |\n",
      "|-------------------------------+----------------------+----------------------+\n",
      "| GPU  Name        Persistence-M| Bus-Id        Disp.A | Volatile Uncorr. ECC |\n",
      "| Fan  Temp  Perf  Pwr:Usage/Cap|         Memory-Usage | GPU-Util  Compute M. |\n",
      "|                               |                      |               MIG M. |\n",
      "|===============================+======================+======================|\n",
      "|   0  NVIDIA A40          On   | 00000000:61:00.0 Off |                    0 |\n",
      "|  0%   36C    P8    21W / 300W |      0MiB / 46068MiB |      0%      Default |\n",
      "|                               |                      |                  N/A |\n",
      "+-------------------------------+----------------------+----------------------+\n",
      "|   1  NVIDIA A40          On   | 00000000:81:00.0 Off |                    0 |\n",
      "|  0%   33C    P8    18W / 300W |      0MiB / 46068MiB |      0%      Default |\n",
      "|                               |                      |                  N/A |\n",
      "+-------------------------------+----------------------+----------------------+\n",
      "                                                                               \n",
      "+-----------------------------------------------------------------------------+\n",
      "| Processes:                                                                  |\n",
      "|  GPU   GI   CI        PID   Type   Process name                  GPU Memory |\n",
      "|        ID   ID                                                   Usage      |\n",
      "|=============================================================================|\n",
      "|  No running processes found                                                 |\n",
      "+-----------------------------------------------------------------------------+\n"
     ]
    }
   ],
   "source": [
    "!nvidia-smi"
   ]
  },
  {
   "cell_type": "code",
   "execution_count": 3,
   "id": "a1e213e5-8a30-493d-8760-bba524949867",
   "metadata": {
    "tags": []
   },
   "outputs": [],
   "source": [
    "import os\n",
    "os.environ[\"CUDA_VISIBLE_DEVICES\"] = os.environ[\"CUDA_DEVICES\"]"
   ]
  },
  {
   "cell_type": "code",
   "execution_count": 4,
   "id": "58e4529b-f2e8-4f7c-91d5-4048cd2480a2",
   "metadata": {},
   "outputs": [
    {
     "name": "stdout",
     "output_type": "stream",
     "text": [
      "(script) INFO: Loading training config.\n",
      "(script) DEBUG: Extra arguments passed to the script: {}\n",
      "(script) INFO: Setting run name: vit_small_patch8_224.dino-CrossEntropyLoss-light\n",
      "(script) INFO: Using experiment directory: ./runs/vit_small_patch8_224.dino-CrossEntropyLoss-light/exp1\n",
      "(script) INFO: Using training configuration: {\n",
      "    \"augmentations\": \"light\",\n",
      "    \"image_size\": [\n",
      "        224,\n",
      "        224\n",
      "    ],\n",
      "    \"dataset\": \"DanishFungi2023-v0.1\",\n",
      "    \"architecture\": \"vit_small_patch8_224.dino\",\n",
      "    \"loss\": \"CrossEntropyLoss\",\n",
      "    \"optimizer\": \"SGD\",\n",
      "    \"scheduler\": \"cosine\",\n",
      "    \"epochs\": 100,\n",
      "    \"learning_rate\": 0.01,\n",
      "    \"batch_size\": 64,\n",
      "    \"accumulation_steps\": 4,\n",
      "    \"random_seed\": 777,\n",
      "    \"workers\": 12,\n",
      "    \"multigpu\": false,\n",
      "    \"tags\": [\n",
      "        \"Fine-tuning\",\n",
      "        \"Dino\",\n",
      "        \"DanishFungi2023\"\n",
      "    ],\n",
      "    \"root_path\": \"./\",\n",
      "    \"run_name\": \"vit_small_patch8_224.dino-CrossEntropyLoss-light\",\n",
      "    \"exp_name\": \"exp1\",\n",
      "    \"exp_path\": \"./runs/vit_small_patch8_224.dino-CrossEntropyLoss-light/exp1\"\n",
      "}\n",
      "(fgvc) INFO: Using device: cuda (1)\n",
      "(fgvc) INFO: Device names: 0: NVIDIA A40\n",
      "(script) INFO: Loading training and validation metadata.\n",
      "(script) INFO: Creating model, optimizer, and scheduler.\n",
      "(fgvc) DEBUG: Setting new prediction head with random initial weights.\n",
      "(script) INFO: Creating DataLoaders.\n",
      "(script) INFO: Creating loss function.\n",
      "\u001b[34m\u001b[1mwandb\u001b[0m: Currently logged in as: \u001b[33mpicekl\u001b[0m (\u001b[33mzcu_cv\u001b[0m). Use \u001b[1m`wandb login --relogin`\u001b[0m to force relogin\n",
      "\u001b[34m\u001b[1mwandb\u001b[0m: wandb version 0.15.10 is available!  To upgrade, please run:\n",
      "\u001b[34m\u001b[1mwandb\u001b[0m:  $ pip install wandb --upgrade\n",
      "\u001b[34m\u001b[1mwandb\u001b[0m: Tracking run with wandb version 0.13.11\n",
      "\u001b[34m\u001b[1mwandb\u001b[0m: Run data is saved locally in \u001b[35m\u001b[1m/auto/plzen4-ntis/home/picekl/Projects/DanishFungiDataset/wandb/run-20230907_121439-6fbix9rw\u001b[0m\n",
      "\u001b[34m\u001b[1mwandb\u001b[0m: Run \u001b[1m`wandb offline`\u001b[0m to turn off syncing.\n",
      "\u001b[34m\u001b[1mwandb\u001b[0m: Syncing run \u001b[33mvit_small_patch8_224.dino-CrossEntropyLoss-light\u001b[0m\n",
      "\u001b[34m\u001b[1mwandb\u001b[0m: ⭐️ View project at \u001b[34m\u001b[4mhttps://wandb.ai/zcu_cv/DanishFungi2023\u001b[0m\n",
      "\u001b[34m\u001b[1mwandb\u001b[0m: 🚀 View run at \u001b[34m\u001b[4mhttps://wandb.ai/zcu_cv/DanishFungi2023/runs/6fbix9rw\u001b[0m\n",
      "(script) INFO: Training the model.\n",
      "2023-09-07 12:14:41,514 - fgvc-training - INFO - Training started.\n",
      " 17%|██████▊                                 | 713/4162 [07:31<36:02,  1.59it/s]/storage/plzen4-ntis/home/picekl/.local-carnivore_id_v22_12_0.sif/lib/python3.8/site-packages/PIL/Image.py:3011: DecompressionBombWarning: Image size (108000000 pixels) exceeds limit of 89478485 pixels, could be decompression bomb DOS attack.\n",
      "  warnings.warn(\n",
      " 17%|██████▉                                 | 723/4162 [07:37<36:05,  1.59it/s]/storage/plzen4-ntis/home/picekl/.local-carnivore_id_v22_12_0.sif/lib/python3.8/site-packages/PIL/Image.py:3011: DecompressionBombWarning: Image size (108000000 pixels) exceeds limit of 89478485 pixels, could be decompression bomb DOS attack.\n",
      "  warnings.warn(\n",
      "100%|███████████████████████████████████████| 4162/4162 [43:39<00:00,  1.59it/s]\n",
      "100%|█████████████████████████████████████████| 463/463 [04:05<00:00,  1.89it/s]\n",
      "2023-09-07 13:02:33,035 - fgvc-training - INFO - Epoch 1 - avg_train_loss: 6.6432\tavg_val_loss: 6.0842\tF1: 0.45%\tAccuracy: 4.03%\tRecall@3: 8.52%\ttime: 2872s\n",
      "2023-09-07 13:02:33,041 - fgvc-training - INFO - Epoch 1 - Save checkpoint with best validation loss: 6.084245\n",
      "2023-09-07 13:02:33,580 - fgvc-training - INFO - Epoch 1 - Save checkpoint with best validation accuracy: 0.040327\n",
      "2023-09-07 13:02:33,966 - fgvc-training - INFO - Epoch 1 - Save checkpoint with best validation recall@3: 0.085218\n",
      "2023-09-07 13:02:34,421 - fgvc-training - INFO - Epoch 1 - Save checkpoint with best validation f1: 0.004493\n",
      " 58%|██████████████████████▍                | 2395/4162 [25:12<18:34,  1.59it/s]/storage/plzen4-ntis/home/picekl/.local-carnivore_id_v22_12_0.sif/lib/python3.8/site-packages/PIL/Image.py:3011: DecompressionBombWarning: Image size (108000000 pixels) exceeds limit of 89478485 pixels, could be decompression bomb DOS attack.\n",
      "  warnings.warn(\n",
      " 98%|██████████████████████████████████████▏| 4076/4162 [42:50<00:54,  1.59it/s]/storage/plzen4-ntis/home/picekl/.local-carnivore_id_v22_12_0.sif/lib/python3.8/site-packages/PIL/Image.py:3011: DecompressionBombWarning: Image size (108000000 pixels) exceeds limit of 89478485 pixels, could be decompression bomb DOS attack.\n",
      "  warnings.warn(\n",
      "100%|███████████████████████████████████████| 4162/4162 [43:44<00:00,  1.59it/s]\n",
      "100%|█████████████████████████████████████████| 463/463 [04:03<00:00,  1.90it/s]\n",
      "2023-09-07 13:50:29,657 - fgvc-training - INFO - Epoch 2 - avg_train_loss: 5.7075\tavg_val_loss: 5.3695\tF1: 1.61%\tAccuracy: 8.32%\tRecall@3: 16.61%\ttime: 2874s\n",
      "2023-09-07 13:50:29,662 - fgvc-training - INFO - Epoch 2 - Save checkpoint with best validation loss: 5.369514\n",
      "2023-09-07 13:50:30,032 - fgvc-training - INFO - Epoch 2 - Save checkpoint with best validation accuracy: 0.083190\n",
      "2023-09-07 13:50:30,361 - fgvc-training - INFO - Epoch 2 - Save checkpoint with best validation recall@3: 0.166143\n",
      "2023-09-07 13:50:30,680 - fgvc-training - INFO - Epoch 2 - Save checkpoint with best validation f1: 0.016055\n",
      "  3%|█▎                                      | 131/4162 [01:28<42:15,  1.59it/s]/storage/plzen4-ntis/home/picekl/.local-carnivore_id_v22_12_0.sif/lib/python3.8/site-packages/PIL/Image.py:3011: DecompressionBombWarning: Image size (108000000 pixels) exceeds limit of 89478485 pixels, could be decompression bomb DOS attack.\n",
      "  warnings.warn(\n",
      " 57%|██████████████████████                 | 2355/4162 [24:48<18:55,  1.59it/s]/storage/plzen4-ntis/home/picekl/.local-carnivore_id_v22_12_0.sif/lib/python3.8/site-packages/PIL/Image.py:3011: DecompressionBombWarning: Image size (108000000 pixels) exceeds limit of 89478485 pixels, could be decompression bomb DOS attack.\n",
      "  warnings.warn(\n",
      " 77%|██████████████████████████████▏        | 3220/4162 [33:52<09:50,  1.59it/s]"
     ]
    }
   ],
   "source": [
    "!python danishfungi2023_train.py \\\n",
    "    --config-path configs/vit_small_patch8_224.dino.yaml \\\n",
    "    --cuda-devices $CUDA_DEVICES \\\n",
    "    --wandb-entity $WANDB_ENTITY \\\n",
    "    --wandb-project $WANDB_PROJECT"
   ]
  },
  {
   "cell_type": "code",
   "execution_count": null,
   "id": "a2141b7c-9037-4d93-b8a1-ec799ea4bb30",
   "metadata": {},
   "outputs": [],
   "source": []
  }
 ],
 "metadata": {
  "kernelspec": {
   "display_name": "Python 3 (ipykernel)",
   "language": "python",
   "name": "python3"
  },
  "language_info": {
   "codemirror_mode": {
    "name": "ipython",
    "version": 3
   },
   "file_extension": ".py",
   "mimetype": "text/x-python",
   "name": "python",
   "nbconvert_exporter": "python",
   "pygments_lexer": "ipython3",
   "version": "3.8.10"
  }
 },
 "nbformat": 4,
 "nbformat_minor": 5
}
